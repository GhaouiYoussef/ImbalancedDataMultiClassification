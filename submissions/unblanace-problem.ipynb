{
 "cells": [
  {
   "cell_type": "markdown",
   "metadata": {
    "id": "QgEc4aC_eHvY"
   },
   "source": [
    "# Telangana Crop Health Challenge\n",
    "---\n",
    "###  Can you predict the health status of crops?\n",
    "\n",
    "\n",
    "\n",
    "\n",
    "---\n",
    "\n"
   ]
  },
  {
   "cell_type": "markdown",
   "metadata": {
    "id": "PBbqmfc8egYe"
   },
   "source": [
    "# Setup Notebook"
   ]
  },
  {
   "cell_type": "code",
   "execution_count": 1,
   "metadata": {
    "execution": {
     "iopub.execute_input": "2025-02-05T19:56:03.876308Z",
     "iopub.status.busy": "2025-02-05T19:56:03.875957Z",
     "iopub.status.idle": "2025-02-05T19:56:12.167687Z",
     "shell.execute_reply": "2025-02-05T19:56:12.166184Z",
     "shell.execute_reply.started": "2025-02-05T19:56:03.876267Z"
    },
    "id": "wDC8mC0N2pyp"
   },
   "outputs": [],
   "source": [
    "%%capture\n",
    "!pip install earthengine-api geopandas rasterio rasterstats shapely"
   ]
  },
  {
   "cell_type": "markdown",
   "metadata": {
    "id": "4NxUOE8jfCV9"
   },
   "source": [
    "# Libraries and Modules Import"
   ]
  },
  {
   "cell_type": "code",
   "execution_count": 2,
   "metadata": {
    "execution": {
     "iopub.execute_input": "2025-02-05T19:56:12.169580Z",
     "iopub.status.busy": "2025-02-05T19:56:12.169185Z",
     "iopub.status.idle": "2025-02-05T19:56:21.157761Z",
     "shell.execute_reply": "2025-02-05T19:56:21.156475Z",
     "shell.execute_reply.started": "2025-02-05T19:56:12.169545Z"
    },
    "id": "yGg1Cyv02_bQ",
    "outputId": "9a11846e-1320-4c33-b396-9d9d81ad70b8"
   },
   "outputs": [],
   "source": [
    "# Standard Library Imports\n",
    "from concurrent.futures import ThreadPoolExecutor, as_completed\n",
    "from joblib import Parallel, delayed\n",
    "from tqdm import tqdm\n",
    "from datetime import datetime\n",
    "from pathlib import Path\n",
    "import os\n",
    "import random\n",
    "\n",
    "# Third-Party Imports\n",
    "import ee\n",
    "import geemap\n",
    "import matplotlib.pyplot as plt\n",
    "import numpy as np\n",
    "import pandas as pd\n",
    "import rasterio\n",
    "from lightgbm import LGBMClassifier\n",
    "from shapely.affinity import scale, translate\n",
    "from skimage import exposure\n",
    "from sklearn.metrics import classification_report, f1_score\n",
    "from sklearn.model_selection import StratifiedKFold, train_test_split\n",
    "from sklearn.preprocessing import LabelEncoder\n",
    "\n",
    "from shapely import wkt\n",
    "import geopandas as gpd\n",
    "\n",
    "import warnings\n",
    "warnings.filterwarnings('ignore')\n",
    "\n",
    "import logging\n",
    "# Set up a logger to capture Rasterio warnings\n",
    "logging.getLogger(\"rasterio._env\").setLevel(logging.ERROR)"
   ]
  },
  {
   "cell_type": "markdown",
   "metadata": {
    "id": "6Dzgl65yfqYN"
   },
   "source": [
    "# Project Setup and Earth Engine Initialization"
   ]
  },
  {
   "cell_type": "code",
   "execution_count": 3,
   "metadata": {
    "execution": {
     "iopub.execute_input": "2025-02-05T19:56:21.159834Z",
     "iopub.status.busy": "2025-02-05T19:56:21.158913Z",
     "iopub.status.idle": "2025-02-05T19:56:21.167552Z",
     "shell.execute_reply": "2025-02-05T19:56:21.166365Z",
     "shell.execute_reply.started": "2025-02-05T19:56:21.159795Z"
    },
    "id": "8aXKLcU9fvU1",
    "outputId": "3bdd7a2a-b180-4f21-8bb1-2231209b9d6c"
   },
   "outputs": [
    {
     "data": {
      "text/html": [
       "\n",
       "            <style>\n",
       "                .geemap-dark {\n",
       "                    --jp-widgets-color: white;\n",
       "                    --jp-widgets-label-color: white;\n",
       "                    --jp-ui-font-color1: white;\n",
       "                    --jp-layout-color2: #454545;\n",
       "                    background-color: #383838;\n",
       "                }\n",
       "\n",
       "                .geemap-dark .jupyter-button {\n",
       "                    --jp-layout-color3: #383838;\n",
       "                }\n",
       "\n",
       "                .geemap-colab {\n",
       "                    background-color: var(--colab-primary-surface-color, white);\n",
       "                }\n",
       "\n",
       "                .geemap-colab .jupyter-button {\n",
       "                    --jp-layout-color3: var(--colab-primary-surface-color, white);\n",
       "                }\n",
       "            </style>\n",
       "            "
      ],
      "text/plain": [
       "<IPython.core.display.HTML object>"
      ]
     },
     "metadata": {},
     "output_type": "display_data"
    }
   ],
   "source": [
    "# Define the root path for the project\n",
    "root_path = Path(\"/kaggle/input/telangana\")"
   ]
  },
  {
   "cell_type": "markdown",
   "metadata": {
    "id": "FX3ISF5IgMYE"
   },
   "source": [
    "# Data Loading and Preprocessing"
   ]
  },
  {
   "cell_type": "markdown",
   "metadata": {
    "id": "o8zjh8xTgNMs"
   },
   "source": [
    "**Load Train and Test**"
   ]
  },
  {
   "cell_type": "code",
   "execution_count": 4,
   "metadata": {
    "execution": {
     "iopub.execute_input": "2025-02-05T19:56:21.169310Z",
     "iopub.status.busy": "2025-02-05T19:56:21.168879Z",
     "iopub.status.idle": "2025-02-05T19:56:21.343769Z",
     "shell.execute_reply": "2025-02-05T19:56:21.342504Z",
     "shell.execute_reply.started": "2025-02-05T19:56:21.169252Z"
    },
    "id": "IY6BGNs_3JfK",
    "outputId": "1e45376c-540d-4523-dcf7-71d31246529a"
   },
   "outputs": [
    {
     "data": {
      "text/html": [
       "\n",
       "            <style>\n",
       "                .geemap-dark {\n",
       "                    --jp-widgets-color: white;\n",
       "                    --jp-widgets-label-color: white;\n",
       "                    --jp-ui-font-color1: white;\n",
       "                    --jp-layout-color2: #454545;\n",
       "                    background-color: #383838;\n",
       "                }\n",
       "\n",
       "                .geemap-dark .jupyter-button {\n",
       "                    --jp-layout-color3: #383838;\n",
       "                }\n",
       "\n",
       "                .geemap-colab {\n",
       "                    background-color: var(--colab-primary-surface-color, white);\n",
       "                }\n",
       "\n",
       "                .geemap-colab .jupyter-button {\n",
       "                    --jp-layout-color3: var(--colab-primary-surface-color, white);\n",
       "                }\n",
       "            </style>\n",
       "            "
      ],
      "text/plain": [
       "<IPython.core.display.HTML object>"
      ]
     },
     "metadata": {},
     "output_type": "display_data"
    }
   ],
   "source": [
    "# Load training and testing datasets from CSV files\n",
    "root_path =Path('/kaggle/input/telangana')\n",
    "train = pd.read_csv(root_path / 'Train.csv')\n",
    "test = pd.read_csv(root_path / 'Test.csv')"
   ]
  },
  {
   "cell_type": "markdown",
   "metadata": {
    "id": "0w0j8JXhgcT5"
   },
   "source": [
    "**Convert Geometry Columns to Geospatial Format**"
   ]
  },
  {
   "cell_type": "code",
   "execution_count": 5,
   "metadata": {
    "execution": {
     "iopub.execute_input": "2025-02-05T19:56:21.345148Z",
     "iopub.status.busy": "2025-02-05T19:56:21.344725Z",
     "iopub.status.idle": "2025-02-05T19:56:21.582265Z",
     "shell.execute_reply": "2025-02-05T19:56:21.581129Z",
     "shell.execute_reply.started": "2025-02-05T19:56:21.345108Z"
    },
    "id": "2VMdtK6nPiT-",
    "outputId": "b902d1b2-ab83-4420-8064-74749c652357"
   },
   "outputs": [
    {
     "data": {
      "text/html": [
       "\n",
       "            <style>\n",
       "                .geemap-dark {\n",
       "                    --jp-widgets-color: white;\n",
       "                    --jp-widgets-label-color: white;\n",
       "                    --jp-ui-font-color1: white;\n",
       "                    --jp-layout-color2: #454545;\n",
       "                    background-color: #383838;\n",
       "                }\n",
       "\n",
       "                .geemap-dark .jupyter-button {\n",
       "                    --jp-layout-color3: #383838;\n",
       "                }\n",
       "\n",
       "                .geemap-colab {\n",
       "                    background-color: var(--colab-primary-surface-color, white);\n",
       "                }\n",
       "\n",
       "                .geemap-colab .jupyter-button {\n",
       "                    --jp-layout-color3: var(--colab-primary-surface-color, white);\n",
       "                }\n",
       "            </style>\n",
       "            "
      ],
      "text/plain": [
       "<IPython.core.display.HTML object>"
      ]
     },
     "metadata": {},
     "output_type": "display_data"
    }
   ],
   "source": [
    "# Convert WKT geometry to actual geometry objects in both datasets\n",
    "train['geometry'] = train['geometry'].apply(wkt.loads)\n",
    "test['geometry'] = test['geometry'].apply(wkt.loads)"
   ]
  },
  {
   "cell_type": "markdown",
   "metadata": {
    "id": "4PePPSBsgqGN"
   },
   "source": [
    "**Convert DataFrames to GeoDataFrames**"
   ]
  },
  {
   "cell_type": "code",
   "execution_count": 6,
   "metadata": {
    "execution": {
     "iopub.execute_input": "2025-02-05T19:56:21.585200Z",
     "iopub.status.busy": "2025-02-05T19:56:21.584862Z",
     "iopub.status.idle": "2025-02-05T19:56:21.652668Z",
     "shell.execute_reply": "2025-02-05T19:56:21.651423Z",
     "shell.execute_reply.started": "2025-02-05T19:56:21.585174Z"
    },
    "id": "bNT00SHOgp-d",
    "outputId": "f4f92c96-89f6-43d3-a141-0bd1f4aed2c5"
   },
   "outputs": [
    {
     "data": {
      "text/html": [
       "\n",
       "            <style>\n",
       "                .geemap-dark {\n",
       "                    --jp-widgets-color: white;\n",
       "                    --jp-widgets-label-color: white;\n",
       "                    --jp-ui-font-color1: white;\n",
       "                    --jp-layout-color2: #454545;\n",
       "                    background-color: #383838;\n",
       "                }\n",
       "\n",
       "                .geemap-dark .jupyter-button {\n",
       "                    --jp-layout-color3: #383838;\n",
       "                }\n",
       "\n",
       "                .geemap-colab {\n",
       "                    background-color: var(--colab-primary-surface-color, white);\n",
       "                }\n",
       "\n",
       "                .geemap-colab .jupyter-button {\n",
       "                    --jp-layout-color3: var(--colab-primary-surface-color, white);\n",
       "                }\n",
       "            </style>\n",
       "            "
      ],
      "text/plain": [
       "<IPython.core.display.HTML object>"
      ]
     },
     "metadata": {},
     "output_type": "display_data"
    }
   ],
   "source": [
    "# Convert pandas DataFrames to GeoDataFrames with CRS set to 'epsg:4326'\n",
    "train = gpd.GeoDataFrame(train, crs='epsg:4326')\n",
    "test = gpd.GeoDataFrame(test, crs='epsg:4326')"
   ]
  },
  {
   "cell_type": "markdown",
   "metadata": {
    "id": "RsHE4ZpYg25J"
   },
   "source": [
    "**Concatenate Train and Test Data for Unified Processing**"
   ]
  },
  {
   "cell_type": "code",
   "execution_count": 7,
   "metadata": {
    "execution": {
     "iopub.execute_input": "2025-02-05T19:56:21.655092Z",
     "iopub.status.busy": "2025-02-05T19:56:21.654766Z",
     "iopub.status.idle": "2025-02-05T19:56:21.681724Z",
     "shell.execute_reply": "2025-02-05T19:56:21.680642Z",
     "shell.execute_reply.started": "2025-02-05T19:56:21.655065Z"
    },
    "id": "1Oq15hAGgp7l",
    "outputId": "1058b8c9-31bf-48a7-d67b-8dd64be05e6c"
   },
   "outputs": [
    {
     "data": {
      "text/html": [
       "\n",
       "            <style>\n",
       "                .geemap-dark {\n",
       "                    --jp-widgets-color: white;\n",
       "                    --jp-widgets-label-color: white;\n",
       "                    --jp-ui-font-color1: white;\n",
       "                    --jp-layout-color2: #454545;\n",
       "                    background-color: #383838;\n",
       "                }\n",
       "\n",
       "                .geemap-dark .jupyter-button {\n",
       "                    --jp-layout-color3: #383838;\n",
       "                }\n",
       "\n",
       "                .geemap-colab {\n",
       "                    background-color: var(--colab-primary-surface-color, white);\n",
       "                }\n",
       "\n",
       "                .geemap-colab .jupyter-button {\n",
       "                    --jp-layout-color3: var(--colab-primary-surface-color, white);\n",
       "                }\n",
       "            </style>\n",
       "            "
      ],
      "text/plain": [
       "<IPython.core.display.HTML object>"
      ]
     },
     "metadata": {},
     "output_type": "display_data"
    }
   ],
   "source": [
    "# Concatenate train and test datasets into a single DataFrame for consistent processing\n",
    "# 'dataset' column distinguishes between train and test rows\n",
    "data = pd.concat(\n",
    "    [train.assign(dataset='train'), test.assign(dataset='test')]\n",
    ").reset_index(drop=True)\n"
   ]
  },
  {
   "cell_type": "markdown",
   "metadata": {
    "id": "q68bgnq2hJoM"
   },
   "source": [
    "**Scale Geometry Objects**"
   ]
  },
  {
   "cell_type": "code",
   "execution_count": 8,
   "metadata": {
    "execution": {
     "iopub.execute_input": "2025-02-05T19:56:21.683466Z",
     "iopub.status.busy": "2025-02-05T19:56:21.682942Z",
     "iopub.status.idle": "2025-02-05T19:56:21.691895Z",
     "shell.execute_reply": "2025-02-05T19:56:21.690524Z",
     "shell.execute_reply.started": "2025-02-05T19:56:21.683423Z"
    },
    "id": "WZPQN9JQgp3r",
    "outputId": "df618687-be52-4f6d-f1cb-e22810570a22"
   },
   "outputs": [
    {
     "data": {
      "text/html": [
       "\n",
       "            <style>\n",
       "                .geemap-dark {\n",
       "                    --jp-widgets-color: white;\n",
       "                    --jp-widgets-label-color: white;\n",
       "                    --jp-ui-font-color1: white;\n",
       "                    --jp-layout-color2: #454545;\n",
       "                    background-color: #383838;\n",
       "                }\n",
       "\n",
       "                .geemap-dark .jupyter-button {\n",
       "                    --jp-layout-color3: #383838;\n",
       "                }\n",
       "\n",
       "                .geemap-colab {\n",
       "                    background-color: var(--colab-primary-surface-color, white);\n",
       "                }\n",
       "\n",
       "                .geemap-colab .jupyter-button {\n",
       "                    --jp-layout-color3: var(--colab-primary-surface-color, white);\n",
       "                }\n",
       "            </style>\n",
       "            "
      ],
      "text/plain": [
       "<IPython.core.display.HTML object>"
      ]
     },
     "metadata": {},
     "output_type": "display_data"
    }
   ],
   "source": [
    "# Function to scale each geometry around its centroid\n",
    "def scale_geometry(geometry, scale_factor):\n",
    "    \"\"\"\n",
    "    Scale a geometry object around its centroid.\n",
    "\n",
    "    Parameters:\n",
    "        geometry (shapely.geometry.base.BaseGeometry): Geometry to scale.\n",
    "        scale_factor (float): Factor by which to scale the geometry.\n",
    "\n",
    "    Returns:\n",
    "        shapely.geometry.base.BaseGeometry: Scaled geometry object.\n",
    "    \"\"\"\n",
    "    # Calculate centroid\n",
    "    centroid = geometry.centroid\n",
    "    # Translate geometry to origin\n",
    "    translated_geometry = translate(geometry, -centroid.x, -centroid.y)\n",
    "    # Scale geometry\n",
    "    scaled_geometry = scale(translated_geometry, xfact=scale_factor, yfact=scale_factor, origin=(0, 0))\n",
    "    # Translate back to the original centroid\n",
    "    return translate(scaled_geometry, centroid.x, centroid.y)"
   ]
  },
  {
   "cell_type": "code",
   "execution_count": 9,
   "metadata": {
    "execution": {
     "iopub.execute_input": "2025-02-05T19:56:21.693633Z",
     "iopub.status.busy": "2025-02-05T19:56:21.693223Z",
     "iopub.status.idle": "2025-02-05T19:56:23.702552Z",
     "shell.execute_reply": "2025-02-05T19:56:23.701388Z",
     "shell.execute_reply.started": "2025-02-05T19:56:21.693589Z"
    },
    "id": "U8jtkV5qgp1d",
    "outputId": "7a124ec5-5c66-4719-fbcf-4a807695b554"
   },
   "outputs": [
    {
     "data": {
      "text/html": [
       "\n",
       "            <style>\n",
       "                .geemap-dark {\n",
       "                    --jp-widgets-color: white;\n",
       "                    --jp-widgets-label-color: white;\n",
       "                    --jp-ui-font-color1: white;\n",
       "                    --jp-layout-color2: #454545;\n",
       "                    background-color: #383838;\n",
       "                }\n",
       "\n",
       "                .geemap-dark .jupyter-button {\n",
       "                    --jp-layout-color3: #383838;\n",
       "                }\n",
       "\n",
       "                .geemap-colab {\n",
       "                    background-color: var(--colab-primary-surface-color, white);\n",
       "                }\n",
       "\n",
       "                .geemap-colab .jupyter-button {\n",
       "                    --jp-layout-color3: var(--colab-primary-surface-color, white);\n",
       "                }\n",
       "            </style>\n",
       "            "
      ],
      "text/plain": [
       "<IPython.core.display.HTML object>"
      ]
     },
     "metadata": {},
     "output_type": "display_data"
    }
   ],
   "source": [
    "# Set the scaling factor\n",
    "scale_factor = 5\n",
    "\n",
    "# Apply the scaling function to each geometry in the data\n",
    "# This modifies each geometry in place by the defined scale factor\n",
    "data['geometry'] = data['geometry'].apply(scale_geometry, scale_factor=scale_factor)"
   ]
  },
  {
   "cell_type": "markdown",
   "metadata": {
    "id": "eCqHijZBhiCI"
   },
   "source": [
    "# Download Image Data"
   ]
  },
  {
   "cell_type": "markdown",
   "metadata": {
    "id": "RKoadIsZhouN"
   },
   "source": [
    "**Utils**"
   ]
  },
  {
   "cell_type": "code",
   "execution_count": 10,
   "metadata": {
    "execution": {
     "iopub.execute_input": "2025-02-05T19:56:23.704196Z",
     "iopub.status.busy": "2025-02-05T19:56:23.703770Z",
     "iopub.status.idle": "2025-02-05T19:56:23.710596Z",
     "shell.execute_reply": "2025-02-05T19:56:23.709437Z",
     "shell.execute_reply.started": "2025-02-05T19:56:23.704155Z"
    },
    "id": "ya4Ncfoghmfg",
    "outputId": "b574e539-0e26-407b-e8cd-61de0f9416c7"
   },
   "outputs": [
    {
     "data": {
      "text/html": [
       "\n",
       "            <style>\n",
       "                .geemap-dark {\n",
       "                    --jp-widgets-color: white;\n",
       "                    --jp-widgets-label-color: white;\n",
       "                    --jp-ui-font-color1: white;\n",
       "                    --jp-layout-color2: #454545;\n",
       "                    background-color: #383838;\n",
       "                }\n",
       "\n",
       "                .geemap-dark .jupyter-button {\n",
       "                    --jp-layout-color3: #383838;\n",
       "                }\n",
       "\n",
       "                .geemap-colab {\n",
       "                    background-color: var(--colab-primary-surface-color, white);\n",
       "                }\n",
       "\n",
       "                .geemap-colab .jupyter-button {\n",
       "                    --jp-layout-color3: var(--colab-primary-surface-color, white);\n",
       "                }\n",
       "            </style>\n",
       "            "
      ],
      "text/plain": [
       "<IPython.core.display.HTML object>"
      ]
     },
     "metadata": {},
     "output_type": "display_data"
    }
   ],
   "source": [
    "# Function to ensure date format is correct\n",
    "def format_date(date_str):\n",
    "    \"\"\"Convert date string to 'YYYY-MM-DD' format.\"\"\"\n",
    "    try:\n",
    "        return datetime.strptime(date_str, '%d-%m-%Y').strftime('%Y-%m-%d')\n",
    "    except ValueError:\n",
    "        print(f\"Error: Invalid date format for {date_str}. Expected 'DD-MM-YYYY'.\")\n",
    "        return None"
   ]
  },
  {
   "cell_type": "code",
   "execution_count": 11,
   "metadata": {
    "execution": {
     "iopub.execute_input": "2025-02-05T19:56:23.711928Z",
     "iopub.status.busy": "2025-02-05T19:56:23.711606Z",
     "iopub.status.idle": "2025-02-05T19:56:23.730702Z",
     "shell.execute_reply": "2025-02-05T19:56:23.729557Z",
     "shell.execute_reply.started": "2025-02-05T19:56:23.711892Z"
    },
    "id": "VePFJ8GQh68G",
    "outputId": "d0387619-4bef-44be-9780-d6f8188f7067"
   },
   "outputs": [
    {
     "data": {
      "text/html": [
       "\n",
       "            <style>\n",
       "                .geemap-dark {\n",
       "                    --jp-widgets-color: white;\n",
       "                    --jp-widgets-label-color: white;\n",
       "                    --jp-ui-font-color1: white;\n",
       "                    --jp-layout-color2: #454545;\n",
       "                    background-color: #383838;\n",
       "                }\n",
       "\n",
       "                .geemap-dark .jupyter-button {\n",
       "                    --jp-layout-color3: #383838;\n",
       "                }\n",
       "\n",
       "                .geemap-colab {\n",
       "                    background-color: var(--colab-primary-surface-color, white);\n",
       "                }\n",
       "\n",
       "                .geemap-colab .jupyter-button {\n",
       "                    --jp-layout-color3: var(--colab-primary-surface-color, white);\n",
       "                }\n",
       "            </style>\n",
       "            "
      ],
      "text/plain": [
       "<IPython.core.display.HTML object>"
      ]
     },
     "metadata": {},
     "output_type": "display_data"
    }
   ],
   "source": [
    "# Function to process each row in the dataset for image download\n",
    "def process_row(index, row):\n",
    "    # Format start and end dates\n",
    "    start_date = format_date(row['SDate'])\n",
    "    end_date = format_date(row['HDate'])\n",
    "\n",
    "    # Skip rows with invalid dates\n",
    "    if not start_date or not end_date:\n",
    "        print(f\"Skipping entry due to invalid dates: SDate={row['SDate']}, HDate={row['HDate']}\")\n",
    "        return index, None\n",
    "\n",
    "    # Extract and check geometry\n",
    "    region_geometry = row['geometry']\n",
    "    district = row['District']\n",
    "\n",
    "    # Verify valid geometry and convert it to EE format\n",
    "    if region_geometry.is_empty:\n",
    "        print(f\"Skipping entry due to empty geometry for District: {district}\")\n",
    "        return index, None\n",
    "\n",
    "    # Convert geometry type to EE compatible format\n",
    "    if region_geometry.geom_type == 'Polygon':\n",
    "        region = ee.Geometry.Polygon(region_geometry.__geo_interface__['coordinates'])\n",
    "    elif region_geometry.geom_type == 'MultiPolygon':\n",
    "        coords = [polygon.exterior.coords[:] for polygon in region_geometry.geoms]\n",
    "        region = ee.Geometry.MultiPolygon(coords)\n",
    "    else:\n",
    "        print(f\"Skipping unsupported geometry type: {region_geometry.geom_type} for District: {district}\")\n",
    "        return index, None\n",
    "\n",
    "    # Define Sentinel-2 collection and bands\n",
    "    image_collection_name = 'COPERNICUS/S2'\n",
    "    bands = ['B4', 'B3', 'B2', 'B8', 'B5', 'B6', 'B7', 'B8A', 'B11', 'B12']\n",
    "\n",
    "    # Attempt to download the image\n",
    "    try:\n",
    "        image_file = download_rgb_image(image_collection_name, bands, start_date, end_date, region, output_folder)\n",
    "        return index, image_file\n",
    "    except Exception as e:\n",
    "        print(f\"Error processing entry for District {district}: {e}\")\n",
    "        return index, None"
   ]
  },
  {
   "cell_type": "code",
   "execution_count": 12,
   "metadata": {
    "execution": {
     "iopub.execute_input": "2025-02-05T19:56:23.731855Z",
     "iopub.status.busy": "2025-02-05T19:56:23.731500Z",
     "iopub.status.idle": "2025-02-05T19:56:23.930958Z",
     "shell.execute_reply": "2025-02-05T19:56:23.929680Z",
     "shell.execute_reply.started": "2025-02-05T19:56:23.731820Z"
    },
    "id": "wk2LzuPmh63-",
    "outputId": "b31c66f1-512c-443d-d1bc-f86b9c095047"
   },
   "outputs": [
    {
     "data": {
      "text/html": [
       "\n",
       "            <style>\n",
       "                .geemap-dark {\n",
       "                    --jp-widgets-color: white;\n",
       "                    --jp-widgets-label-color: white;\n",
       "                    --jp-ui-font-color1: white;\n",
       "                    --jp-layout-color2: #454545;\n",
       "                    background-color: #383838;\n",
       "                }\n",
       "\n",
       "                .geemap-dark .jupyter-button {\n",
       "                    --jp-layout-color3: #383838;\n",
       "                }\n",
       "\n",
       "                .geemap-colab {\n",
       "                    background-color: var(--colab-primary-surface-color, white);\n",
       "                }\n",
       "\n",
       "                .geemap-colab .jupyter-button {\n",
       "                    --jp-layout-color3: var(--colab-primary-surface-color, white);\n",
       "                }\n",
       "            </style>\n",
       "            "
      ],
      "text/plain": [
       "<IPython.core.display.HTML object>"
      ]
     },
     "metadata": {},
     "output_type": "display_data"
    }
   ],
   "source": [
    "\n",
    "# Load existing data with image paths if downloads are not required\n",
    "data_path = '/kaggle/input/sentineltimeseriesdata/SentinelTimeSeriesData/Data.csv'\n",
    "data = pd.read_csv(data_path)"
   ]
  },
  {
   "cell_type": "code",
   "execution_count": 13,
   "metadata": {
    "execution": {
     "iopub.execute_input": "2025-02-05T19:56:23.932316Z",
     "iopub.status.busy": "2025-02-05T19:56:23.931970Z",
     "iopub.status.idle": "2025-02-05T19:56:23.964546Z",
     "shell.execute_reply": "2025-02-05T19:56:23.963412Z",
     "shell.execute_reply.started": "2025-02-05T19:56:23.932287Z"
    },
    "id": "ImSp8720h61q",
    "outputId": "1a045601-7812-4d7e-c624-9f61a3f4d37a"
   },
   "outputs": [
    {
     "data": {
      "text/html": [
       "\n",
       "            <style>\n",
       "                .geemap-dark {\n",
       "                    --jp-widgets-color: white;\n",
       "                    --jp-widgets-label-color: white;\n",
       "                    --jp-ui-font-color1: white;\n",
       "                    --jp-layout-color2: #454545;\n",
       "                    background-color: #383838;\n",
       "                }\n",
       "\n",
       "                .geemap-dark .jupyter-button {\n",
       "                    --jp-layout-color3: #383838;\n",
       "                }\n",
       "\n",
       "                .geemap-colab {\n",
       "                    background-color: var(--colab-primary-surface-color, white);\n",
       "                }\n",
       "\n",
       "                .geemap-colab .jupyter-button {\n",
       "                    --jp-layout-color3: var(--colab-primary-surface-color, white);\n",
       "                }\n",
       "            </style>\n",
       "            "
      ],
      "text/plain": [
       "<IPython.core.display.HTML object>"
      ]
     },
     "metadata": {},
     "output_type": "display_data"
    },
    {
     "data": {
      "text/html": [
       "<div>\n",
       "<style scoped>\n",
       "    .dataframe tbody tr th:only-of-type {\n",
       "        vertical-align: middle;\n",
       "    }\n",
       "\n",
       "    .dataframe tbody tr th {\n",
       "        vertical-align: top;\n",
       "    }\n",
       "\n",
       "    .dataframe thead th {\n",
       "        text-align: right;\n",
       "    }\n",
       "</style>\n",
       "<table border=\"1\" class=\"dataframe\">\n",
       "  <thead>\n",
       "    <tr style=\"text-align: right;\">\n",
       "      <th></th>\n",
       "      <th>FarmID</th>\n",
       "      <th>category</th>\n",
       "      <th>Crop</th>\n",
       "      <th>State</th>\n",
       "      <th>District</th>\n",
       "      <th>Sub-District</th>\n",
       "      <th>SDate</th>\n",
       "      <th>HDate</th>\n",
       "      <th>CropCoveredArea</th>\n",
       "      <th>CHeight</th>\n",
       "      <th>...</th>\n",
       "      <th>CTransp</th>\n",
       "      <th>IrriType</th>\n",
       "      <th>IrriSource</th>\n",
       "      <th>IrriCount</th>\n",
       "      <th>WaterCov</th>\n",
       "      <th>ExpYield</th>\n",
       "      <th>Season</th>\n",
       "      <th>geometry</th>\n",
       "      <th>dataset</th>\n",
       "      <th>tif_path</th>\n",
       "    </tr>\n",
       "  </thead>\n",
       "  <tbody>\n",
       "    <tr>\n",
       "      <th>0</th>\n",
       "      <td>1326576</td>\n",
       "      <td>Healthy</td>\n",
       "      <td>Paddy</td>\n",
       "      <td>Telangana</td>\n",
       "      <td>Medak</td>\n",
       "      <td>Kulcharam</td>\n",
       "      <td>25-11-2023</td>\n",
       "      <td>14-04-2024</td>\n",
       "      <td>97</td>\n",
       "      <td>54</td>\n",
       "      <td>...</td>\n",
       "      <td>Transplanting</td>\n",
       "      <td>Flood</td>\n",
       "      <td>Groundwater</td>\n",
       "      <td>4</td>\n",
       "      <td>87</td>\n",
       "      <td>17</td>\n",
       "      <td>Rabi</td>\n",
       "      <td>POLYGON ((78.18079255482755 17.978971746424413...</td>\n",
       "      <td>train</td>\n",
       "      <td>/kaggle/input/sentineltimeseriesdata/SentinelT...</td>\n",
       "    </tr>\n",
       "    <tr>\n",
       "      <th>1</th>\n",
       "      <td>1326577</td>\n",
       "      <td>Healthy</td>\n",
       "      <td>Paddy</td>\n",
       "      <td>Telangana</td>\n",
       "      <td>Medak</td>\n",
       "      <td>Kulcharam</td>\n",
       "      <td>13-11-2023</td>\n",
       "      <td>26-04-2024</td>\n",
       "      <td>82</td>\n",
       "      <td>58</td>\n",
       "      <td>...</td>\n",
       "      <td>Transplanting</td>\n",
       "      <td>Flood</td>\n",
       "      <td>Canal</td>\n",
       "      <td>5</td>\n",
       "      <td>94</td>\n",
       "      <td>15</td>\n",
       "      <td>Rabi</td>\n",
       "      <td>POLYGON ((78.17483419891283 17.981508840879556...</td>\n",
       "      <td>train</td>\n",
       "      <td>/kaggle/input/sentineltimeseriesdata/SentinelT...</td>\n",
       "    </tr>\n",
       "    <tr>\n",
       "      <th>2</th>\n",
       "      <td>1326578</td>\n",
       "      <td>Healthy</td>\n",
       "      <td>Paddy</td>\n",
       "      <td>Telangana</td>\n",
       "      <td>Medak</td>\n",
       "      <td>Kulcharam</td>\n",
       "      <td>19-12-2023</td>\n",
       "      <td>28-04-2024</td>\n",
       "      <td>92</td>\n",
       "      <td>91</td>\n",
       "      <td>...</td>\n",
       "      <td>Transplanting</td>\n",
       "      <td>Flood</td>\n",
       "      <td>Canal</td>\n",
       "      <td>3</td>\n",
       "      <td>99</td>\n",
       "      <td>20</td>\n",
       "      <td>Rabi</td>\n",
       "      <td>POLYGON ((78.16888476438905 17.976727511659835...</td>\n",
       "      <td>train</td>\n",
       "      <td>/kaggle/input/sentineltimeseriesdata/SentinelT...</td>\n",
       "    </tr>\n",
       "    <tr>\n",
       "      <th>3</th>\n",
       "      <td>1331836</td>\n",
       "      <td>Diseased</td>\n",
       "      <td>Paddy</td>\n",
       "      <td>Telangana</td>\n",
       "      <td>Medak</td>\n",
       "      <td>Kulcharam</td>\n",
       "      <td>11-02-2023</td>\n",
       "      <td>04-11-2024</td>\n",
       "      <td>91</td>\n",
       "      <td>52</td>\n",
       "      <td>...</td>\n",
       "      <td>Transplanting</td>\n",
       "      <td>Flood</td>\n",
       "      <td>Canal</td>\n",
       "      <td>5</td>\n",
       "      <td>92</td>\n",
       "      <td>16</td>\n",
       "      <td>Rabi</td>\n",
       "      <td>POLYGON ((78.16821795882959 17.974690113471414...</td>\n",
       "      <td>train</td>\n",
       "      <td>/kaggle/input/sentineltimeseriesdata/SentinelT...</td>\n",
       "    </tr>\n",
       "    <tr>\n",
       "      <th>4</th>\n",
       "      <td>1326579</td>\n",
       "      <td>Diseased</td>\n",
       "      <td>Paddy</td>\n",
       "      <td>Telangana</td>\n",
       "      <td>Medak</td>\n",
       "      <td>Kulcharam</td>\n",
       "      <td>12-12-2023</td>\n",
       "      <td>19-05-2024</td>\n",
       "      <td>94</td>\n",
       "      <td>55</td>\n",
       "      <td>...</td>\n",
       "      <td>Transplanting</td>\n",
       "      <td>Flood</td>\n",
       "      <td>Canal</td>\n",
       "      <td>5</td>\n",
       "      <td>97</td>\n",
       "      <td>20</td>\n",
       "      <td>Rabi</td>\n",
       "      <td>POLYGON ((78.17244459940454 17.969620948965225...</td>\n",
       "      <td>train</td>\n",
       "      <td>/kaggle/input/sentineltimeseriesdata/SentinelT...</td>\n",
       "    </tr>\n",
       "  </tbody>\n",
       "</table>\n",
       "<p>5 rows × 22 columns</p>\n",
       "</div>"
      ],
      "text/plain": [
       "    FarmID  category   Crop      State District Sub-District       SDate  \\\n",
       "0  1326576   Healthy  Paddy  Telangana    Medak    Kulcharam  25-11-2023   \n",
       "1  1326577   Healthy  Paddy  Telangana    Medak    Kulcharam  13-11-2023   \n",
       "2  1326578   Healthy  Paddy  Telangana    Medak    Kulcharam  19-12-2023   \n",
       "3  1331836  Diseased  Paddy  Telangana    Medak    Kulcharam  11-02-2023   \n",
       "4  1326579  Diseased  Paddy  Telangana    Medak    Kulcharam  12-12-2023   \n",
       "\n",
       "        HDate  CropCoveredArea  CHeight  ...        CTransp IrriType  \\\n",
       "0  14-04-2024               97       54  ...  Transplanting    Flood   \n",
       "1  26-04-2024               82       58  ...  Transplanting    Flood   \n",
       "2  28-04-2024               92       91  ...  Transplanting    Flood   \n",
       "3  04-11-2024               91       52  ...  Transplanting    Flood   \n",
       "4  19-05-2024               94       55  ...  Transplanting    Flood   \n",
       "\n",
       "    IrriSource IrriCount WaterCov  ExpYield  Season  \\\n",
       "0  Groundwater         4       87        17    Rabi   \n",
       "1        Canal         5       94        15    Rabi   \n",
       "2        Canal         3       99        20    Rabi   \n",
       "3        Canal         5       92        16    Rabi   \n",
       "4        Canal         5       97        20    Rabi   \n",
       "\n",
       "                                            geometry dataset  \\\n",
       "0  POLYGON ((78.18079255482755 17.978971746424413...   train   \n",
       "1  POLYGON ((78.17483419891283 17.981508840879556...   train   \n",
       "2  POLYGON ((78.16888476438905 17.976727511659835...   train   \n",
       "3  POLYGON ((78.16821795882959 17.974690113471414...   train   \n",
       "4  POLYGON ((78.17244459940454 17.969620948965225...   train   \n",
       "\n",
       "                                            tif_path  \n",
       "0  /kaggle/input/sentineltimeseriesdata/SentinelT...  \n",
       "1  /kaggle/input/sentineltimeseriesdata/SentinelT...  \n",
       "2  /kaggle/input/sentineltimeseriesdata/SentinelT...  \n",
       "3  /kaggle/input/sentineltimeseriesdata/SentinelT...  \n",
       "4  /kaggle/input/sentineltimeseriesdata/SentinelT...  \n",
       "\n",
       "[5 rows x 22 columns]"
      ]
     },
     "execution_count": 13,
     "metadata": {},
     "output_type": "execute_result"
    }
   ],
   "source": [
    "data.head()"
   ]
  },
  {
   "cell_type": "markdown",
   "metadata": {},
   "source": [
    "# Data Analysis"
   ]
  },
  {
   "cell_type": "code",
   "execution_count": 14,
   "metadata": {
    "execution": {
     "iopub.execute_input": "2025-02-05T19:56:23.966200Z",
     "iopub.status.busy": "2025-02-05T19:56:23.965747Z",
     "iopub.status.idle": "2025-02-05T19:56:24.000075Z",
     "shell.execute_reply": "2025-02-05T19:56:23.998858Z",
     "shell.execute_reply.started": "2025-02-05T19:56:23.966155Z"
    }
   },
   "outputs": [
    {
     "data": {
      "text/html": [
       "\n",
       "            <style>\n",
       "                .geemap-dark {\n",
       "                    --jp-widgets-color: white;\n",
       "                    --jp-widgets-label-color: white;\n",
       "                    --jp-ui-font-color1: white;\n",
       "                    --jp-layout-color2: #454545;\n",
       "                    background-color: #383838;\n",
       "                }\n",
       "\n",
       "                .geemap-dark .jupyter-button {\n",
       "                    --jp-layout-color3: #383838;\n",
       "                }\n",
       "\n",
       "                .geemap-colab {\n",
       "                    background-color: var(--colab-primary-surface-color, white);\n",
       "                }\n",
       "\n",
       "                .geemap-colab .jupyter-button {\n",
       "                    --jp-layout-color3: var(--colab-primary-surface-color, white);\n",
       "                }\n",
       "            </style>\n",
       "            "
      ],
      "text/plain": [
       "<IPython.core.display.HTML object>"
      ]
     },
     "metadata": {},
     "output_type": "display_data"
    },
    {
     "data": {
      "text/html": [
       "<div>\n",
       "<style scoped>\n",
       "    .dataframe tbody tr th:only-of-type {\n",
       "        vertical-align: middle;\n",
       "    }\n",
       "\n",
       "    .dataframe tbody tr th {\n",
       "        vertical-align: top;\n",
       "    }\n",
       "\n",
       "    .dataframe thead th {\n",
       "        text-align: right;\n",
       "    }\n",
       "</style>\n",
       "<table border=\"1\" class=\"dataframe\">\n",
       "  <thead>\n",
       "    <tr style=\"text-align: right;\">\n",
       "      <th></th>\n",
       "      <th>FarmID</th>\n",
       "      <th>category</th>\n",
       "      <th>Crop</th>\n",
       "      <th>State</th>\n",
       "      <th>District</th>\n",
       "      <th>Sub-District</th>\n",
       "      <th>SDate</th>\n",
       "      <th>HDate</th>\n",
       "      <th>CropCoveredArea</th>\n",
       "      <th>CHeight</th>\n",
       "      <th>...</th>\n",
       "      <th>CTransp</th>\n",
       "      <th>IrriType</th>\n",
       "      <th>IrriSource</th>\n",
       "      <th>IrriCount</th>\n",
       "      <th>WaterCov</th>\n",
       "      <th>ExpYield</th>\n",
       "      <th>Season</th>\n",
       "      <th>geometry</th>\n",
       "      <th>dataset</th>\n",
       "      <th>tif_path</th>\n",
       "    </tr>\n",
       "  </thead>\n",
       "  <tbody>\n",
       "    <tr>\n",
       "      <th>0</th>\n",
       "      <td>1326576</td>\n",
       "      <td>Healthy</td>\n",
       "      <td>Paddy</td>\n",
       "      <td>Telangana</td>\n",
       "      <td>Medak</td>\n",
       "      <td>Kulcharam</td>\n",
       "      <td>25-11-2023</td>\n",
       "      <td>14-04-2024</td>\n",
       "      <td>97</td>\n",
       "      <td>54</td>\n",
       "      <td>...</td>\n",
       "      <td>Transplanting</td>\n",
       "      <td>Flood</td>\n",
       "      <td>Groundwater</td>\n",
       "      <td>4</td>\n",
       "      <td>87</td>\n",
       "      <td>17</td>\n",
       "      <td>Rabi</td>\n",
       "      <td>POLYGON ((78.18079255482755 17.978971746424413...</td>\n",
       "      <td>train</td>\n",
       "      <td>/kaggle/input/sentineltimeseriesdata/SentinelT...</td>\n",
       "    </tr>\n",
       "    <tr>\n",
       "      <th>1</th>\n",
       "      <td>1326577</td>\n",
       "      <td>Healthy</td>\n",
       "      <td>Paddy</td>\n",
       "      <td>Telangana</td>\n",
       "      <td>Medak</td>\n",
       "      <td>Kulcharam</td>\n",
       "      <td>13-11-2023</td>\n",
       "      <td>26-04-2024</td>\n",
       "      <td>82</td>\n",
       "      <td>58</td>\n",
       "      <td>...</td>\n",
       "      <td>Transplanting</td>\n",
       "      <td>Flood</td>\n",
       "      <td>Canal</td>\n",
       "      <td>5</td>\n",
       "      <td>94</td>\n",
       "      <td>15</td>\n",
       "      <td>Rabi</td>\n",
       "      <td>POLYGON ((78.17483419891283 17.981508840879556...</td>\n",
       "      <td>train</td>\n",
       "      <td>/kaggle/input/sentineltimeseriesdata/SentinelT...</td>\n",
       "    </tr>\n",
       "    <tr>\n",
       "      <th>2</th>\n",
       "      <td>1326578</td>\n",
       "      <td>Healthy</td>\n",
       "      <td>Paddy</td>\n",
       "      <td>Telangana</td>\n",
       "      <td>Medak</td>\n",
       "      <td>Kulcharam</td>\n",
       "      <td>19-12-2023</td>\n",
       "      <td>28-04-2024</td>\n",
       "      <td>92</td>\n",
       "      <td>91</td>\n",
       "      <td>...</td>\n",
       "      <td>Transplanting</td>\n",
       "      <td>Flood</td>\n",
       "      <td>Canal</td>\n",
       "      <td>3</td>\n",
       "      <td>99</td>\n",
       "      <td>20</td>\n",
       "      <td>Rabi</td>\n",
       "      <td>POLYGON ((78.16888476438905 17.976727511659835...</td>\n",
       "      <td>train</td>\n",
       "      <td>/kaggle/input/sentineltimeseriesdata/SentinelT...</td>\n",
       "    </tr>\n",
       "    <tr>\n",
       "      <th>3</th>\n",
       "      <td>1331836</td>\n",
       "      <td>Diseased</td>\n",
       "      <td>Paddy</td>\n",
       "      <td>Telangana</td>\n",
       "      <td>Medak</td>\n",
       "      <td>Kulcharam</td>\n",
       "      <td>11-02-2023</td>\n",
       "      <td>04-11-2024</td>\n",
       "      <td>91</td>\n",
       "      <td>52</td>\n",
       "      <td>...</td>\n",
       "      <td>Transplanting</td>\n",
       "      <td>Flood</td>\n",
       "      <td>Canal</td>\n",
       "      <td>5</td>\n",
       "      <td>92</td>\n",
       "      <td>16</td>\n",
       "      <td>Rabi</td>\n",
       "      <td>POLYGON ((78.16821795882959 17.974690113471414...</td>\n",
       "      <td>train</td>\n",
       "      <td>/kaggle/input/sentineltimeseriesdata/SentinelT...</td>\n",
       "    </tr>\n",
       "    <tr>\n",
       "      <th>4</th>\n",
       "      <td>1326579</td>\n",
       "      <td>Diseased</td>\n",
       "      <td>Paddy</td>\n",
       "      <td>Telangana</td>\n",
       "      <td>Medak</td>\n",
       "      <td>Kulcharam</td>\n",
       "      <td>12-12-2023</td>\n",
       "      <td>19-05-2024</td>\n",
       "      <td>94</td>\n",
       "      <td>55</td>\n",
       "      <td>...</td>\n",
       "      <td>Transplanting</td>\n",
       "      <td>Flood</td>\n",
       "      <td>Canal</td>\n",
       "      <td>5</td>\n",
       "      <td>97</td>\n",
       "      <td>20</td>\n",
       "      <td>Rabi</td>\n",
       "      <td>POLYGON ((78.17244459940454 17.969620948965225...</td>\n",
       "      <td>train</td>\n",
       "      <td>/kaggle/input/sentineltimeseriesdata/SentinelT...</td>\n",
       "    </tr>\n",
       "    <tr>\n",
       "      <th>...</th>\n",
       "      <td>...</td>\n",
       "      <td>...</td>\n",
       "      <td>...</td>\n",
       "      <td>...</td>\n",
       "      <td>...</td>\n",
       "      <td>...</td>\n",
       "      <td>...</td>\n",
       "      <td>...</td>\n",
       "      <td>...</td>\n",
       "      <td>...</td>\n",
       "      <td>...</td>\n",
       "      <td>...</td>\n",
       "      <td>...</td>\n",
       "      <td>...</td>\n",
       "      <td>...</td>\n",
       "      <td>...</td>\n",
       "      <td>...</td>\n",
       "      <td>...</td>\n",
       "      <td>...</td>\n",
       "      <td>...</td>\n",
       "      <td>...</td>\n",
       "    </tr>\n",
       "    <tr>\n",
       "      <th>11786</th>\n",
       "      <td>551119</td>\n",
       "      <td>NaN</td>\n",
       "      <td>Maize</td>\n",
       "      <td>Telangana</td>\n",
       "      <td>Nirmal</td>\n",
       "      <td>Sarangapur</td>\n",
       "      <td>12-10-2023</td>\n",
       "      <td>03-07-2024</td>\n",
       "      <td>92</td>\n",
       "      <td>225</td>\n",
       "      <td>...</td>\n",
       "      <td>Drilling</td>\n",
       "      <td>Drip</td>\n",
       "      <td>Groundwater</td>\n",
       "      <td>4</td>\n",
       "      <td>44</td>\n",
       "      <td>39</td>\n",
       "      <td>Rabi</td>\n",
       "      <td>POLYGON ((78.25900010978795 19.22927351046702,...</td>\n",
       "      <td>test</td>\n",
       "      <td>/kaggle/input/sentineltimeseriesdata/SentinelT...</td>\n",
       "    </tr>\n",
       "    <tr>\n",
       "      <th>11787</th>\n",
       "      <td>916476</td>\n",
       "      <td>NaN</td>\n",
       "      <td>Maize</td>\n",
       "      <td>Telangana</td>\n",
       "      <td>Nirmal</td>\n",
       "      <td>Sarangapur</td>\n",
       "      <td>11-05-2023</td>\n",
       "      <td>03-04-2024</td>\n",
       "      <td>79</td>\n",
       "      <td>236</td>\n",
       "      <td>...</td>\n",
       "      <td>Seed Drilling</td>\n",
       "      <td>Drip</td>\n",
       "      <td>Canal</td>\n",
       "      <td>3</td>\n",
       "      <td>41</td>\n",
       "      <td>40</td>\n",
       "      <td>Rabi</td>\n",
       "      <td>POLYGON ((78.25818808460964 19.202014687110104...</td>\n",
       "      <td>test</td>\n",
       "      <td>/kaggle/input/sentineltimeseriesdata/SentinelT...</td>\n",
       "    </tr>\n",
       "    <tr>\n",
       "      <th>11788</th>\n",
       "      <td>121860</td>\n",
       "      <td>NaN</td>\n",
       "      <td>Maize</td>\n",
       "      <td>Telangana</td>\n",
       "      <td>Nirmal</td>\n",
       "      <td>Sarangapur</td>\n",
       "      <td>14-11-2023</td>\n",
       "      <td>04-03-2024</td>\n",
       "      <td>87</td>\n",
       "      <td>210</td>\n",
       "      <td>...</td>\n",
       "      <td>Broadcasting</td>\n",
       "      <td>Sprinkler</td>\n",
       "      <td>Canal</td>\n",
       "      <td>3</td>\n",
       "      <td>43</td>\n",
       "      <td>41</td>\n",
       "      <td>Rabi</td>\n",
       "      <td>POLYGON ((78.2554603258883 19.19636630652319, ...</td>\n",
       "      <td>test</td>\n",
       "      <td>/kaggle/input/sentineltimeseriesdata/SentinelT...</td>\n",
       "    </tr>\n",
       "    <tr>\n",
       "      <th>11789</th>\n",
       "      <td>270936</td>\n",
       "      <td>NaN</td>\n",
       "      <td>Maize</td>\n",
       "      <td>Telangana</td>\n",
       "      <td>Nirmal</td>\n",
       "      <td>Sarangapur</td>\n",
       "      <td>12-02-2023</td>\n",
       "      <td>26-03-2024</td>\n",
       "      <td>95</td>\n",
       "      <td>204</td>\n",
       "      <td>...</td>\n",
       "      <td>Drilling</td>\n",
       "      <td>Sprinkler</td>\n",
       "      <td>Canal</td>\n",
       "      <td>4</td>\n",
       "      <td>48</td>\n",
       "      <td>39</td>\n",
       "      <td>Rabi</td>\n",
       "      <td>POLYGON ((78.25742756428231 19.195573453548704...</td>\n",
       "      <td>test</td>\n",
       "      <td>/kaggle/input/sentineltimeseriesdata/SentinelT...</td>\n",
       "    </tr>\n",
       "    <tr>\n",
       "      <th>11790</th>\n",
       "      <td>1326552</td>\n",
       "      <td>NaN</td>\n",
       "      <td>Maize</td>\n",
       "      <td>Telangana</td>\n",
       "      <td>Nirmal</td>\n",
       "      <td>Sarangapur</td>\n",
       "      <td>23-11-2023</td>\n",
       "      <td>22-03-2024</td>\n",
       "      <td>78</td>\n",
       "      <td>185</td>\n",
       "      <td>...</td>\n",
       "      <td>Broadcasting</td>\n",
       "      <td>Drip</td>\n",
       "      <td>Canal</td>\n",
       "      <td>2</td>\n",
       "      <td>52</td>\n",
       "      <td>41</td>\n",
       "      <td>Rabi</td>\n",
       "      <td>POLYGON ((78.26473996074711 19.225096392031386...</td>\n",
       "      <td>test</td>\n",
       "      <td>/kaggle/input/sentineltimeseriesdata/SentinelT...</td>\n",
       "    </tr>\n",
       "  </tbody>\n",
       "</table>\n",
       "<p>11791 rows × 22 columns</p>\n",
       "</div>"
      ],
      "text/plain": [
       "        FarmID  category   Crop      State District Sub-District       SDate  \\\n",
       "0      1326576   Healthy  Paddy  Telangana    Medak    Kulcharam  25-11-2023   \n",
       "1      1326577   Healthy  Paddy  Telangana    Medak    Kulcharam  13-11-2023   \n",
       "2      1326578   Healthy  Paddy  Telangana    Medak    Kulcharam  19-12-2023   \n",
       "3      1331836  Diseased  Paddy  Telangana    Medak    Kulcharam  11-02-2023   \n",
       "4      1326579  Diseased  Paddy  Telangana    Medak    Kulcharam  12-12-2023   \n",
       "...        ...       ...    ...        ...      ...          ...         ...   \n",
       "11786   551119       NaN  Maize  Telangana   Nirmal   Sarangapur  12-10-2023   \n",
       "11787   916476       NaN  Maize  Telangana   Nirmal   Sarangapur  11-05-2023   \n",
       "11788   121860       NaN  Maize  Telangana   Nirmal   Sarangapur  14-11-2023   \n",
       "11789   270936       NaN  Maize  Telangana   Nirmal   Sarangapur  12-02-2023   \n",
       "11790  1326552       NaN  Maize  Telangana   Nirmal   Sarangapur  23-11-2023   \n",
       "\n",
       "            HDate  CropCoveredArea  CHeight  ...        CTransp   IrriType  \\\n",
       "0      14-04-2024               97       54  ...  Transplanting      Flood   \n",
       "1      26-04-2024               82       58  ...  Transplanting      Flood   \n",
       "2      28-04-2024               92       91  ...  Transplanting      Flood   \n",
       "3      04-11-2024               91       52  ...  Transplanting      Flood   \n",
       "4      19-05-2024               94       55  ...  Transplanting      Flood   \n",
       "...           ...              ...      ...  ...            ...        ...   \n",
       "11786  03-07-2024               92      225  ...       Drilling       Drip   \n",
       "11787  03-04-2024               79      236  ...  Seed Drilling       Drip   \n",
       "11788  04-03-2024               87      210  ...   Broadcasting  Sprinkler   \n",
       "11789  26-03-2024               95      204  ...       Drilling  Sprinkler   \n",
       "11790  22-03-2024               78      185  ...   Broadcasting       Drip   \n",
       "\n",
       "        IrriSource IrriCount WaterCov  ExpYield  Season  \\\n",
       "0      Groundwater         4       87        17    Rabi   \n",
       "1            Canal         5       94        15    Rabi   \n",
       "2            Canal         3       99        20    Rabi   \n",
       "3            Canal         5       92        16    Rabi   \n",
       "4            Canal         5       97        20    Rabi   \n",
       "...            ...       ...      ...       ...     ...   \n",
       "11786  Groundwater         4       44        39    Rabi   \n",
       "11787        Canal         3       41        40    Rabi   \n",
       "11788        Canal         3       43        41    Rabi   \n",
       "11789        Canal         4       48        39    Rabi   \n",
       "11790        Canal         2       52        41    Rabi   \n",
       "\n",
       "                                                geometry dataset  \\\n",
       "0      POLYGON ((78.18079255482755 17.978971746424413...   train   \n",
       "1      POLYGON ((78.17483419891283 17.981508840879556...   train   \n",
       "2      POLYGON ((78.16888476438905 17.976727511659835...   train   \n",
       "3      POLYGON ((78.16821795882959 17.974690113471414...   train   \n",
       "4      POLYGON ((78.17244459940454 17.969620948965225...   train   \n",
       "...                                                  ...     ...   \n",
       "11786  POLYGON ((78.25900010978795 19.22927351046702,...    test   \n",
       "11787  POLYGON ((78.25818808460964 19.202014687110104...    test   \n",
       "11788  POLYGON ((78.2554603258883 19.19636630652319, ...    test   \n",
       "11789  POLYGON ((78.25742756428231 19.195573453548704...    test   \n",
       "11790  POLYGON ((78.26473996074711 19.225096392031386...    test   \n",
       "\n",
       "                                                tif_path  \n",
       "0      /kaggle/input/sentineltimeseriesdata/SentinelT...  \n",
       "1      /kaggle/input/sentineltimeseriesdata/SentinelT...  \n",
       "2      /kaggle/input/sentineltimeseriesdata/SentinelT...  \n",
       "3      /kaggle/input/sentineltimeseriesdata/SentinelT...  \n",
       "4      /kaggle/input/sentineltimeseriesdata/SentinelT...  \n",
       "...                                                  ...  \n",
       "11786  /kaggle/input/sentineltimeseriesdata/SentinelT...  \n",
       "11787  /kaggle/input/sentineltimeseriesdata/SentinelT...  \n",
       "11788  /kaggle/input/sentineltimeseriesdata/SentinelT...  \n",
       "11789  /kaggle/input/sentineltimeseriesdata/SentinelT...  \n",
       "11790  /kaggle/input/sentineltimeseriesdata/SentinelT...  \n",
       "\n",
       "[11791 rows x 22 columns]"
      ]
     },
     "execution_count": 14,
     "metadata": {},
     "output_type": "execute_result"
    }
   ],
   "source": [
    "data"
   ]
  },
  {
   "cell_type": "markdown",
   "metadata": {
    "id": "x3G_3P6FjjLD"
   },
   "source": [
    "# Visualization"
   ]
  },
  {
   "cell_type": "code",
   "execution_count": 15,
   "metadata": {
    "execution": {
     "iopub.execute_input": "2025-02-05T19:56:24.001723Z",
     "iopub.status.busy": "2025-02-05T19:56:24.001293Z",
     "iopub.status.idle": "2025-02-05T19:56:24.013081Z",
     "shell.execute_reply": "2025-02-05T19:56:24.011886Z",
     "shell.execute_reply.started": "2025-02-05T19:56:24.001691Z"
    },
    "id": "QZTI_3tA9LbG",
    "outputId": "69448b71-9a60-459f-aa0f-8f59957b155e"
   },
   "outputs": [
    {
     "data": {
      "text/html": [
       "\n",
       "            <style>\n",
       "                .geemap-dark {\n",
       "                    --jp-widgets-color: white;\n",
       "                    --jp-widgets-label-color: white;\n",
       "                    --jp-ui-font-color1: white;\n",
       "                    --jp-layout-color2: #454545;\n",
       "                    background-color: #383838;\n",
       "                }\n",
       "\n",
       "                .geemap-dark .jupyter-button {\n",
       "                    --jp-layout-color3: #383838;\n",
       "                }\n",
       "\n",
       "                .geemap-colab {\n",
       "                    background-color: var(--colab-primary-surface-color, white);\n",
       "                }\n",
       "\n",
       "                .geemap-colab .jupyter-button {\n",
       "                    --jp-layout-color3: var(--colab-primary-surface-color, white);\n",
       "                }\n",
       "            </style>\n",
       "            "
      ],
      "text/plain": [
       "<IPython.core.display.HTML object>"
      ]
     },
     "metadata": {},
     "output_type": "display_data"
    }
   ],
   "source": [
    "# Function to scale pixel values to the 0–255 range for better visualization\n",
    "def scale_band(band):\n",
    "    \"\"\"\n",
    "    Scales pixel values of a single band to the 0-255 range.\n",
    "\n",
    "    Parameters:\n",
    "    - band: np.array, pixel values of the band\n",
    "\n",
    "    Returns:\n",
    "    - np.array, scaled pixel values in the 0-255 range\n",
    "    \"\"\"\n",
    "    band = band.astype(np.float32)  # Ensure values are in float for scaling\n",
    "    return 255 * (band - np.min(band)) / (np.max(band) - np.min(band))  # Scale to 0–255\n",
    "\n",
    "# Function to visualize RGB image with scaling, contrast adjustments, and optional gamma correction\n",
    "def visualize_rgb_image(file_path, gamma=0.6, contrast_stretch=True):\n",
    "    \"\"\"\n",
    "    Visualize an RGB image using matplotlib with scaling, optional gamma correction, and contrast stretching.\n",
    "\n",
    "    Parameters:\n",
    "    - file_path: str, path to the RGB image file (GeoTIFF)\n",
    "    - gamma: float, gamma correction factor (default=0.6)\n",
    "    - contrast_stretch: bool, whether to apply contrast stretching (default=True)\n",
    "    \"\"\"\n",
    "    # Open the image file\n",
    "    with rasterio.open(file_path) as src:\n",
    "        # Read RGB bands (assuming Sentinel-2 band order: Red=B4, Green=B3, Blue=B2)\n",
    "        red = src.read(3)  # Band 4 for Red\n",
    "        green = src.read(2)  # Band 3 for Green\n",
    "        blue = src.read(1)  # Band 2 for Blue\n",
    "\n",
    "        # Scale each band to the 0–255 range for better visualization\n",
    "        red_scaled = scale_band(red)\n",
    "        green_scaled = scale_band(green)\n",
    "        blue_scaled = scale_band(blue)\n",
    "\n",
    "        # Stack the scaled RGB bands into a single image\n",
    "        rgb = np.dstack((red_scaled, green_scaled, blue_scaled)).astype(np.uint8)\n",
    "\n",
    "        # Apply contrast stretching if specified\n",
    "        if contrast_stretch:\n",
    "            p2, p98 = np.percentile(rgb, (2, 98))  # Calculate 2nd and 98th percentiles for stretching\n",
    "            rgb = exposure.rescale_intensity(rgb, in_range=(p2, p98))\n",
    "\n",
    "        # Apply gamma correction to adjust brightness\n",
    "        rgb = exposure.adjust_gamma(rgb, gamma=gamma)\n",
    "\n",
    "        # Display the processed image using matplotlib\n",
    "        plt.figure(figsize=(5, 5))\n",
    "        plt.imshow(rgb)\n",
    "        plt.axis('off')  # Hide axes for a cleaner look\n",
    "        plt.title(\"RGB Composite (Red-Green-Blue) with Scaling, Contrast Stretch, and Gamma Correction\")\n",
    "        plt.show()\n",
    "\n",
    "    return rgb"
   ]
  },
  {
   "cell_type": "code",
   "execution_count": 16,
   "metadata": {
    "execution": {
     "iopub.execute_input": "2025-02-05T19:56:24.014661Z",
     "iopub.status.busy": "2025-02-05T19:56:24.014198Z",
     "iopub.status.idle": "2025-02-05T19:56:24.438720Z",
     "shell.execute_reply": "2025-02-05T19:56:24.437505Z",
     "shell.execute_reply.started": "2025-02-05T19:56:24.014621Z"
    },
    "id": "aw9eJrrVCgF1",
    "outputId": "f61af7e7-bdd7-4c0c-cf37-363766729f73"
   },
   "outputs": [
    {
     "data": {
      "text/html": [
       "\n",
       "            <style>\n",
       "                .geemap-dark {\n",
       "                    --jp-widgets-color: white;\n",
       "                    --jp-widgets-label-color: white;\n",
       "                    --jp-ui-font-color1: white;\n",
       "                    --jp-layout-color2: #454545;\n",
       "                    background-color: #383838;\n",
       "                }\n",
       "\n",
       "                .geemap-dark .jupyter-button {\n",
       "                    --jp-layout-color3: #383838;\n",
       "                }\n",
       "\n",
       "                .geemap-colab {\n",
       "                    background-color: var(--colab-primary-surface-color, white);\n",
       "                }\n",
       "\n",
       "                .geemap-colab .jupyter-button {\n",
       "                    --jp-layout-color3: var(--colab-primary-surface-color, white);\n",
       "                }\n",
       "            </style>\n",
       "            "
      ],
      "text/plain": [
       "<IPython.core.display.HTML object>"
      ]
     },
     "metadata": {},
     "output_type": "display_data"
    },
    {
     "data": {
      "image/png": "[encoded data removed]",
      "text/plain": [
       "<Figure size 500x500 with 1 Axes>"
      ]
     },
     "metadata": {},
     "output_type": "display_data"
    }
   ],
   "source": [
    "# Select a random image file from the dataset and visualize it\n",
    "path = random.choice(data['tif_path'].values)\n",
    "image = visualize_rgb_image(path)"
   ]
  },
  {
   "cell_type": "markdown",
   "metadata": {
    "id": "VGg3sw58k9Tm"
   },
   "source": [
    "# Feature Engineering"
   ]
  },
  {
   "cell_type": "markdown",
   "metadata": {
    "id": "qK123fUVlA3w"
   },
   "source": [
    "**Utils**"
   ]
  },
  {
   "cell_type": "code",
   "execution_count": 17,
   "metadata": {
    "execution": {
     "iopub.execute_input": "2025-02-05T19:56:24.440040Z",
     "iopub.status.busy": "2025-02-05T19:56:24.439691Z",
     "iopub.status.idle": "2025-02-05T19:56:24.449926Z",
     "shell.execute_reply": "2025-02-05T19:56:24.448888Z",
     "shell.execute_reply.started": "2025-02-05T19:56:24.440005Z"
    },
    "id": "cifndNYWOB9D",
    "outputId": "9d77b91f-8f19-47df-94db-ffbbdbde3a40"
   },
   "outputs": [
    {
     "data": {
      "text/html": [
       "\n",
       "            <style>\n",
       "                .geemap-dark {\n",
       "                    --jp-widgets-color: white;\n",
       "                    --jp-widgets-label-color: white;\n",
       "                    --jp-ui-font-color1: white;\n",
       "                    --jp-layout-color2: #454545;\n",
       "                    background-color: #383838;\n",
       "                }\n",
       "\n",
       "                .geemap-dark .jupyter-button {\n",
       "                    --jp-layout-color3: #383838;\n",
       "                }\n",
       "\n",
       "                .geemap-colab {\n",
       "                    background-color: var(--colab-primary-surface-color, white);\n",
       "                }\n",
       "\n",
       "                .geemap-colab .jupyter-button {\n",
       "                    --jp-layout-color3: var(--colab-primary-surface-color, white);\n",
       "                }\n",
       "            </style>\n",
       "            "
      ],
      "text/plain": [
       "<IPython.core.display.HTML object>"
      ]
     },
     "metadata": {},
     "output_type": "display_data"
    }
   ],
   "source": [
    "# Example feature calculation functions\n",
    "def calculate_ndvi(nir_band, red_band):\n",
    "    \"\"\"Calculate NDVI (Normalized Difference Vegetation Index).\"\"\"\n",
    "    ndvi = (nir_band - red_band) / (nir_band + red_band)\n",
    "    return np.nanmean(ndvi)\n",
    "\n",
    "def calculate_evi(nir_band, red_band, blue_band):\n",
    "    \"\"\"Calculate EVI (Enhanced Vegetation Index).\"\"\"\n",
    "    evi = 2.5 * (nir_band - red_band) / (nir_band + 6 * red_band - 7.5 * blue_band + 1)\n",
    "    return np.nanmean(evi)\n",
    "\n",
    "def calculate_ndwi(nir_band, green_band):\n",
    "    \"\"\"Calculate NDWI (Normalized Difference Water Index).\"\"\"\n",
    "    ndwi = (green_band - nir_band) / (green_band + nir_band)\n",
    "    return np.nanmean(ndwi)\n",
    "\n",
    "def calculate_gndvi(nir_band, green_band):\n",
    "    \"\"\"Calculate GNDVI (Green Normalized Difference Vegetation Index).\"\"\"\n",
    "    gndvi = (nir_band - green_band) / (nir_band + green_band)\n",
    "    return np.nanmean(gndvi)\n",
    "\n",
    "def calculate_savi(nir_band, red_band, L=0.5):\n",
    "    \"\"\"Calculate SAVI (Soil Adjusted Vegetation Index).\"\"\"\n",
    "    savi = ((nir_band - red_band) / (nir_band + red_band + L)) * (1 + L)\n",
    "    return np.nanmean(savi)\n",
    "\n",
    "def calculate_msavi(nir_band, red_band):\n",
    "    \"\"\"Calculate MSAVI (Modified Soil Adjusted Vegetation Index).\"\"\"\n",
    "    msavi = (2 * nir_band + 1 - np.sqrt((2 * nir_band + 1)**2 - 8 * (nir_band - red_band))) / 2\n",
    "    return np.nanmean(msavi)"
   ]
  },
  {
   "cell_type": "code",
   "execution_count": 18,
   "metadata": {
    "execution": {
     "iopub.execute_input": "2025-02-05T19:56:24.451290Z",
     "iopub.status.busy": "2025-02-05T19:56:24.450957Z",
     "iopub.status.idle": "2025-02-05T19:56:24.471376Z",
     "shell.execute_reply": "2025-02-05T19:56:24.470296Z",
     "shell.execute_reply.started": "2025-02-05T19:56:24.451264Z"
    }
   },
   "outputs": [
    {
     "data": {
      "text/html": [
       "\n",
       "            <style>\n",
       "                .geemap-dark {\n",
       "                    --jp-widgets-color: white;\n",
       "                    --jp-widgets-label-color: white;\n",
       "                    --jp-ui-font-color1: white;\n",
       "                    --jp-layout-color2: #454545;\n",
       "                    background-color: #383838;\n",
       "                }\n",
       "\n",
       "                .geemap-dark .jupyter-button {\n",
       "                    --jp-layout-color3: #383838;\n",
       "                }\n",
       "\n",
       "                .geemap-colab {\n",
       "                    background-color: var(--colab-primary-surface-color, white);\n",
       "                }\n",
       "\n",
       "                .geemap-colab .jupyter-button {\n",
       "                    --jp-layout-color3: var(--colab-primary-surface-color, white);\n",
       "                }\n",
       "            </style>\n",
       "            "
      ],
      "text/plain": [
       "<IPython.core.display.HTML object>"
      ]
     },
     "metadata": {},
     "output_type": "display_data"
    }
   ],
   "source": [
    "def calculate_bsi(red_band, blue_band, nir_band, swir_band):\n",
    "    \"\"\"Calculate BSI (Bare Soil Index).\"\"\"\n",
    "    bsi = ((red_band + swir_band) - (nir_band + blue_band)) / ((red_band + swir_band) + (nir_band + blue_band))\n",
    "    return np.nanmean(bsi)\n",
    "def calculate_gci(nir_band, green_band):\n",
    "    \"\"\"Calculate GCI (Green Chlorophyll Index).\"\"\"\n",
    "    gci = (nir_band / green_band) - 1\n",
    "    return np.nanmean(gci)\n",
    "def calculate_rendvi(re_band, nir_band):\n",
    "    \"\"\"Calculate RENDVI (Red Edge NDVI).\"\"\"\n",
    "    rendvi = (nir_band - re_band) / (nir_band + re_band)\n",
    "    return np.nanmean(rendvi)\n"
   ]
  },
  {
   "cell_type": "code",
   "execution_count": 19,
   "metadata": {
    "execution": {
     "iopub.execute_input": "2025-02-05T19:56:24.472882Z",
     "iopub.status.busy": "2025-02-05T19:56:24.472543Z",
     "iopub.status.idle": "2025-02-05T19:56:24.499135Z",
     "shell.execute_reply": "2025-02-05T19:56:24.497904Z",
     "shell.execute_reply.started": "2025-02-05T19:56:24.472846Z"
    },
    "id": "ijS4DecElDO9",
    "outputId": "7cf9cfdf-fe41-4d67-8ea0-b1254f17d3b3"
   },
   "outputs": [
    {
     "data": {
      "text/html": [
       "\n",
       "            <style>\n",
       "                .geemap-dark {\n",
       "                    --jp-widgets-color: white;\n",
       "                    --jp-widgets-label-color: white;\n",
       "                    --jp-ui-font-color1: white;\n",
       "                    --jp-layout-color2: #454545;\n",
       "                    background-color: #383838;\n",
       "                }\n",
       "\n",
       "                .geemap-dark .jupyter-button {\n",
       "                    --jp-layout-color3: #383838;\n",
       "                }\n",
       "\n",
       "                .geemap-colab {\n",
       "                    background-color: var(--colab-primary-surface-color, white);\n",
       "                }\n",
       "\n",
       "                .geemap-colab .jupyter-button {\n",
       "                    --jp-layout-color3: var(--colab-primary-surface-color, white);\n",
       "                }\n",
       "            </style>\n",
       "            "
      ],
      "text/plain": [
       "<IPython.core.display.HTML object>"
      ]
     },
     "metadata": {},
     "output_type": "display_data"
    }
   ],
   "source": [
    "# Function to calculate features for each row in the data\n",
    "def process_row_for_features(index, row):\n",
    "    features = {'index': index}\n",
    "\n",
    "    # Retrieve the TIFF file path and check if it's valid\n",
    "    tif_path = row['tif_path']\n",
    "    if not isinstance(tif_path, str):\n",
    "        print(f\"Skipping entry due to missing tif_path for index {index}\")\n",
    "        # Add NaN for all features if path is missing\n",
    "        features.update({\n",
    "            'ndvi': np.nan,\n",
    "            'evi': np.nan,\n",
    "            'ndwi': np.nan,\n",
    "            'gndvi': np.nan,\n",
    "            'savi': np.nan,\n",
    "            'msavi': np.nan,\n",
    "            'bsi': np.nan,\n",
    "            'gci': np.nan,\n",
    "            'rendvi': np.nan\n",
    "        })\n",
    "        return features\n",
    "\n",
    "    # Open the TIFF file and read bands for feature calculation\n",
    "    with rasterio.open(tif_path) as src:\n",
    "        red = src.read(3)    # B4 for Red\n",
    "        green = src.read(2)  # B3 for Green\n",
    "        blue = src.read(1)   # B2 for Blue\n",
    "        nir = src.read(4)    # B8 for NIR\n",
    "        swir = src.read(5)   # B11 for SWIR (if available)\n",
    "        re = src.read(6)     # B5 for Red Edge (if available)\n",
    "\n",
    "        # Calculate each feature\n",
    "        features['ndvi'] = calculate_ndvi(nir, red)\n",
    "        features['evi'] = calculate_evi(nir, red, blue)\n",
    "        features['ndwi'] = calculate_ndwi(nir, green)\n",
    "        features['gndvi'] = calculate_gndvi(nir, green)\n",
    "        features['savi'] = calculate_savi(nir, red)\n",
    "        features['msavi'] = calculate_msavi(nir, red)\n",
    "        features['bsi'] = calculate_bsi(red, blue, nir, swir) if 'swir' in locals() else np.nan\n",
    "        features['gci'] = calculate_gci(nir, green)\n",
    "        features['rendvi'] = calculate_rendvi(re, nir) if 're' in locals() else np.nan\n",
    "\n",
    "    return features"
   ]
  },
  {
   "cell_type": "code",
   "execution_count": 20,
   "metadata": {
    "execution": {
     "iopub.execute_input": "2025-02-05T19:56:24.504308Z",
     "iopub.status.busy": "2025-02-05T19:56:24.503941Z",
     "iopub.status.idle": "2025-02-05T19:56:24.572161Z",
     "shell.execute_reply": "2025-02-05T19:56:24.570627Z",
     "shell.execute_reply.started": "2025-02-05T19:56:24.504268Z"
    }
   },
   "outputs": [
    {
     "data": {
      "text/html": [
       "\n",
       "            <style>\n",
       "                .geemap-dark {\n",
       "                    --jp-widgets-color: white;\n",
       "                    --jp-widgets-label-color: white;\n",
       "                    --jp-ui-font-color1: white;\n",
       "                    --jp-layout-color2: #454545;\n",
       "                    background-color: #383838;\n",
       "                }\n",
       "\n",
       "                .geemap-dark .jupyter-button {\n",
       "                    --jp-layout-color3: #383838;\n",
       "                }\n",
       "\n",
       "                .geemap-colab {\n",
       "                    background-color: var(--colab-primary-surface-color, white);\n",
       "                }\n",
       "\n",
       "                .geemap-colab .jupyter-button {\n",
       "                    --jp-layout-color3: var(--colab-primary-surface-color, white);\n",
       "                }\n",
       "            </style>\n",
       "            "
      ],
      "text/plain": [
       "<IPython.core.display.HTML object>"
      ]
     },
     "metadata": {},
     "output_type": "display_data"
    }
   ],
   "source": [
    "import numpy as np\n",
    "import rasterio\n",
    "from scipy.special import boxcox1p\n",
    "from scipy.stats import skew\n",
    "from skimage.feature import graycomatrix, graycoprops\n",
    "\n",
    "# ----------------------------\n",
    "# Spectral Index Functions\n",
    "# ----------------------------\n",
    "\n",
    "def calculate_ndvi(nir_band, red_band):\n",
    "    \"\"\"Calculate NDVI (Normalized Difference Vegetation Index).\"\"\"\n",
    "    ndvi = (nir_band - red_band) / (nir_band + red_band + 1e-6)\n",
    "    return np.nanmean(ndvi)\n",
    "\n",
    "def calculate_evi(nir_band, red_band, blue_band):\n",
    "    \"\"\"Calculate EVI (Enhanced Vegetation Index).\"\"\"\n",
    "    evi = 2.5 * (nir_band - red_band) / (nir_band + 6 * red_band - 7.5 * blue_band + 1)\n",
    "    return np.nanmean(evi)\n",
    "\n",
    "def calculate_ndwi(nir_band, green_band):\n",
    "    \"\"\"Calculate NDWI (Normalized Difference Water Index).\"\"\"\n",
    "    ndwi = (green_band - nir_band) / (green_band + nir_band + 1e-6)\n",
    "    return np.nanmean(ndwi)\n",
    "\n",
    "def calculate_gndvi(nir_band, green_band):\n",
    "    \"\"\"Calculate GNDVI (Green Normalized Difference Vegetation Index).\"\"\"\n",
    "    gndvi = (nir_band - green_band) / (nir_band + green_band + 1e-6)\n",
    "    return np.nanmean(gndvi)\n",
    "\n",
    "def calculate_savi(nir_band, red_band, L=0.5):\n",
    "    \"\"\"Calculate SAVI (Soil Adjusted Vegetation Index).\"\"\"\n",
    "    savi = ((nir_band - red_band) / (nir_band + red_band + L)) * (1 + L)\n",
    "    return np.nanmean(savi)\n",
    "\n",
    "def calculate_msavi(nir_band, red_band):\n",
    "    \"\"\"Calculate MSAVI (Modified Soil Adjusted Vegetation Index).\"\"\"\n",
    "    msavi = (2 * nir_band + 1 - np.sqrt((2 * nir_band + 1)**2 - 8 * (nir_band - red_band))) / 2\n",
    "    return np.nanmean(msavi)\n",
    "\n",
    "def calculate_bsi(red_band, blue_band, nir_band, swir_band):\n",
    "    \"\"\"Calculate BSI (Bare Soil Index).\"\"\"\n",
    "    bsi = ((red_band + swir_band) - (nir_band + blue_band)) / ((red_band + swir_band) + (nir_band + blue_band) + 1e-6)\n",
    "    return np.nanmean(bsi)\n",
    "\n",
    "def calculate_gci(nir_band, green_band):\n",
    "    \"\"\"Calculate GCI (Green Chlorophyll Index).\"\"\"\n",
    "    gci = (nir_band / (green_band + 1e-6)) - 1\n",
    "    return np.nanmean(gci)\n",
    "\n",
    "def calculate_rendvi(re_band, nir_band):\n",
    "    \"\"\"Calculate RENDVI (Red Edge NDVI).\"\"\"\n",
    "    rendvi = (nir_band - re_band) / (nir_band + re_band + 1e-6)\n",
    "    return np.nanmean(rendvi)\n",
    "\n",
    "def calculate_ndmi(nir_band, swir_band):\n",
    "    \"\"\"Calculate NDMI (Normalized Difference Moisture Index).\"\"\"\n",
    "    ndmi = (nir_band - swir_band) / (nir_band + swir_band + 1e-6)\n",
    "    return np.nanmean(ndmi)\n",
    "\n",
    "def calculate_osavi(nir_band, red_band):\n",
    "    \"\"\"Calculate OSAVI (Optimized Soil Adjusted Vegetation Index).\"\"\"\n",
    "    osavi = (nir_band - red_band) / (nir_band + red_band + 0.16)\n",
    "    return np.nanmean(osavi)\n",
    "\n",
    "def calculate_mcari(red_edge_band, red_band, blue_band):\n",
    "    \"\"\"Calculate MCARI (Modified Chlorophyll Absorption in Reflectance Index). \\n\n",
    "       Note: MCARI is sensitive to chlorophyll content. Requires red edge band.\"\"\"\n",
    "    mcari = (red_edge_band - red_band) - 0.2 * (red_edge_band - blue_band)\n",
    "    return np.nanmean(mcari)\n",
    "\n",
    "def calculate_pri(green_band, blue_band):\n",
    "    \"\"\"Calculate PRI (Photochemical Reflectance Index). \\n\n",
    "       PRI is related to photosynthetic light use efficiency.\"\"\"\n",
    "    pri = (green_band - blue_band) / (green_band + blue_band + 1e-6)\n",
    "    return np.nanmean(pri)\n",
    "\n",
    "# ----------------------------\n",
    "# Texture Feature Function\n",
    "# ----------------------------\n",
    "def calculate_texture_features(band, distances=[1], angles=[0], levels=256):\n",
    "    \"\"\"\n",
    "    Calculate texture features using Gray-Level Co-occurrence Matrix (GLCM).\n",
    "    Returns a dictionary with contrast, dissimilarity, homogeneity, energy, correlation, and ASM.\n",
    "    \"\"\"\n",
    "    # Replace NaNs with 0, normalize the band to the range [0, levels-1]\n",
    "    band = np.nan_to_num(band, nan=0)\n",
    "    band_norm = (band - np.min(band)) / (np.max(band) - np.min(band) + 1e-6)\n",
    "    band_scaled = (band_norm * (levels - 1)).astype('uint8')\n",
    "    \n",
    "    glcm = graycomatrix(band_scaled, distances=distances, angles=angles, levels=levels, symmetric=True, normed=True)\n",
    "    \n",
    "    features = {\n",
    "        'glcm_contrast': graycoprops(glcm, 'contrast')[0, 0],\n",
    "        'glcm_dissimilarity': graycoprops(glcm, 'dissimilarity')[0, 0],\n",
    "        'glcm_homogeneity': graycoprops(glcm, 'homogeneity')[0, 0],\n",
    "        'glcm_energy': graycoprops(glcm, 'energy')[0, 0],\n",
    "        'glcm_correlation': graycoprops(glcm, 'correlation')[0, 0],\n",
    "        'glcm_asm': graycoprops(glcm, 'ASM')[0, 0]\n",
    "    }\n",
    "    return features\n",
    "\n",
    "# ----------------------------\n",
    "# Main Processing Function\n",
    "# ----------------------------\n",
    "def process_row_for_features(index, row):\n",
    "    \"\"\"\n",
    "    Calculate a suite of spectral and texture features for a given row of input data.\n",
    "    This function is designed to support agricultural classification (Diseased, Pests, Stressed, Healthy)\n",
    "    by extracting science-based features from multispectral TIFF imagery.\n",
    "    \"\"\"\n",
    "    features = {'index': index}\n",
    "\n",
    "    # Retrieve the TIFF file path and check if it's valid\n",
    "    tif_path = row.get('tif_path')\n",
    "    if not isinstance(tif_path, str):\n",
    "        print(f\"Skipping entry due to missing tif_path for index {index}\")\n",
    "        # Add NaN for all features if path is missing\n",
    "        features.update({\n",
    "            'ndvi': np.nan, 'evi': np.nan, 'ndwi': np.nan, 'gndvi': np.nan,\n",
    "            'savi': np.nan, 'msavi': np.nan, 'bsi': np.nan, 'gci': np.nan,\n",
    "            'rendvi': np.nan, 'ndmi': np.nan, 'osavi': np.nan, 'mcari': np.nan,\n",
    "            'pri': np.nan\n",
    "        })\n",
    "        # Optionally add placeholder texture features\n",
    "        for key in ['glcm_contrast', 'glcm_dissimilarity', 'glcm_homogeneity', \n",
    "                    'glcm_energy', 'glcm_correlation', 'glcm_asm']:\n",
    "            features[key] = np.nan\n",
    "        return features\n",
    "\n",
    "    # Open the TIFF file and read bands for feature calculation\n",
    "    with rasterio.open(tif_path) as src:\n",
    "        # Read bands; the exact band order may differ by sensor\n",
    "        # For example purposes, we assume:\n",
    "        # Band 1: Blue, Band 2: Green, Band 3: Red, Band 4: NIR, \n",
    "        # Band 5: SWIR, Band 6: Red Edge (if available)\n",
    "        try:\n",
    "            blue = src.read(1)\n",
    "            green = src.read(2)\n",
    "            red = src.read(3)\n",
    "            nir = src.read(4)\n",
    "        except Exception as e:\n",
    "            print(f\"Error reading mandatory bands for index {index}: {e}\")\n",
    "            return features\n",
    "\n",
    "        # Attempt to read additional bands if available\n",
    "        try:\n",
    "            swir = src.read(5)\n",
    "        except Exception:\n",
    "            swir = None\n",
    "\n",
    "        try:\n",
    "            red_edge = src.read(6)\n",
    "        except Exception:\n",
    "            red_edge = None\n",
    "\n",
    "        # Calculate spectral indices (basic and advanced)\n",
    "        features['ndvi'] = calculate_ndvi(nir, red)\n",
    "        features['evi'] = calculate_evi(nir, red, blue)\n",
    "        features['ndwi'] = calculate_ndwi(nir, green)\n",
    "        features['gndvi'] = calculate_gndvi(nir, green)\n",
    "        features['savi'] = calculate_savi(nir, red)\n",
    "        features['msavi'] = calculate_msavi(nir, red)\n",
    "        features['gci'] = calculate_gci(nir, green)\n",
    "        features['pri'] = calculate_pri(green, blue)\n",
    "        features['osavi'] = calculate_osavi(nir, red)\n",
    "        \n",
    "        if swir is not None:\n",
    "            features['bsi'] = calculate_bsi(red, blue, nir, swir)\n",
    "            features['ndmi'] = calculate_ndmi(nir, swir)\n",
    "        else:\n",
    "            features['bsi'] = np.nan\n",
    "            features['ndmi'] = np.nan\n",
    "\n",
    "        if red_edge is not None:\n",
    "            features['rendvi'] = calculate_rendvi(red_edge, nir)\n",
    "            features['mcari'] = calculate_mcari(red_edge, red, blue)\n",
    "        else:\n",
    "            features['rendvi'] = np.nan\n",
    "            features['mcari'] = np.nan\n",
    "\n",
    "        # ----------------------------\n",
    "        # Texture Feature Extraction\n",
    "        # ----------------------------\n",
    "        # Example: Compute texture features on the NDVI image.\n",
    "        # You can also compute texture features on any band (or combination) that is relevant.\n",
    "        # Here we create a temporary NDVI image.\n",
    "        ndvi_image = (nir - red) / (nir + red + 1e-6)\n",
    "        texture_feats = calculate_texture_features(ndvi_image)\n",
    "        features.update(texture_feats)\n",
    "\n",
    "    return features"
   ]
  },
  {
   "cell_type": "code",
   "execution_count": 21,
   "metadata": {
    "execution": {
     "iopub.execute_input": "2025-02-05T19:56:24.576620Z",
     "iopub.status.busy": "2025-02-05T19:56:24.575717Z",
     "iopub.status.idle": "2025-02-05T19:56:24.584196Z",
     "shell.execute_reply": "2025-02-05T19:56:24.582916Z",
     "shell.execute_reply.started": "2025-02-05T19:56:24.576581Z"
    }
   },
   "outputs": [
    {
     "data": {
      "text/html": [
       "\n",
       "            <style>\n",
       "                .geemap-dark {\n",
       "                    --jp-widgets-color: white;\n",
       "                    --jp-widgets-label-color: white;\n",
       "                    --jp-ui-font-color1: white;\n",
       "                    --jp-layout-color2: #454545;\n",
       "                    background-color: #383838;\n",
       "                }\n",
       "\n",
       "                .geemap-dark .jupyter-button {\n",
       "                    --jp-layout-color3: #383838;\n",
       "                }\n",
       "\n",
       "                .geemap-colab {\n",
       "                    background-color: var(--colab-primary-surface-color, white);\n",
       "                }\n",
       "\n",
       "                .geemap-colab .jupyter-button {\n",
       "                    --jp-layout-color3: var(--colab-primary-surface-color, white);\n",
       "                }\n",
       "            </style>\n",
       "            "
      ],
      "text/plain": [
       "<IPython.core.display.HTML object>"
      ]
     },
     "metadata": {},
     "output_type": "display_data"
    },
    {
     "name": "stdout",
     "output_type": "stream",
     "text": [
      "['BRIEF', 'CENSURE', 'Cascade', 'ORB', 'SIFT', 'blob_dog', 'blob_doh', 'blob_log', 'canny', 'corner_fast', 'corner_foerstner', 'corner_harris', 'corner_kitchen_rosenfeld', 'corner_moravec', 'corner_orientations', 'corner_peaks', 'corner_shi_tomasi', 'corner_subpix', 'daisy', 'draw_haar_like_feature', 'draw_multiblock_lbp', 'fisher_vector', 'graycomatrix', 'graycoprops', 'haar_like_feature', 'haar_like_feature_coord', 'hessian_matrix', 'hessian_matrix_det', 'hessian_matrix_eigvals', 'hog', 'learn_gmm', 'local_binary_pattern', 'match_descriptors', 'match_template', 'multiblock_lbp', 'multiscale_basic_features', 'peak_local_max', 'plot_matched_features', 'shape_index', 'structure_tensor', 'structure_tensor_eigenvalues']\n"
     ]
    }
   ],
   "source": [
    "from skimage.feature import __all__\n",
    "print(__all__)\n"
   ]
  },
  {
   "cell_type": "code",
   "execution_count": 22,
   "metadata": {
    "execution": {
     "iopub.execute_input": "2025-02-05T19:56:24.585964Z",
     "iopub.status.busy": "2025-02-05T19:56:24.585510Z",
     "iopub.status.idle": "2025-02-05T19:56:28.873363Z",
     "shell.execute_reply": "2025-02-05T19:56:28.871475Z",
     "shell.execute_reply.started": "2025-02-05T19:56:24.585926Z"
    }
   },
   "outputs": [
    {
     "data": {
      "text/html": [
       "\n",
       "            <style>\n",
       "                .geemap-dark {\n",
       "                    --jp-widgets-color: white;\n",
       "                    --jp-widgets-label-color: white;\n",
       "                    --jp-ui-font-color1: white;\n",
       "                    --jp-layout-color2: #454545;\n",
       "                    background-color: #383838;\n",
       "                }\n",
       "\n",
       "                .geemap-dark .jupyter-button {\n",
       "                    --jp-layout-color3: #383838;\n",
       "                }\n",
       "\n",
       "                .geemap-colab {\n",
       "                    background-color: var(--colab-primary-surface-color, white);\n",
       "                }\n",
       "\n",
       "                .geemap-colab .jupyter-button {\n",
       "                    --jp-layout-color3: var(--colab-primary-surface-color, white);\n",
       "                }\n",
       "            </style>\n",
       "            "
      ],
      "text/plain": [
       "<IPython.core.display.HTML object>"
      ]
     },
     "metadata": {},
     "output_type": "display_data"
    },
    {
     "name": "stdout",
     "output_type": "stream",
     "text": [
      "Requirement already satisfied: scikit-image in /usr/local/lib/python3.10/dist-packages (0.25.0)\n",
      "Requirement already satisfied: numpy>=1.24 in /usr/local/lib/python3.10/dist-packages (from scikit-image) (1.26.4)\n",
      "Requirement already satisfied: scipy>=1.11.2 in /usr/local/lib/python3.10/dist-packages (from scikit-image) (1.13.1)\n",
      "Requirement already satisfied: networkx>=3.0 in /usr/local/lib/python3.10/dist-packages (from scikit-image) (3.4.2)\n",
      "Requirement already satisfied: pillow>=10.1 in /usr/local/lib/python3.10/dist-packages (from scikit-image) (11.0.0)\n",
      "Requirement already satisfied: imageio!=2.35.0,>=2.33 in /usr/local/lib/python3.10/dist-packages (from scikit-image) (2.36.1)\n",
      "Requirement already satisfied: tifffile>=2022.8.12 in /usr/local/lib/python3.10/dist-packages (from scikit-image) (2024.12.12)\n",
      "Requirement already satisfied: packaging>=21 in /usr/local/lib/python3.10/dist-packages (from scikit-image) (24.2)\n",
      "Requirement already satisfied: lazy-loader>=0.4 in /usr/local/lib/python3.10/dist-packages (from scikit-image) (0.4)\n",
      "Requirement already satisfied: mkl_fft in /usr/local/lib/python3.10/dist-packages (from numpy>=1.24->scikit-image) (1.3.8)\n",
      "Requirement already satisfied: mkl_random in /usr/local/lib/python3.10/dist-packages (from numpy>=1.24->scikit-image) (1.2.4)\n",
      "Requirement already satisfied: mkl_umath in /usr/local/lib/python3.10/dist-packages (from numpy>=1.24->scikit-image) (0.1.1)\n",
      "Requirement already satisfied: mkl in /usr/local/lib/python3.10/dist-packages (from numpy>=1.24->scikit-image) (2025.0.1)\n",
      "Requirement already satisfied: tbb4py in /usr/local/lib/python3.10/dist-packages (from numpy>=1.24->scikit-image) (2022.0.0)\n",
      "Requirement already satisfied: mkl-service in /usr/local/lib/python3.10/dist-packages (from numpy>=1.24->scikit-image) (2.4.1)\n",
      "Requirement already satisfied: intel-openmp>=2024 in /usr/local/lib/python3.10/dist-packages (from mkl->numpy>=1.24->scikit-image) (2024.2.0)\n",
      "Requirement already satisfied: tbb==2022.* in /usr/local/lib/python3.10/dist-packages (from mkl->numpy>=1.24->scikit-image) (2022.0.0)\n",
      "Requirement already satisfied: tcmlib==1.* in /usr/local/lib/python3.10/dist-packages (from tbb==2022.*->mkl->numpy>=1.24->scikit-image) (1.2.0)\n",
      "Requirement already satisfied: intel-cmplr-lib-rt in /usr/local/lib/python3.10/dist-packages (from mkl_umath->numpy>=1.24->scikit-image) (2024.2.0)\n",
      "Requirement already satisfied: intel-cmplr-lib-ur==2024.2.0 in /usr/local/lib/python3.10/dist-packages (from intel-openmp>=2024->mkl->numpy>=1.24->scikit-image) (2024.2.0)\n"
     ]
    }
   ],
   "source": [
    "!pip install scikit-image"
   ]
  },
  {
   "cell_type": "markdown",
   "metadata": {
    "id": "AiWAB-c9lTzs"
   },
   "source": [
    "**Calculate Features**"
   ]
  },
  {
   "cell_type": "code",
   "execution_count": 23,
   "metadata": {
    "execution": {
     "iopub.execute_input": "2025-02-05T19:56:28.875070Z",
     "iopub.status.busy": "2025-02-05T19:56:28.874715Z",
     "iopub.status.idle": "2025-02-05T19:58:07.972659Z",
     "shell.execute_reply": "2025-02-05T19:58:07.971294Z",
     "shell.execute_reply.started": "2025-02-05T19:56:28.875029Z"
    },
    "id": "28PEFdMblDLd",
    "outputId": "c08142c7-9939-42f7-95ed-b5d26fbee738"
   },
   "outputs": [
    {
     "data": {
      "text/html": [
       "\n",
       "            <style>\n",
       "                .geemap-dark {\n",
       "                    --jp-widgets-color: white;\n",
       "                    --jp-widgets-label-color: white;\n",
       "                    --jp-ui-font-color1: white;\n",
       "                    --jp-layout-color2: #454545;\n",
       "                    background-color: #383838;\n",
       "                }\n",
       "\n",
       "                .geemap-dark .jupyter-button {\n",
       "                    --jp-layout-color3: #383838;\n",
       "                }\n",
       "\n",
       "                .geemap-colab {\n",
       "                    background-color: var(--colab-primary-surface-color, white);\n",
       "                }\n",
       "\n",
       "                .geemap-colab .jupyter-button {\n",
       "                    --jp-layout-color3: var(--colab-primary-surface-color, white);\n",
       "                }\n",
       "            </style>\n",
       "            "
      ],
      "text/plain": [
       "<IPython.core.display.HTML object>"
      ]
     },
     "metadata": {},
     "output_type": "display_data"
    },
    {
     "name": "stderr",
     "output_type": "stream",
     "text": [
      "100%|██████████| 11791/11791 [01:38<00:00, 119.65it/s]\n"
     ]
    }
   ],
   "source": [
    "# Use parallel processing to calculate features for each row\n",
    "# `tqdm` provides a progress bar to track completion\n",
    "new_features = Parallel(n_jobs=-1)(delayed(process_row_for_features)(index, row)\n",
    "                                   for index, row in tqdm(data.iterrows(), total=len(data)))"
   ]
  },
  {
   "cell_type": "markdown",
   "metadata": {
    "id": "wMc5wyEwlTCx"
   },
   "source": [
    "**Merge New Features with Original Data**"
   ]
  },
  {
   "cell_type": "code",
   "execution_count": 24,
   "metadata": {
    "execution": {
     "iopub.execute_input": "2025-02-05T19:58:07.974368Z",
     "iopub.status.busy": "2025-02-05T19:58:07.974015Z",
     "iopub.status.idle": "2025-02-05T19:58:08.065437Z",
     "shell.execute_reply": "2025-02-05T19:58:08.064188Z",
     "shell.execute_reply.started": "2025-02-05T19:58:07.974336Z"
    },
    "id": "in-pNAYFl79k",
    "outputId": "bfd24cf5-abdb-4a93-b37d-5ee74cef936e"
   },
   "outputs": [
    {
     "data": {
      "text/html": [
       "\n",
       "            <style>\n",
       "                .geemap-dark {\n",
       "                    --jp-widgets-color: white;\n",
       "                    --jp-widgets-label-color: white;\n",
       "                    --jp-ui-font-color1: white;\n",
       "                    --jp-layout-color2: #454545;\n",
       "                    background-color: #383838;\n",
       "                }\n",
       "\n",
       "                .geemap-dark .jupyter-button {\n",
       "                    --jp-layout-color3: #383838;\n",
       "                }\n",
       "\n",
       "                .geemap-colab {\n",
       "                    background-color: var(--colab-primary-surface-color, white);\n",
       "                }\n",
       "\n",
       "                .geemap-colab .jupyter-button {\n",
       "                    --jp-layout-color3: var(--colab-primary-surface-color, white);\n",
       "                }\n",
       "            </style>\n",
       "            "
      ],
      "text/plain": [
       "<IPython.core.display.HTML object>"
      ]
     },
     "metadata": {},
     "output_type": "display_data"
    }
   ],
   "source": [
    "# Convert list of features to a DataFrame and merge with the original data\n",
    "new_features_df = pd.DataFrame(new_features).set_index('index')\n",
    "data = data.join(new_features_df)"
   ]
  },
  {
   "cell_type": "code",
   "execution_count": 25,
   "metadata": {
    "execution": {
     "iopub.execute_input": "2025-02-05T19:58:08.067060Z",
     "iopub.status.busy": "2025-02-05T19:58:08.066700Z",
     "iopub.status.idle": "2025-02-05T19:58:08.093737Z",
     "shell.execute_reply": "2025-02-05T19:58:08.092532Z",
     "shell.execute_reply.started": "2025-02-05T19:58:08.067025Z"
    },
    "id": "wNpABxfTl2Kq",
    "outputId": "ce46f25b-cecb-4808-c7e4-292246d84f30"
   },
   "outputs": [
    {
     "data": {
      "text/html": [
       "\n",
       "            <style>\n",
       "                .geemap-dark {\n",
       "                    --jp-widgets-color: white;\n",
       "                    --jp-widgets-label-color: white;\n",
       "                    --jp-ui-font-color1: white;\n",
       "                    --jp-layout-color2: #454545;\n",
       "                    background-color: #383838;\n",
       "                }\n",
       "\n",
       "                .geemap-dark .jupyter-button {\n",
       "                    --jp-layout-color3: #383838;\n",
       "                }\n",
       "\n",
       "                .geemap-colab {\n",
       "                    background-color: var(--colab-primary-surface-color, white);\n",
       "                }\n",
       "\n",
       "                .geemap-colab .jupyter-button {\n",
       "                    --jp-layout-color3: var(--colab-primary-surface-color, white);\n",
       "                }\n",
       "            </style>\n",
       "            "
      ],
      "text/plain": [
       "<IPython.core.display.HTML object>"
      ]
     },
     "metadata": {},
     "output_type": "display_data"
    },
    {
     "data": {
      "text/html": [
       "<div>\n",
       "<style scoped>\n",
       "    .dataframe tbody tr th:only-of-type {\n",
       "        vertical-align: middle;\n",
       "    }\n",
       "\n",
       "    .dataframe tbody tr th {\n",
       "        vertical-align: top;\n",
       "    }\n",
       "\n",
       "    .dataframe thead th {\n",
       "        text-align: right;\n",
       "    }\n",
       "</style>\n",
       "<table border=\"1\" class=\"dataframe\">\n",
       "  <thead>\n",
       "    <tr style=\"text-align: right;\">\n",
       "      <th></th>\n",
       "      <th>FarmID</th>\n",
       "      <th>category</th>\n",
       "      <th>Crop</th>\n",
       "      <th>State</th>\n",
       "      <th>District</th>\n",
       "      <th>Sub-District</th>\n",
       "      <th>SDate</th>\n",
       "      <th>HDate</th>\n",
       "      <th>CropCoveredArea</th>\n",
       "      <th>CHeight</th>\n",
       "      <th>...</th>\n",
       "      <th>bsi</th>\n",
       "      <th>ndmi</th>\n",
       "      <th>rendvi</th>\n",
       "      <th>mcari</th>\n",
       "      <th>glcm_contrast</th>\n",
       "      <th>glcm_dissimilarity</th>\n",
       "      <th>glcm_homogeneity</th>\n",
       "      <th>glcm_energy</th>\n",
       "      <th>glcm_correlation</th>\n",
       "      <th>glcm_asm</th>\n",
       "    </tr>\n",
       "  </thead>\n",
       "  <tbody>\n",
       "    <tr>\n",
       "      <th>0</th>\n",
       "      <td>1326576</td>\n",
       "      <td>Healthy</td>\n",
       "      <td>Paddy</td>\n",
       "      <td>Telangana</td>\n",
       "      <td>Medak</td>\n",
       "      <td>Kulcharam</td>\n",
       "      <td>25-11-2023</td>\n",
       "      <td>14-04-2024</td>\n",
       "      <td>97</td>\n",
       "      <td>54</td>\n",
       "      <td>...</td>\n",
       "      <td>4.530377</td>\n",
       "      <td>0.125265</td>\n",
       "      <td>0.568464</td>\n",
       "      <td>3932.788772</td>\n",
       "      <td>845.870370</td>\n",
       "      <td>21.796296</td>\n",
       "      <td>0.099442</td>\n",
       "      <td>0.045962</td>\n",
       "      <td>0.816874</td>\n",
       "      <td>0.002112</td>\n",
       "    </tr>\n",
       "    <tr>\n",
       "      <th>1</th>\n",
       "      <td>1326577</td>\n",
       "      <td>Healthy</td>\n",
       "      <td>Paddy</td>\n",
       "      <td>Telangana</td>\n",
       "      <td>Medak</td>\n",
       "      <td>Kulcharam</td>\n",
       "      <td>13-11-2023</td>\n",
       "      <td>26-04-2024</td>\n",
       "      <td>82</td>\n",
       "      <td>58</td>\n",
       "      <td>...</td>\n",
       "      <td>6.065033</td>\n",
       "      <td>0.118236</td>\n",
       "      <td>0.039324</td>\n",
       "      <td>674.886154</td>\n",
       "      <td>543.465587</td>\n",
       "      <td>16.323887</td>\n",
       "      <td>0.093640</td>\n",
       "      <td>0.049750</td>\n",
       "      <td>0.649683</td>\n",
       "      <td>0.002475</td>\n",
       "    </tr>\n",
       "    <tr>\n",
       "      <th>2</th>\n",
       "      <td>1326578</td>\n",
       "      <td>Healthy</td>\n",
       "      <td>Paddy</td>\n",
       "      <td>Telangana</td>\n",
       "      <td>Medak</td>\n",
       "      <td>Kulcharam</td>\n",
       "      <td>19-12-2023</td>\n",
       "      <td>28-04-2024</td>\n",
       "      <td>92</td>\n",
       "      <td>91</td>\n",
       "      <td>...</td>\n",
       "      <td>5.420150</td>\n",
       "      <td>0.131406</td>\n",
       "      <td>0.209200</td>\n",
       "      <td>864.816970</td>\n",
       "      <td>1167.146667</td>\n",
       "      <td>25.026667</td>\n",
       "      <td>0.042967</td>\n",
       "      <td>0.060000</td>\n",
       "      <td>0.715890</td>\n",
       "      <td>0.003600</td>\n",
       "    </tr>\n",
       "    <tr>\n",
       "      <th>3</th>\n",
       "      <td>1331836</td>\n",
       "      <td>Diseased</td>\n",
       "      <td>Paddy</td>\n",
       "      <td>Telangana</td>\n",
       "      <td>Medak</td>\n",
       "      <td>Kulcharam</td>\n",
       "      <td>11-02-2023</td>\n",
       "      <td>04-11-2024</td>\n",
       "      <td>91</td>\n",
       "      <td>52</td>\n",
       "      <td>...</td>\n",
       "      <td>5.748803</td>\n",
       "      <td>0.171215</td>\n",
       "      <td>0.098668</td>\n",
       "      <td>775.224667</td>\n",
       "      <td>1176.775439</td>\n",
       "      <td>25.028070</td>\n",
       "      <td>0.103544</td>\n",
       "      <td>0.044659</td>\n",
       "      <td>0.749821</td>\n",
       "      <td>0.001994</td>\n",
       "    </tr>\n",
       "    <tr>\n",
       "      <th>4</th>\n",
       "      <td>1326579</td>\n",
       "      <td>Diseased</td>\n",
       "      <td>Paddy</td>\n",
       "      <td>Telangana</td>\n",
       "      <td>Medak</td>\n",
       "      <td>Kulcharam</td>\n",
       "      <td>12-12-2023</td>\n",
       "      <td>19-05-2024</td>\n",
       "      <td>94</td>\n",
       "      <td>55</td>\n",
       "      <td>...</td>\n",
       "      <td>4.428991</td>\n",
       "      <td>0.084270</td>\n",
       "      <td>0.510771</td>\n",
       "      <td>1024.782906</td>\n",
       "      <td>1374.384615</td>\n",
       "      <td>27.384615</td>\n",
       "      <td>0.117199</td>\n",
       "      <td>0.072275</td>\n",
       "      <td>0.646116</td>\n",
       "      <td>0.005224</td>\n",
       "    </tr>\n",
       "  </tbody>\n",
       "</table>\n",
       "<p>5 rows × 41 columns</p>\n",
       "</div>"
      ],
      "text/plain": [
       "    FarmID  category   Crop      State District Sub-District       SDate  \\\n",
       "0  1326576   Healthy  Paddy  Telangana    Medak    Kulcharam  25-11-2023   \n",
       "1  1326577   Healthy  Paddy  Telangana    Medak    Kulcharam  13-11-2023   \n",
       "2  1326578   Healthy  Paddy  Telangana    Medak    Kulcharam  19-12-2023   \n",
       "3  1331836  Diseased  Paddy  Telangana    Medak    Kulcharam  11-02-2023   \n",
       "4  1326579  Diseased  Paddy  Telangana    Medak    Kulcharam  12-12-2023   \n",
       "\n",
       "        HDate  CropCoveredArea  CHeight  ...       bsi      ndmi    rendvi  \\\n",
       "0  14-04-2024               97       54  ...  4.530377  0.125265  0.568464   \n",
       "1  26-04-2024               82       58  ...  6.065033  0.118236  0.039324   \n",
       "2  28-04-2024               92       91  ...  5.420150  0.131406  0.209200   \n",
       "3  04-11-2024               91       52  ...  5.748803  0.171215  0.098668   \n",
       "4  19-05-2024               94       55  ...  4.428991  0.084270  0.510771   \n",
       "\n",
       "         mcari glcm_contrast  glcm_dissimilarity  glcm_homogeneity  \\\n",
       "0  3932.788772    845.870370           21.796296          0.099442   \n",
       "1   674.886154    543.465587           16.323887          0.093640   \n",
       "2   864.816970   1167.146667           25.026667          0.042967   \n",
       "3   775.224667   1176.775439           25.028070          0.103544   \n",
       "4  1024.782906   1374.384615           27.384615          0.117199   \n",
       "\n",
       "   glcm_energy glcm_correlation  glcm_asm  \n",
       "0     0.045962         0.816874  0.002112  \n",
       "1     0.049750         0.649683  0.002475  \n",
       "2     0.060000         0.715890  0.003600  \n",
       "3     0.044659         0.749821  0.001994  \n",
       "4     0.072275         0.646116  0.005224  \n",
       "\n",
       "[5 rows x 41 columns]"
      ]
     },
     "execution_count": 25,
     "metadata": {},
     "output_type": "execute_result"
    }
   ],
   "source": [
    "data.head()"
   ]
  },
  {
   "cell_type": "markdown",
   "metadata": {},
   "source": [
    "## Check multi Corr"
   ]
  },
  {
   "cell_type": "code",
   "execution_count": 26,
   "metadata": {
    "execution": {
     "iopub.execute_input": "2025-02-05T19:58:08.095517Z",
     "iopub.status.busy": "2025-02-05T19:58:08.095070Z",
     "iopub.status.idle": "2025-02-05T19:58:09.031535Z",
     "shell.execute_reply": "2025-02-05T19:58:09.029857Z",
     "shell.execute_reply.started": "2025-02-05T19:58:08.095476Z"
    }
   },
   "outputs": [
    {
     "data": {
      "text/html": [
       "\n",
       "            <style>\n",
       "                .geemap-dark {\n",
       "                    --jp-widgets-color: white;\n",
       "                    --jp-widgets-label-color: white;\n",
       "                    --jp-ui-font-color1: white;\n",
       "                    --jp-layout-color2: #454545;\n",
       "                    background-color: #383838;\n",
       "                }\n",
       "\n",
       "                .geemap-dark .jupyter-button {\n",
       "                    --jp-layout-color3: #383838;\n",
       "                }\n",
       "\n",
       "                .geemap-colab {\n",
       "                    background-color: var(--colab-primary-surface-color, white);\n",
       "                }\n",
       "\n",
       "                .geemap-colab .jupyter-button {\n",
       "                    --jp-layout-color3: var(--colab-primary-surface-color, white);\n",
       "                }\n",
       "            </style>\n",
       "            "
      ],
      "text/plain": [
       "<IPython.core.display.HTML object>"
      ]
     },
     "metadata": {},
     "output_type": "display_data"
    },
    {
     "data": {
      "text/plain": [
       "<Axes: >"
      ]
     },
     "execution_count": 26,
     "metadata": {},
     "output_type": "execute_result"
    },
    {
     "data": {
      "image/png": "[encoded data removed]",
      "text/plain": [
       "<Figure size 640x480 with 2 Axes>"
      ]
     },
     "metadata": {},
     "output_type": "display_data"
    }
   ],
   "source": [
    "import seaborn as sns\n",
    "sns.heatmap(data.select_dtypes('number').corr())"
   ]
  },
  {
   "cell_type": "code",
   "execution_count": 27,
   "metadata": {
    "execution": {
     "iopub.execute_input": "2025-02-05T19:58:09.033612Z",
     "iopub.status.busy": "2025-02-05T19:58:09.032721Z",
     "iopub.status.idle": "2025-02-05T19:58:09.094355Z",
     "shell.execute_reply": "2025-02-05T19:58:09.093233Z",
     "shell.execute_reply.started": "2025-02-05T19:58:09.033571Z"
    }
   },
   "outputs": [
    {
     "data": {
      "text/html": [
       "\n",
       "            <style>\n",
       "                .geemap-dark {\n",
       "                    --jp-widgets-color: white;\n",
       "                    --jp-widgets-label-color: white;\n",
       "                    --jp-ui-font-color1: white;\n",
       "                    --jp-layout-color2: #454545;\n",
       "                    background-color: #383838;\n",
       "                }\n",
       "\n",
       "                .geemap-dark .jupyter-button {\n",
       "                    --jp-layout-color3: #383838;\n",
       "                }\n",
       "\n",
       "                .geemap-colab {\n",
       "                    background-color: var(--colab-primary-surface-color, white);\n",
       "                }\n",
       "\n",
       "                .geemap-colab .jupyter-button {\n",
       "                    --jp-layout-color3: var(--colab-primary-surface-color, white);\n",
       "                }\n",
       "            </style>\n",
       "            "
      ],
      "text/plain": [
       "<IPython.core.display.HTML object>"
      ]
     },
     "metadata": {},
     "output_type": "display_data"
    },
    {
     "data": {
      "text/html": [
       "<div>\n",
       "<style scoped>\n",
       "    .dataframe tbody tr th:only-of-type {\n",
       "        vertical-align: middle;\n",
       "    }\n",
       "\n",
       "    .dataframe tbody tr th {\n",
       "        vertical-align: top;\n",
       "    }\n",
       "\n",
       "    .dataframe thead th {\n",
       "        text-align: right;\n",
       "    }\n",
       "</style>\n",
       "<table border=\"1\" class=\"dataframe\">\n",
       "  <thead>\n",
       "    <tr style=\"text-align: right;\">\n",
       "      <th></th>\n",
       "      <th>FarmID</th>\n",
       "      <th>CropCoveredArea</th>\n",
       "      <th>CHeight</th>\n",
       "      <th>IrriCount</th>\n",
       "      <th>WaterCov</th>\n",
       "      <th>ExpYield</th>\n",
       "      <th>ndvi</th>\n",
       "      <th>evi</th>\n",
       "      <th>ndwi</th>\n",
       "      <th>gndvi</th>\n",
       "      <th>...</th>\n",
       "      <th>bsi</th>\n",
       "      <th>ndmi</th>\n",
       "      <th>rendvi</th>\n",
       "      <th>mcari</th>\n",
       "      <th>glcm_contrast</th>\n",
       "      <th>glcm_dissimilarity</th>\n",
       "      <th>glcm_homogeneity</th>\n",
       "      <th>glcm_energy</th>\n",
       "      <th>glcm_correlation</th>\n",
       "      <th>glcm_asm</th>\n",
       "    </tr>\n",
       "  </thead>\n",
       "  <tbody>\n",
       "    <tr>\n",
       "      <th>FarmID</th>\n",
       "      <td>1.000000</td>\n",
       "      <td>-0.077739</td>\n",
       "      <td>-0.072700</td>\n",
       "      <td>-0.047447</td>\n",
       "      <td>-0.058198</td>\n",
       "      <td>-0.155239</td>\n",
       "      <td>-0.015523</td>\n",
       "      <td>0.013087</td>\n",
       "      <td>0.031662</td>\n",
       "      <td>-0.012394</td>\n",
       "      <td>...</td>\n",
       "      <td>0.019723</td>\n",
       "      <td>-0.005968</td>\n",
       "      <td>-0.026979</td>\n",
       "      <td>-0.025256</td>\n",
       "      <td>-0.032075</td>\n",
       "      <td>-0.051494</td>\n",
       "      <td>0.002057</td>\n",
       "      <td>-0.011931</td>\n",
       "      <td>0.022688</td>\n",
       "      <td>-0.012307</td>\n",
       "    </tr>\n",
       "    <tr>\n",
       "      <th>CropCoveredArea</th>\n",
       "      <td>-0.077739</td>\n",
       "      <td>1.000000</td>\n",
       "      <td>0.316362</td>\n",
       "      <td>0.291978</td>\n",
       "      <td>0.589567</td>\n",
       "      <td>0.659212</td>\n",
       "      <td>0.016263</td>\n",
       "      <td>-0.011618</td>\n",
       "      <td>-0.101057</td>\n",
       "      <td>0.019419</td>\n",
       "      <td>...</td>\n",
       "      <td>-0.095498</td>\n",
       "      <td>0.020100</td>\n",
       "      <td>0.036021</td>\n",
       "      <td>0.009848</td>\n",
       "      <td>0.031368</td>\n",
       "      <td>0.096606</td>\n",
       "      <td>-0.037538</td>\n",
       "      <td>-0.006971</td>\n",
       "      <td>-0.024239</td>\n",
       "      <td>-0.005226</td>\n",
       "    </tr>\n",
       "    <tr>\n",
       "      <th>CHeight</th>\n",
       "      <td>-0.072700</td>\n",
       "      <td>0.316362</td>\n",
       "      <td>1.000000</td>\n",
       "      <td>0.117583</td>\n",
       "      <td>-0.007512</td>\n",
       "      <td>0.583791</td>\n",
       "      <td>-0.003439</td>\n",
       "      <td>0.000081</td>\n",
       "      <td>0.003172</td>\n",
       "      <td>-0.000653</td>\n",
       "      <td>...</td>\n",
       "      <td>0.020196</td>\n",
       "      <td>0.015954</td>\n",
       "      <td>-0.024609</td>\n",
       "      <td>0.012725</td>\n",
       "      <td>-0.016480</td>\n",
       "      <td>-0.021384</td>\n",
       "      <td>0.017287</td>\n",
       "      <td>0.010770</td>\n",
       "      <td>0.014849</td>\n",
       "      <td>0.010271</td>\n",
       "    </tr>\n",
       "    <tr>\n",
       "      <th>IrriCount</th>\n",
       "      <td>-0.047447</td>\n",
       "      <td>0.291978</td>\n",
       "      <td>0.117583</td>\n",
       "      <td>1.000000</td>\n",
       "      <td>0.458527</td>\n",
       "      <td>0.216943</td>\n",
       "      <td>-0.006895</td>\n",
       "      <td>-0.028276</td>\n",
       "      <td>-0.144099</td>\n",
       "      <td>0.023961</td>\n",
       "      <td>...</td>\n",
       "      <td>-0.107485</td>\n",
       "      <td>0.035815</td>\n",
       "      <td>0.019107</td>\n",
       "      <td>0.000389</td>\n",
       "      <td>-0.001762</td>\n",
       "      <td>0.068341</td>\n",
       "      <td>-0.053009</td>\n",
       "      <td>-0.024419</td>\n",
       "      <td>-0.023636</td>\n",
       "      <td>-0.015082</td>\n",
       "    </tr>\n",
       "    <tr>\n",
       "      <th>WaterCov</th>\n",
       "      <td>-0.058198</td>\n",
       "      <td>0.589567</td>\n",
       "      <td>-0.007512</td>\n",
       "      <td>0.458527</td>\n",
       "      <td>1.000000</td>\n",
       "      <td>0.386395</td>\n",
       "      <td>0.007939</td>\n",
       "      <td>-0.039265</td>\n",
       "      <td>-0.230948</td>\n",
       "      <td>0.022032</td>\n",
       "      <td>...</td>\n",
       "      <td>-0.198642</td>\n",
       "      <td>0.047364</td>\n",
       "      <td>0.070017</td>\n",
       "      <td>0.012759</td>\n",
       "      <td>0.045464</td>\n",
       "      <td>0.180186</td>\n",
       "      <td>-0.096195</td>\n",
       "      <td>-0.044418</td>\n",
       "      <td>-0.047761</td>\n",
       "      <td>-0.037279</td>\n",
       "    </tr>\n",
       "    <tr>\n",
       "      <th>ExpYield</th>\n",
       "      <td>-0.155239</td>\n",
       "      <td>0.659212</td>\n",
       "      <td>0.583791</td>\n",
       "      <td>0.216943</td>\n",
       "      <td>0.386395</td>\n",
       "      <td>1.000000</td>\n",
       "      <td>0.010007</td>\n",
       "      <td>-0.013515</td>\n",
       "      <td>-0.060646</td>\n",
       "      <td>0.019131</td>\n",
       "      <td>...</td>\n",
       "      <td>-0.034020</td>\n",
       "      <td>0.038846</td>\n",
       "      <td>0.005911</td>\n",
       "      <td>0.019627</td>\n",
       "      <td>0.006032</td>\n",
       "      <td>0.073167</td>\n",
       "      <td>-0.034401</td>\n",
       "      <td>-0.010763</td>\n",
       "      <td>-0.002312</td>\n",
       "      <td>-0.012830</td>\n",
       "    </tr>\n",
       "    <tr>\n",
       "      <th>ndvi</th>\n",
       "      <td>-0.015523</td>\n",
       "      <td>0.016263</td>\n",
       "      <td>-0.003439</td>\n",
       "      <td>-0.006895</td>\n",
       "      <td>0.007939</td>\n",
       "      <td>0.010007</td>\n",
       "      <td>1.000000</td>\n",
       "      <td>0.183018</td>\n",
       "      <td>-0.217597</td>\n",
       "      <td>0.651114</td>\n",
       "      <td>...</td>\n",
       "      <td>-0.521359</td>\n",
       "      <td>0.457333</td>\n",
       "      <td>0.689696</td>\n",
       "      <td>0.806712</td>\n",
       "      <td>0.412474</td>\n",
       "      <td>0.116231</td>\n",
       "      <td>0.216739</td>\n",
       "      <td>0.137118</td>\n",
       "      <td>-0.044447</td>\n",
       "      <td>0.053966</td>\n",
       "    </tr>\n",
       "    <tr>\n",
       "      <th>evi</th>\n",
       "      <td>0.013087</td>\n",
       "      <td>-0.011618</td>\n",
       "      <td>0.000081</td>\n",
       "      <td>-0.028276</td>\n",
       "      <td>-0.039265</td>\n",
       "      <td>-0.013515</td>\n",
       "      <td>0.183018</td>\n",
       "      <td>1.000000</td>\n",
       "      <td>0.123579</td>\n",
       "      <td>0.151820</td>\n",
       "      <td>...</td>\n",
       "      <td>0.020729</td>\n",
       "      <td>0.019892</td>\n",
       "      <td>0.140454</td>\n",
       "      <td>0.030888</td>\n",
       "      <td>0.062343</td>\n",
       "      <td>-0.005389</td>\n",
       "      <td>0.082846</td>\n",
       "      <td>0.069149</td>\n",
       "      <td>0.011590</td>\n",
       "      <td>0.040859</td>\n",
       "    </tr>\n",
       "    <tr>\n",
       "      <th>ndwi</th>\n",
       "      <td>0.031662</td>\n",
       "      <td>-0.101057</td>\n",
       "      <td>0.003172</td>\n",
       "      <td>-0.144099</td>\n",
       "      <td>-0.230948</td>\n",
       "      <td>-0.060646</td>\n",
       "      <td>-0.217597</td>\n",
       "      <td>0.123579</td>\n",
       "      <td>1.000000</td>\n",
       "      <td>-0.286432</td>\n",
       "      <td>...</td>\n",
       "      <td>0.875777</td>\n",
       "      <td>-0.353956</td>\n",
       "      <td>-0.358293</td>\n",
       "      <td>-0.417208</td>\n",
       "      <td>-0.124392</td>\n",
       "      <td>-0.161672</td>\n",
       "      <td>0.005168</td>\n",
       "      <td>-0.060243</td>\n",
       "      <td>0.118992</td>\n",
       "      <td>-0.121530</td>\n",
       "    </tr>\n",
       "    <tr>\n",
       "      <th>gndvi</th>\n",
       "      <td>-0.012394</td>\n",
       "      <td>0.019419</td>\n",
       "      <td>-0.000653</td>\n",
       "      <td>0.023961</td>\n",
       "      <td>0.022032</td>\n",
       "      <td>0.019131</td>\n",
       "      <td>0.651114</td>\n",
       "      <td>0.151820</td>\n",
       "      <td>-0.286432</td>\n",
       "      <td>1.000000</td>\n",
       "      <td>...</td>\n",
       "      <td>-0.297292</td>\n",
       "      <td>0.489413</td>\n",
       "      <td>0.531634</td>\n",
       "      <td>0.465768</td>\n",
       "      <td>-0.008678</td>\n",
       "      <td>-0.067706</td>\n",
       "      <td>0.000665</td>\n",
       "      <td>-0.046491</td>\n",
       "      <td>0.080225</td>\n",
       "      <td>-0.064275</td>\n",
       "    </tr>\n",
       "    <tr>\n",
       "      <th>savi</th>\n",
       "      <td>-0.015523</td>\n",
       "      <td>0.016263</td>\n",
       "      <td>-0.003439</td>\n",
       "      <td>-0.006893</td>\n",
       "      <td>0.007942</td>\n",
       "      <td>0.010008</td>\n",
       "      <td>1.000000</td>\n",
       "      <td>0.183006</td>\n",
       "      <td>-0.217615</td>\n",
       "      <td>0.651112</td>\n",
       "      <td>...</td>\n",
       "      <td>-0.521372</td>\n",
       "      <td>0.457340</td>\n",
       "      <td>0.689697</td>\n",
       "      <td>0.806723</td>\n",
       "      <td>0.412475</td>\n",
       "      <td>0.116232</td>\n",
       "      <td>0.216737</td>\n",
       "      <td>0.137115</td>\n",
       "      <td>-0.044449</td>\n",
       "      <td>0.053964</td>\n",
       "    </tr>\n",
       "    <tr>\n",
       "      <th>msavi</th>\n",
       "      <td>-0.034384</td>\n",
       "      <td>0.046814</td>\n",
       "      <td>0.008475</td>\n",
       "      <td>0.098868</td>\n",
       "      <td>0.159001</td>\n",
       "      <td>0.035779</td>\n",
       "      <td>0.104850</td>\n",
       "      <td>-0.152851</td>\n",
       "      <td>-0.801548</td>\n",
       "      <td>0.026071</td>\n",
       "      <td>...</td>\n",
       "      <td>-0.702866</td>\n",
       "      <td>0.283632</td>\n",
       "      <td>0.242654</td>\n",
       "      <td>0.368634</td>\n",
       "      <td>0.203307</td>\n",
       "      <td>0.237216</td>\n",
       "      <td>-0.029810</td>\n",
       "      <td>-0.015786</td>\n",
       "      <td>-0.195329</td>\n",
       "      <td>0.010757</td>\n",
       "    </tr>\n",
       "    <tr>\n",
       "      <th>gci</th>\n",
       "      <td>0.003350</td>\n",
       "      <td>-0.002609</td>\n",
       "      <td>-0.006466</td>\n",
       "      <td>0.008112</td>\n",
       "      <td>-0.001948</td>\n",
       "      <td>-0.010380</td>\n",
       "      <td>0.001452</td>\n",
       "      <td>-0.000266</td>\n",
       "      <td>-0.032873</td>\n",
       "      <td>-0.003094</td>\n",
       "      <td>...</td>\n",
       "      <td>-0.026145</td>\n",
       "      <td>0.004151</td>\n",
       "      <td>-0.004534</td>\n",
       "      <td>0.002536</td>\n",
       "      <td>-0.002537</td>\n",
       "      <td>-0.015237</td>\n",
       "      <td>0.024843</td>\n",
       "      <td>0.033872</td>\n",
       "      <td>0.002555</td>\n",
       "      <td>0.042300</td>\n",
       "    </tr>\n",
       "    <tr>\n",
       "      <th>pri</th>\n",
       "      <td>0.076156</td>\n",
       "      <td>0.017674</td>\n",
       "      <td>-0.076923</td>\n",
       "      <td>-0.027300</td>\n",
       "      <td>-0.062179</td>\n",
       "      <td>-0.096379</td>\n",
       "      <td>-0.163518</td>\n",
       "      <td>-0.034881</td>\n",
       "      <td>0.238408</td>\n",
       "      <td>-0.128697</td>\n",
       "      <td>...</td>\n",
       "      <td>0.160864</td>\n",
       "      <td>-0.170927</td>\n",
       "      <td>-0.167469</td>\n",
       "      <td>-0.177871</td>\n",
       "      <td>-0.106536</td>\n",
       "      <td>-0.068834</td>\n",
       "      <td>-0.080409</td>\n",
       "      <td>-0.079250</td>\n",
       "      <td>0.035788</td>\n",
       "      <td>-0.067182</td>\n",
       "    </tr>\n",
       "    <tr>\n",
       "      <th>osavi</th>\n",
       "      <td>-0.015523</td>\n",
       "      <td>0.016263</td>\n",
       "      <td>-0.003439</td>\n",
       "      <td>-0.006895</td>\n",
       "      <td>0.007940</td>\n",
       "      <td>0.010007</td>\n",
       "      <td>1.000000</td>\n",
       "      <td>0.183014</td>\n",
       "      <td>-0.217603</td>\n",
       "      <td>0.651113</td>\n",
       "      <td>...</td>\n",
       "      <td>-0.521363</td>\n",
       "      <td>0.457335</td>\n",
       "      <td>0.689696</td>\n",
       "      <td>0.806715</td>\n",
       "      <td>0.412475</td>\n",
       "      <td>0.116231</td>\n",
       "      <td>0.216739</td>\n",
       "      <td>0.137117</td>\n",
       "      <td>-0.044447</td>\n",
       "      <td>0.053965</td>\n",
       "    </tr>\n",
       "    <tr>\n",
       "      <th>bsi</th>\n",
       "      <td>0.019723</td>\n",
       "      <td>-0.095498</td>\n",
       "      <td>0.020196</td>\n",
       "      <td>-0.107485</td>\n",
       "      <td>-0.198642</td>\n",
       "      <td>-0.034020</td>\n",
       "      <td>-0.521359</td>\n",
       "      <td>0.020729</td>\n",
       "      <td>0.875777</td>\n",
       "      <td>-0.297292</td>\n",
       "      <td>...</td>\n",
       "      <td>1.000000</td>\n",
       "      <td>-0.398667</td>\n",
       "      <td>-0.580592</td>\n",
       "      <td>-0.646252</td>\n",
       "      <td>-0.368339</td>\n",
       "      <td>-0.224399</td>\n",
       "      <td>-0.173857</td>\n",
       "      <td>-0.219459</td>\n",
       "      <td>0.198569</td>\n",
       "      <td>-0.233329</td>\n",
       "    </tr>\n",
       "    <tr>\n",
       "      <th>ndmi</th>\n",
       "      <td>-0.005968</td>\n",
       "      <td>0.020100</td>\n",
       "      <td>0.015954</td>\n",
       "      <td>0.035815</td>\n",
       "      <td>0.047364</td>\n",
       "      <td>0.038846</td>\n",
       "      <td>0.457333</td>\n",
       "      <td>0.019892</td>\n",
       "      <td>-0.353956</td>\n",
       "      <td>0.489413</td>\n",
       "      <td>...</td>\n",
       "      <td>-0.398667</td>\n",
       "      <td>1.000000</td>\n",
       "      <td>0.463592</td>\n",
       "      <td>0.390346</td>\n",
       "      <td>0.093557</td>\n",
       "      <td>-0.034767</td>\n",
       "      <td>0.119300</td>\n",
       "      <td>0.083703</td>\n",
       "      <td>-0.025706</td>\n",
       "      <td>0.046764</td>\n",
       "    </tr>\n",
       "    <tr>\n",
       "      <th>rendvi</th>\n",
       "      <td>-0.026979</td>\n",
       "      <td>0.036021</td>\n",
       "      <td>-0.024609</td>\n",
       "      <td>0.019107</td>\n",
       "      <td>0.070017</td>\n",
       "      <td>0.005911</td>\n",
       "      <td>0.689696</td>\n",
       "      <td>0.140454</td>\n",
       "      <td>-0.358293</td>\n",
       "      <td>0.531634</td>\n",
       "      <td>...</td>\n",
       "      <td>-0.580592</td>\n",
       "      <td>0.463592</td>\n",
       "      <td>1.000000</td>\n",
       "      <td>0.572027</td>\n",
       "      <td>0.337798</td>\n",
       "      <td>0.045249</td>\n",
       "      <td>0.323403</td>\n",
       "      <td>0.297079</td>\n",
       "      <td>-0.193566</td>\n",
       "      <td>0.241756</td>\n",
       "    </tr>\n",
       "    <tr>\n",
       "      <th>mcari</th>\n",
       "      <td>-0.025256</td>\n",
       "      <td>0.009848</td>\n",
       "      <td>0.012725</td>\n",
       "      <td>0.000389</td>\n",
       "      <td>0.012759</td>\n",
       "      <td>0.019627</td>\n",
       "      <td>0.806712</td>\n",
       "      <td>0.030888</td>\n",
       "      <td>-0.417208</td>\n",
       "      <td>0.465768</td>\n",
       "      <td>...</td>\n",
       "      <td>-0.646252</td>\n",
       "      <td>0.390346</td>\n",
       "      <td>0.572027</td>\n",
       "      <td>1.000000</td>\n",
       "      <td>0.411268</td>\n",
       "      <td>0.114477</td>\n",
       "      <td>0.265626</td>\n",
       "      <td>0.235586</td>\n",
       "      <td>-0.132163</td>\n",
       "      <td>0.191967</td>\n",
       "    </tr>\n",
       "    <tr>\n",
       "      <th>glcm_contrast</th>\n",
       "      <td>-0.032075</td>\n",
       "      <td>0.031368</td>\n",
       "      <td>-0.016480</td>\n",
       "      <td>-0.001762</td>\n",
       "      <td>0.045464</td>\n",
       "      <td>0.006032</td>\n",
       "      <td>0.412474</td>\n",
       "      <td>0.062343</td>\n",
       "      <td>-0.124392</td>\n",
       "      <td>-0.008678</td>\n",
       "      <td>...</td>\n",
       "      <td>-0.368339</td>\n",
       "      <td>0.093557</td>\n",
       "      <td>0.337798</td>\n",
       "      <td>0.411268</td>\n",
       "      <td>1.000000</td>\n",
       "      <td>0.665764</td>\n",
       "      <td>0.278132</td>\n",
       "      <td>0.299826</td>\n",
       "      <td>-0.286298</td>\n",
       "      <td>0.220121</td>\n",
       "    </tr>\n",
       "    <tr>\n",
       "      <th>glcm_dissimilarity</th>\n",
       "      <td>-0.051494</td>\n",
       "      <td>0.096606</td>\n",
       "      <td>-0.021384</td>\n",
       "      <td>0.068341</td>\n",
       "      <td>0.180186</td>\n",
       "      <td>0.073167</td>\n",
       "      <td>0.116231</td>\n",
       "      <td>-0.005389</td>\n",
       "      <td>-0.161672</td>\n",
       "      <td>-0.067706</td>\n",
       "      <td>...</td>\n",
       "      <td>-0.224399</td>\n",
       "      <td>-0.034767</td>\n",
       "      <td>0.045249</td>\n",
       "      <td>0.114477</td>\n",
       "      <td>0.665764</td>\n",
       "      <td>1.000000</td>\n",
       "      <td>-0.421647</td>\n",
       "      <td>-0.311764</td>\n",
       "      <td>0.016491</td>\n",
       "      <td>-0.301992</td>\n",
       "    </tr>\n",
       "    <tr>\n",
       "      <th>glcm_homogeneity</th>\n",
       "      <td>0.002057</td>\n",
       "      <td>-0.037538</td>\n",
       "      <td>0.017287</td>\n",
       "      <td>-0.053009</td>\n",
       "      <td>-0.096195</td>\n",
       "      <td>-0.034401</td>\n",
       "      <td>0.216739</td>\n",
       "      <td>0.082846</td>\n",
       "      <td>0.005168</td>\n",
       "      <td>0.000665</td>\n",
       "      <td>...</td>\n",
       "      <td>-0.173857</td>\n",
       "      <td>0.119300</td>\n",
       "      <td>0.323403</td>\n",
       "      <td>0.265626</td>\n",
       "      <td>0.278132</td>\n",
       "      <td>-0.421647</td>\n",
       "      <td>1.000000</td>\n",
       "      <td>0.939836</td>\n",
       "      <td>-0.602002</td>\n",
       "      <td>0.823727</td>\n",
       "    </tr>\n",
       "    <tr>\n",
       "      <th>glcm_energy</th>\n",
       "      <td>-0.011931</td>\n",
       "      <td>-0.006971</td>\n",
       "      <td>0.010770</td>\n",
       "      <td>-0.024419</td>\n",
       "      <td>-0.044418</td>\n",
       "      <td>-0.010763</td>\n",
       "      <td>0.137118</td>\n",
       "      <td>0.069149</td>\n",
       "      <td>-0.060243</td>\n",
       "      <td>-0.046491</td>\n",
       "      <td>...</td>\n",
       "      <td>-0.219459</td>\n",
       "      <td>0.083703</td>\n",
       "      <td>0.297079</td>\n",
       "      <td>0.235586</td>\n",
       "      <td>0.299826</td>\n",
       "      <td>-0.311764</td>\n",
       "      <td>0.939836</td>\n",
       "      <td>1.000000</td>\n",
       "      <td>-0.595366</td>\n",
       "      <td>0.955331</td>\n",
       "    </tr>\n",
       "    <tr>\n",
       "      <th>glcm_correlation</th>\n",
       "      <td>0.022688</td>\n",
       "      <td>-0.024239</td>\n",
       "      <td>0.014849</td>\n",
       "      <td>-0.023636</td>\n",
       "      <td>-0.047761</td>\n",
       "      <td>-0.002312</td>\n",
       "      <td>-0.044447</td>\n",
       "      <td>0.011590</td>\n",
       "      <td>0.118992</td>\n",
       "      <td>0.080225</td>\n",
       "      <td>...</td>\n",
       "      <td>0.198569</td>\n",
       "      <td>-0.025706</td>\n",
       "      <td>-0.193566</td>\n",
       "      <td>-0.132163</td>\n",
       "      <td>-0.286298</td>\n",
       "      <td>0.016491</td>\n",
       "      <td>-0.602002</td>\n",
       "      <td>-0.595366</td>\n",
       "      <td>1.000000</td>\n",
       "      <td>-0.532472</td>\n",
       "    </tr>\n",
       "    <tr>\n",
       "      <th>glcm_asm</th>\n",
       "      <td>-0.012307</td>\n",
       "      <td>-0.005226</td>\n",
       "      <td>0.010271</td>\n",
       "      <td>-0.015082</td>\n",
       "      <td>-0.037279</td>\n",
       "      <td>-0.012830</td>\n",
       "      <td>0.053966</td>\n",
       "      <td>0.040859</td>\n",
       "      <td>-0.121530</td>\n",
       "      <td>-0.064275</td>\n",
       "      <td>...</td>\n",
       "      <td>-0.233329</td>\n",
       "      <td>0.046764</td>\n",
       "      <td>0.241756</td>\n",
       "      <td>0.191967</td>\n",
       "      <td>0.220121</td>\n",
       "      <td>-0.301992</td>\n",
       "      <td>0.823727</td>\n",
       "      <td>0.955331</td>\n",
       "      <td>-0.532472</td>\n",
       "      <td>1.000000</td>\n",
       "    </tr>\n",
       "  </tbody>\n",
       "</table>\n",
       "<p>25 rows × 25 columns</p>\n",
       "</div>"
      ],
      "text/plain": [
       "                      FarmID  CropCoveredArea   CHeight  IrriCount  WaterCov  \\\n",
       "FarmID              1.000000        -0.077739 -0.072700  -0.047447 -0.058198   \n",
       "CropCoveredArea    -0.077739         1.000000  0.316362   0.291978  0.589567   \n",
       "CHeight            -0.072700         0.316362  1.000000   0.117583 -0.007512   \n",
       "IrriCount          -0.047447         0.291978  0.117583   1.000000  0.458527   \n",
       "WaterCov           -0.058198         0.589567 -0.007512   0.458527  1.000000   \n",
       "ExpYield           -0.155239         0.659212  0.583791   0.216943  0.386395   \n",
       "ndvi               -0.015523         0.016263 -0.003439  -0.006895  0.007939   \n",
       "evi                 0.013087        -0.011618  0.000081  -0.028276 -0.039265   \n",
       "ndwi                0.031662        -0.101057  0.003172  -0.144099 -0.230948   \n",
       "gndvi              -0.012394         0.019419 -0.000653   0.023961  0.022032   \n",
       "savi               -0.015523         0.016263 -0.003439  -0.006893  0.007942   \n",
       "msavi              -0.034384         0.046814  0.008475   0.098868  0.159001   \n",
       "gci                 0.003350        -0.002609 -0.006466   0.008112 -0.001948   \n",
       "pri                 0.076156         0.017674 -0.076923  -0.027300 -0.062179   \n",
       "osavi              -0.015523         0.016263 -0.003439  -0.006895  0.007940   \n",
       "bsi                 0.019723        -0.095498  0.020196  -0.107485 -0.198642   \n",
       "ndmi               -0.005968         0.020100  0.015954   0.035815  0.047364   \n",
       "rendvi             -0.026979         0.036021 -0.024609   0.019107  0.070017   \n",
       "mcari              -0.025256         0.009848  0.012725   0.000389  0.012759   \n",
       "glcm_contrast      -0.032075         0.031368 -0.016480  -0.001762  0.045464   \n",
       "glcm_dissimilarity -0.051494         0.096606 -0.021384   0.068341  0.180186   \n",
       "glcm_homogeneity    0.002057        -0.037538  0.017287  -0.053009 -0.096195   \n",
       "glcm_energy        -0.011931        -0.006971  0.010770  -0.024419 -0.044418   \n",
       "glcm_correlation    0.022688        -0.024239  0.014849  -0.023636 -0.047761   \n",
       "glcm_asm           -0.012307        -0.005226  0.010271  -0.015082 -0.037279   \n",
       "\n",
       "                    ExpYield      ndvi       evi      ndwi     gndvi  ...  \\\n",
       "FarmID             -0.155239 -0.015523  0.013087  0.031662 -0.012394  ...   \n",
       "CropCoveredArea     0.659212  0.016263 -0.011618 -0.101057  0.019419  ...   \n",
       "CHeight             0.583791 -0.003439  0.000081  0.003172 -0.000653  ...   \n",
       "IrriCount           0.216943 -0.006895 -0.028276 -0.144099  0.023961  ...   \n",
       "WaterCov            0.386395  0.007939 -0.039265 -0.230948  0.022032  ...   \n",
       "ExpYield            1.000000  0.010007 -0.013515 -0.060646  0.019131  ...   \n",
       "ndvi                0.010007  1.000000  0.183018 -0.217597  0.651114  ...   \n",
       "evi                -0.013515  0.183018  1.000000  0.123579  0.151820  ...   \n",
       "ndwi               -0.060646 -0.217597  0.123579  1.000000 -0.286432  ...   \n",
       "gndvi               0.019131  0.651114  0.151820 -0.286432  1.000000  ...   \n",
       "savi                0.010008  1.000000  0.183006 -0.217615  0.651112  ...   \n",
       "msavi               0.035779  0.104850 -0.152851 -0.801548  0.026071  ...   \n",
       "gci                -0.010380  0.001452 -0.000266 -0.032873 -0.003094  ...   \n",
       "pri                -0.096379 -0.163518 -0.034881  0.238408 -0.128697  ...   \n",
       "osavi               0.010007  1.000000  0.183014 -0.217603  0.651113  ...   \n",
       "bsi                -0.034020 -0.521359  0.020729  0.875777 -0.297292  ...   \n",
       "ndmi                0.038846  0.457333  0.019892 -0.353956  0.489413  ...   \n",
       "rendvi              0.005911  0.689696  0.140454 -0.358293  0.531634  ...   \n",
       "mcari               0.019627  0.806712  0.030888 -0.417208  0.465768  ...   \n",
       "glcm_contrast       0.006032  0.412474  0.062343 -0.124392 -0.008678  ...   \n",
       "glcm_dissimilarity  0.073167  0.116231 -0.005389 -0.161672 -0.067706  ...   \n",
       "glcm_homogeneity   -0.034401  0.216739  0.082846  0.005168  0.000665  ...   \n",
       "glcm_energy        -0.010763  0.137118  0.069149 -0.060243 -0.046491  ...   \n",
       "glcm_correlation   -0.002312 -0.044447  0.011590  0.118992  0.080225  ...   \n",
       "glcm_asm           -0.012830  0.053966  0.040859 -0.121530 -0.064275  ...   \n",
       "\n",
       "                         bsi      ndmi    rendvi     mcari  glcm_contrast  \\\n",
       "FarmID              0.019723 -0.005968 -0.026979 -0.025256      -0.032075   \n",
       "CropCoveredArea    -0.095498  0.020100  0.036021  0.009848       0.031368   \n",
       "CHeight             0.020196  0.015954 -0.024609  0.012725      -0.016480   \n",
       "IrriCount          -0.107485  0.035815  0.019107  0.000389      -0.001762   \n",
       "WaterCov           -0.198642  0.047364  0.070017  0.012759       0.045464   \n",
       "ExpYield           -0.034020  0.038846  0.005911  0.019627       0.006032   \n",
       "ndvi               -0.521359  0.457333  0.689696  0.806712       0.412474   \n",
       "evi                 0.020729  0.019892  0.140454  0.030888       0.062343   \n",
       "ndwi                0.875777 -0.353956 -0.358293 -0.417208      -0.124392   \n",
       "gndvi              -0.297292  0.489413  0.531634  0.465768      -0.008678   \n",
       "savi               -0.521372  0.457340  0.689697  0.806723       0.412475   \n",
       "msavi              -0.702866  0.283632  0.242654  0.368634       0.203307   \n",
       "gci                -0.026145  0.004151 -0.004534  0.002536      -0.002537   \n",
       "pri                 0.160864 -0.170927 -0.167469 -0.177871      -0.106536   \n",
       "osavi              -0.521363  0.457335  0.689696  0.806715       0.412475   \n",
       "bsi                 1.000000 -0.398667 -0.580592 -0.646252      -0.368339   \n",
       "ndmi               -0.398667  1.000000  0.463592  0.390346       0.093557   \n",
       "rendvi             -0.580592  0.463592  1.000000  0.572027       0.337798   \n",
       "mcari              -0.646252  0.390346  0.572027  1.000000       0.411268   \n",
       "glcm_contrast      -0.368339  0.093557  0.337798  0.411268       1.000000   \n",
       "glcm_dissimilarity -0.224399 -0.034767  0.045249  0.114477       0.665764   \n",
       "glcm_homogeneity   -0.173857  0.119300  0.323403  0.265626       0.278132   \n",
       "glcm_energy        -0.219459  0.083703  0.297079  0.235586       0.299826   \n",
       "glcm_correlation    0.198569 -0.025706 -0.193566 -0.132163      -0.286298   \n",
       "glcm_asm           -0.233329  0.046764  0.241756  0.191967       0.220121   \n",
       "\n",
       "                    glcm_dissimilarity  glcm_homogeneity  glcm_energy  \\\n",
       "FarmID                       -0.051494          0.002057    -0.011931   \n",
       "CropCoveredArea               0.096606         -0.037538    -0.006971   \n",
       "CHeight                      -0.021384          0.017287     0.010770   \n",
       "IrriCount                     0.068341         -0.053009    -0.024419   \n",
       "WaterCov                      0.180186         -0.096195    -0.044418   \n",
       "ExpYield                      0.073167         -0.034401    -0.010763   \n",
       "ndvi                          0.116231          0.216739     0.137118   \n",
       "evi                          -0.005389          0.082846     0.069149   \n",
       "ndwi                         -0.161672          0.005168    -0.060243   \n",
       "gndvi                        -0.067706          0.000665    -0.046491   \n",
       "savi                          0.116232          0.216737     0.137115   \n",
       "msavi                         0.237216         -0.029810    -0.015786   \n",
       "gci                          -0.015237          0.024843     0.033872   \n",
       "pri                          -0.068834         -0.080409    -0.079250   \n",
       "osavi                         0.116231          0.216739     0.137117   \n",
       "bsi                          -0.224399         -0.173857    -0.219459   \n",
       "ndmi                         -0.034767          0.119300     0.083703   \n",
       "rendvi                        0.045249          0.323403     0.297079   \n",
       "mcari                         0.114477          0.265626     0.235586   \n",
       "glcm_contrast                 0.665764          0.278132     0.299826   \n",
       "glcm_dissimilarity            1.000000         -0.421647    -0.311764   \n",
       "glcm_homogeneity             -0.421647          1.000000     0.939836   \n",
       "glcm_energy                  -0.311764          0.939836     1.000000   \n",
       "glcm_correlation              0.016491         -0.602002    -0.595366   \n",
       "glcm_asm                     -0.301992          0.823727     0.955331   \n",
       "\n",
       "                    glcm_correlation  glcm_asm  \n",
       "FarmID                      0.022688 -0.012307  \n",
       "CropCoveredArea            -0.024239 -0.005226  \n",
       "CHeight                     0.014849  0.010271  \n",
       "IrriCount                  -0.023636 -0.015082  \n",
       "WaterCov                   -0.047761 -0.037279  \n",
       "ExpYield                   -0.002312 -0.012830  \n",
       "ndvi                       -0.044447  0.053966  \n",
       "evi                         0.011590  0.040859  \n",
       "ndwi                        0.118992 -0.121530  \n",
       "gndvi                       0.080225 -0.064275  \n",
       "savi                       -0.044449  0.053964  \n",
       "msavi                      -0.195329  0.010757  \n",
       "gci                         0.002555  0.042300  \n",
       "pri                         0.035788 -0.067182  \n",
       "osavi                      -0.044447  0.053965  \n",
       "bsi                         0.198569 -0.233329  \n",
       "ndmi                       -0.025706  0.046764  \n",
       "rendvi                     -0.193566  0.241756  \n",
       "mcari                      -0.132163  0.191967  \n",
       "glcm_contrast              -0.286298  0.220121  \n",
       "glcm_dissimilarity          0.016491 -0.301992  \n",
       "glcm_homogeneity           -0.602002  0.823727  \n",
       "glcm_energy                -0.595366  0.955331  \n",
       "glcm_correlation            1.000000 -0.532472  \n",
       "glcm_asm                   -0.532472  1.000000  \n",
       "\n",
       "[25 rows x 25 columns]"
      ]
     },
     "execution_count": 27,
     "metadata": {},
     "output_type": "execute_result"
    }
   ],
   "source": [
    "data.select_dtypes('number').corr()"
   ]
  },
  {
   "cell_type": "code",
   "execution_count": 28,
   "metadata": {
    "execution": {
     "iopub.execute_input": "2025-02-05T19:58:09.095920Z",
     "iopub.status.busy": "2025-02-05T19:58:09.095507Z",
     "iopub.status.idle": "2025-02-05T19:58:09.137140Z",
     "shell.execute_reply": "2025-02-05T19:58:09.135919Z",
     "shell.execute_reply.started": "2025-02-05T19:58:09.095876Z"
    }
   },
   "outputs": [
    {
     "data": {
      "text/html": [
       "\n",
       "            <style>\n",
       "                .geemap-dark {\n",
       "                    --jp-widgets-color: white;\n",
       "                    --jp-widgets-label-color: white;\n",
       "                    --jp-ui-font-color1: white;\n",
       "                    --jp-layout-color2: #454545;\n",
       "                    background-color: #383838;\n",
       "                }\n",
       "\n",
       "                .geemap-dark .jupyter-button {\n",
       "                    --jp-layout-color3: #383838;\n",
       "                }\n",
       "\n",
       "                .geemap-colab {\n",
       "                    background-color: var(--colab-primary-surface-color, white);\n",
       "                }\n",
       "\n",
       "                .geemap-colab .jupyter-button {\n",
       "                    --jp-layout-color3: var(--colab-primary-surface-color, white);\n",
       "                }\n",
       "            </style>\n",
       "            "
      ],
      "text/plain": [
       "<IPython.core.display.HTML object>"
      ]
     },
     "metadata": {},
     "output_type": "display_data"
    },
    {
     "name": "stdout",
     "output_type": "stream",
     "text": [
      "Removed 4 highly correlated features: ['savi', 'osavi', 'glcm_energy', 'glcm_asm']\n"
     ]
    }
   ],
   "source": [
    "import numpy as np\n",
    "\n",
    "# Compute correlation matrix\n",
    "corr_matrix = data.select_dtypes(include=['number']).corr().abs()\n",
    "\n",
    "# Define correlation threshold\n",
    "threshold = 0.9\n",
    "\n",
    "# Find highly correlated features\n",
    "upper = corr_matrix.where(np.triu(np.ones(corr_matrix.shape), k=1).astype(bool))\n",
    "to_drop = [column for column in upper.columns if any(upper[column] > threshold)]\n",
    "\n",
    "# Drop correlated features\n",
    "data_reduced = data.drop(columns=to_drop)\n",
    "\n",
    "print(f\"Removed {len(to_drop)} highly correlated features: {to_drop}\")\n"
   ]
  },
  {
   "cell_type": "markdown",
   "metadata": {},
   "source": [
    "## Check Skewness"
   ]
  },
  {
   "cell_type": "code",
   "execution_count": 29,
   "metadata": {
    "execution": {
     "iopub.execute_input": "2025-02-05T19:58:09.138728Z",
     "iopub.status.busy": "2025-02-05T19:58:09.138401Z",
     "iopub.status.idle": "2025-02-05T19:58:09.177279Z",
     "shell.execute_reply": "2025-02-05T19:58:09.175906Z",
     "shell.execute_reply.started": "2025-02-05T19:58:09.138702Z"
    }
   },
   "outputs": [
    {
     "data": {
      "text/html": [
       "\n",
       "            <style>\n",
       "                .geemap-dark {\n",
       "                    --jp-widgets-color: white;\n",
       "                    --jp-widgets-label-color: white;\n",
       "                    --jp-ui-font-color1: white;\n",
       "                    --jp-layout-color2: #454545;\n",
       "                    background-color: #383838;\n",
       "                }\n",
       "\n",
       "                .geemap-dark .jupyter-button {\n",
       "                    --jp-layout-color3: #383838;\n",
       "                }\n",
       "\n",
       "                .geemap-colab {\n",
       "                    background-color: var(--colab-primary-surface-color, white);\n",
       "                }\n",
       "\n",
       "                .geemap-colab .jupyter-button {\n",
       "                    --jp-layout-color3: var(--colab-primary-surface-color, white);\n",
       "                }\n",
       "            </style>\n",
       "            "
      ],
      "text/plain": [
       "<IPython.core.display.HTML object>"
      ]
     },
     "metadata": {},
     "output_type": "display_data"
    },
    {
     "name": "stdout",
     "output_type": "stream",
     "text": [
      "Highly Skewed Features:\n",
      "CHeight    1.347914\n",
      "dtype: float64\n"
     ]
    }
   ],
   "source": [
    "from scipy.stats import skew\n",
    "import numpy as np\n",
    "\n",
    "# Select numerical features\n",
    "num_features = data.select_dtypes(include=['number'])\n",
    "\n",
    "# Compute skewness\n",
    "skewness = num_features.apply(skew).sort_values(ascending=False)\n",
    "\n",
    "# Define skewness threshold (greater than 0.75 is considered highly skewed)\n",
    "skew_threshold = 0.75\n",
    "highly_skewed = skewness[skewness > skew_threshold]\n",
    "\n",
    "print(f\"Highly Skewed Features:\\n{highly_skewed}\")\n"
   ]
  },
  {
   "cell_type": "code",
   "execution_count": 30,
   "metadata": {
    "execution": {
     "iopub.execute_input": "2025-02-05T19:58:09.178678Z",
     "iopub.status.busy": "2025-02-05T19:58:09.178396Z",
     "iopub.status.idle": "2025-02-05T19:58:09.189622Z",
     "shell.execute_reply": "2025-02-05T19:58:09.188502Z",
     "shell.execute_reply.started": "2025-02-05T19:58:09.178655Z"
    }
   },
   "outputs": [
    {
     "data": {
      "text/html": [
       "\n",
       "            <style>\n",
       "                .geemap-dark {\n",
       "                    --jp-widgets-color: white;\n",
       "                    --jp-widgets-label-color: white;\n",
       "                    --jp-ui-font-color1: white;\n",
       "                    --jp-layout-color2: #454545;\n",
       "                    background-color: #383838;\n",
       "                }\n",
       "\n",
       "                .geemap-dark .jupyter-button {\n",
       "                    --jp-layout-color3: #383838;\n",
       "                }\n",
       "\n",
       "                .geemap-colab {\n",
       "                    background-color: var(--colab-primary-surface-color, white);\n",
       "                }\n",
       "\n",
       "                .geemap-colab .jupyter-button {\n",
       "                    --jp-layout-color3: var(--colab-primary-surface-color, white);\n",
       "                }\n",
       "            </style>\n",
       "            "
      ],
      "text/plain": [
       "<IPython.core.display.HTML object>"
      ]
     },
     "metadata": {},
     "output_type": "display_data"
    },
    {
     "name": "stdout",
     "output_type": "stream",
     "text": [
      "Skewness fixed using Box-Cox or Log1p.\n"
     ]
    }
   ],
   "source": [
    "from scipy.special import boxcox1p\n",
    "\n",
    "# Fix skewed features\n",
    "for feature in highly_skewed.index:\n",
    "    if (num_features[feature] > 0).all():  # Check if all values are positive\n",
    "        data[feature] = boxcox1p(data[feature], 0.15)  # Box-Cox\n",
    "    else:\n",
    "        data[feature] = np.log1p(data[feature])  # Log1p for zero/negative values\n",
    "\n",
    "print(\"Skewness fixed using Box-Cox or Log1p.\")\n"
   ]
  },
  {
   "cell_type": "markdown",
   "metadata": {
    "id": "tRez593rlu-V"
   },
   "source": [
    "**Split Dataset into Train and Test**"
   ]
  },
  {
   "cell_type": "code",
   "execution_count": 31,
   "metadata": {
    "execution": {
     "iopub.execute_input": "2025-02-05T19:58:09.191035Z",
     "iopub.status.busy": "2025-02-05T19:58:09.190671Z",
     "iopub.status.idle": "2025-02-05T19:58:09.231374Z",
     "shell.execute_reply": "2025-02-05T19:58:09.230174Z",
     "shell.execute_reply.started": "2025-02-05T19:58:09.190972Z"
    },
    "id": "xMla6m7nlDJM",
    "outputId": "591a3f61-d4a9-4ace-918a-addbe0136ac3"
   },
   "outputs": [
    {
     "data": {
      "text/html": [
       "\n",
       "            <style>\n",
       "                .geemap-dark {\n",
       "                    --jp-widgets-color: white;\n",
       "                    --jp-widgets-label-color: white;\n",
       "                    --jp-ui-font-color1: white;\n",
       "                    --jp-layout-color2: #454545;\n",
       "                    background-color: #383838;\n",
       "                }\n",
       "\n",
       "                .geemap-dark .jupyter-button {\n",
       "                    --jp-layout-color3: #383838;\n",
       "                }\n",
       "\n",
       "                .geemap-colab {\n",
       "                    background-color: var(--colab-primary-surface-color, white);\n",
       "                }\n",
       "\n",
       "                .geemap-colab .jupyter-button {\n",
       "                    --jp-layout-color3: var(--colab-primary-surface-color, white);\n",
       "                }\n",
       "            </style>\n",
       "            "
      ],
      "text/plain": [
       "<IPython.core.display.HTML object>"
      ]
     },
     "metadata": {},
     "output_type": "display_data"
    }
   ],
   "source": [
    "# Split the data into train and test sets based on the 'dataset' column\n",
    "train = data[data.dataset == 'train'].reset_index(drop=True)\n",
    "test = data[data.dataset == 'test'].reset_index(drop=True)"
   ]
  },
  {
   "cell_type": "code",
   "execution_count": 32,
   "metadata": {
    "execution": {
     "iopub.execute_input": "2025-02-05T19:58:09.232713Z",
     "iopub.status.busy": "2025-02-05T19:58:09.232430Z",
     "iopub.status.idle": "2025-02-05T19:58:09.244109Z",
     "shell.execute_reply": "2025-02-05T19:58:09.242967Z",
     "shell.execute_reply.started": "2025-02-05T19:58:09.232689Z"
    },
    "id": "-gc_qNgflxrA",
    "outputId": "482166fd-44c1-4997-e5c5-1ccc6533bd85"
   },
   "outputs": [
    {
     "data": {
      "text/html": [
       "\n",
       "            <style>\n",
       "                .geemap-dark {\n",
       "                    --jp-widgets-color: white;\n",
       "                    --jp-widgets-label-color: white;\n",
       "                    --jp-ui-font-color1: white;\n",
       "                    --jp-layout-color2: #454545;\n",
       "                    background-color: #383838;\n",
       "                }\n",
       "\n",
       "                .geemap-dark .jupyter-button {\n",
       "                    --jp-layout-color3: #383838;\n",
       "                }\n",
       "\n",
       "                .geemap-colab {\n",
       "                    background-color: var(--colab-primary-surface-color, white);\n",
       "                }\n",
       "\n",
       "                .geemap-colab .jupyter-button {\n",
       "                    --jp-layout-color3: var(--colab-primary-surface-color, white);\n",
       "                }\n",
       "            </style>\n",
       "            "
      ],
      "text/plain": [
       "<IPython.core.display.HTML object>"
      ]
     },
     "metadata": {},
     "output_type": "display_data"
    }
   ],
   "source": [
    "# Define columns to drop before encoding and training\n",
    "to_drop = [\n",
    "    'geometry', 'tif_path',  # Spatial and file path information\n",
    "    'dataset', 'FarmID',     # Columns that are not needed for modeling\n",
    "]\n",
    "\n",
    "# Drop the specified columns from train and test sets\n",
    "train.drop(columns=to_drop, inplace=True)\n",
    "test.drop(columns=to_drop, inplace=True)\n"
   ]
  },
  {
   "cell_type": "code",
   "execution_count": 33,
   "metadata": {
    "execution": {
     "iopub.execute_input": "2025-02-05T19:58:09.245443Z",
     "iopub.status.busy": "2025-02-05T19:58:09.245165Z",
     "iopub.status.idle": "2025-02-05T19:58:09.262414Z",
     "shell.execute_reply": "2025-02-05T19:58:09.261140Z",
     "shell.execute_reply.started": "2025-02-05T19:58:09.245420Z"
    },
    "id": "On7vWlemlxoU",
    "outputId": "1f57b297-cb1a-421a-b379-f7430783676e"
   },
   "outputs": [
    {
     "data": {
      "text/html": [
       "\n",
       "            <style>\n",
       "                .geemap-dark {\n",
       "                    --jp-widgets-color: white;\n",
       "                    --jp-widgets-label-color: white;\n",
       "                    --jp-ui-font-color1: white;\n",
       "                    --jp-layout-color2: #454545;\n",
       "                    background-color: #383838;\n",
       "                }\n",
       "\n",
       "                .geemap-dark .jupyter-button {\n",
       "                    --jp-layout-color3: #383838;\n",
       "                }\n",
       "\n",
       "                .geemap-colab {\n",
       "                    background-color: var(--colab-primary-surface-color, white);\n",
       "                }\n",
       "\n",
       "                .geemap-colab .jupyter-button {\n",
       "                    --jp-layout-color3: var(--colab-primary-surface-color, white);\n",
       "                }\n",
       "            </style>\n",
       "            "
      ],
      "text/plain": [
       "<IPython.core.display.HTML object>"
      ]
     },
     "metadata": {},
     "output_type": "display_data"
    }
   ],
   "source": [
    "# Concatenate train and test datasets for uniform encoding of categorical columns\n",
    "data_combined = pd.concat([train, test], ignore_index=True)"
   ]
  },
  {
   "cell_type": "code",
   "execution_count": 34,
   "metadata": {
    "execution": {
     "iopub.execute_input": "2025-02-05T19:58:09.264159Z",
     "iopub.status.busy": "2025-02-05T19:58:09.263734Z",
     "iopub.status.idle": "2025-02-05T19:58:09.282098Z",
     "shell.execute_reply": "2025-02-05T19:58:09.280788Z",
     "shell.execute_reply.started": "2025-02-05T19:58:09.264125Z"
    },
    "id": "r7i-Tz-ulxmI",
    "outputId": "242b3b67-3b1d-4edf-f756-68a8279914ac"
   },
   "outputs": [
    {
     "data": {
      "text/html": [
       "\n",
       "            <style>\n",
       "                .geemap-dark {\n",
       "                    --jp-widgets-color: white;\n",
       "                    --jp-widgets-label-color: white;\n",
       "                    --jp-ui-font-color1: white;\n",
       "                    --jp-layout-color2: #454545;\n",
       "                    background-color: #383838;\n",
       "                }\n",
       "\n",
       "                .geemap-dark .jupyter-button {\n",
       "                    --jp-layout-color3: #383838;\n",
       "                }\n",
       "\n",
       "                .geemap-colab {\n",
       "                    background-color: var(--colab-primary-surface-color, white);\n",
       "                }\n",
       "\n",
       "                .geemap-colab .jupyter-button {\n",
       "                    --jp-layout-color3: var(--colab-primary-surface-color, white);\n",
       "                }\n",
       "            </style>\n",
       "            "
      ],
      "text/plain": [
       "<IPython.core.display.HTML object>"
      ]
     },
     "metadata": {},
     "output_type": "display_data"
    }
   ],
   "source": [
    "# Create a mapping for the target variable 'category' to numeric labels, excluding NaN values\n",
    "category_mapper = {label: idx for idx, label in enumerate(data_combined['category'].unique()) if pd.notna(label)}\n",
    "idx_to_category_mapper = {idx: label for idx, label in enumerate(data_combined['category'].unique()) if pd.notna(label)}\n",
    "\n",
    "# Map the 'category' column to the new 'target' column using the mapping, handling NaN values as needed\n",
    "data_combined['target'] = data_combined['category'].map(category_mapper)\n",
    "\n",
    "# Drop the original 'category' column now that we have the 'target' column\n",
    "data_combined.drop(columns=['category'], inplace=True)"
   ]
  },
  {
   "cell_type": "code",
   "execution_count": 35,
   "metadata": {
    "execution": {
     "iopub.execute_input": "2025-02-05T19:58:09.283900Z",
     "iopub.status.busy": "2025-02-05T19:58:09.283513Z",
     "iopub.status.idle": "2025-02-05T19:58:09.334958Z",
     "shell.execute_reply": "2025-02-05T19:58:09.333770Z",
     "shell.execute_reply.started": "2025-02-05T19:58:09.283869Z"
    },
    "id": "W_Te72bxlbyB",
    "outputId": "caf22bbb-b4c2-4dd9-fefc-eb8787d04a7a"
   },
   "outputs": [
    {
     "data": {
      "text/html": [
       "\n",
       "            <style>\n",
       "                .geemap-dark {\n",
       "                    --jp-widgets-color: white;\n",
       "                    --jp-widgets-label-color: white;\n",
       "                    --jp-ui-font-color1: white;\n",
       "                    --jp-layout-color2: #454545;\n",
       "                    background-color: #383838;\n",
       "                }\n",
       "\n",
       "                .geemap-dark .jupyter-button {\n",
       "                    --jp-layout-color3: #383838;\n",
       "                }\n",
       "\n",
       "                .geemap-colab {\n",
       "                    background-color: var(--colab-primary-surface-color, white);\n",
       "                }\n",
       "\n",
       "                .geemap-colab .jupyter-button {\n",
       "                    --jp-layout-color3: var(--colab-primary-surface-color, white);\n",
       "                }\n",
       "            </style>\n",
       "            "
      ],
      "text/plain": [
       "<IPython.core.display.HTML object>"
      ]
     },
     "metadata": {},
     "output_type": "display_data"
    }
   ],
   "source": [
    "# Identify categorical columns to encode\n",
    "categorical_cols = data_combined.select_dtypes(include=['object']).columns\n",
    "\n",
    "# Apply Label Encoding for all categorical columns\n",
    "for col in categorical_cols:\n",
    "    encoder = LabelEncoder()\n",
    "    data_combined[col] = encoder.fit_transform(data_combined[col])"
   ]
  },
  {
   "cell_type": "code",
   "execution_count": 36,
   "metadata": {
    "execution": {
     "iopub.execute_input": "2025-02-05T19:58:09.336561Z",
     "iopub.status.busy": "2025-02-05T19:58:09.336162Z",
     "iopub.status.idle": "2025-02-05T19:58:09.353670Z",
     "shell.execute_reply": "2025-02-05T19:58:09.352350Z",
     "shell.execute_reply.started": "2025-02-05T19:58:09.336519Z"
    },
    "id": "BivNfRRKmSQP",
    "outputId": "e407e211-220b-4044-f58c-6ced7913ff13"
   },
   "outputs": [
    {
     "data": {
      "text/html": [
       "\n",
       "            <style>\n",
       "                .geemap-dark {\n",
       "                    --jp-widgets-color: white;\n",
       "                    --jp-widgets-label-color: white;\n",
       "                    --jp-ui-font-color1: white;\n",
       "                    --jp-layout-color2: #454545;\n",
       "                    background-color: #383838;\n",
       "                }\n",
       "\n",
       "                .geemap-dark .jupyter-button {\n",
       "                    --jp-layout-color3: #383838;\n",
       "                }\n",
       "\n",
       "                .geemap-colab {\n",
       "                    background-color: var(--colab-primary-surface-color, white);\n",
       "                }\n",
       "\n",
       "                .geemap-colab .jupyter-button {\n",
       "                    --jp-layout-color3: var(--colab-primary-surface-color, white);\n",
       "                }\n",
       "            </style>\n",
       "            "
      ],
      "text/plain": [
       "<IPython.core.display.HTML object>"
      ]
     },
     "metadata": {},
     "output_type": "display_data"
    }
   ],
   "source": [
    "# Split the combined encoded data back into train and test\n",
    "train_encoded = data_combined[data_combined.index < len(train)].reset_index(drop=True)\n",
    "test_encoded = data_combined[data_combined.index >= len(train)].reset_index(drop=True)"
   ]
  },
  {
   "cell_type": "markdown",
   "metadata": {
    "id": "T1EjPJNWlp-R"
   },
   "source": [
    "# Model Training"
   ]
  },
  {
   "cell_type": "code",
   "execution_count": 37,
   "metadata": {
    "execution": {
     "iopub.execute_input": "2025-02-05T19:58:09.355329Z",
     "iopub.status.busy": "2025-02-05T19:58:09.354886Z",
     "iopub.status.idle": "2025-02-05T19:58:09.364268Z",
     "shell.execute_reply": "2025-02-05T19:58:09.363114Z",
     "shell.execute_reply.started": "2025-02-05T19:58:09.355287Z"
    },
    "id": "tCP5_9HqmIEL",
    "outputId": "38dbc5da-da88-4fe6-b445-6c6ee717a0fc"
   },
   "outputs": [
    {
     "data": {
      "text/html": [
       "\n",
       "            <style>\n",
       "                .geemap-dark {\n",
       "                    --jp-widgets-color: white;\n",
       "                    --jp-widgets-label-color: white;\n",
       "                    --jp-ui-font-color1: white;\n",
       "                    --jp-layout-color2: #454545;\n",
       "                    background-color: #383838;\n",
       "                }\n",
       "\n",
       "                .geemap-dark .jupyter-button {\n",
       "                    --jp-layout-color3: #383838;\n",
       "                }\n",
       "\n",
       "                .geemap-colab {\n",
       "                    background-color: var(--colab-primary-surface-color, white);\n",
       "                }\n",
       "\n",
       "                .geemap-colab .jupyter-button {\n",
       "                    --jp-layout-color3: var(--colab-primary-surface-color, white);\n",
       "                }\n",
       "            </style>\n",
       "            "
      ],
      "text/plain": [
       "<IPython.core.display.HTML object>"
      ]
     },
     "metadata": {},
     "output_type": "display_data"
    }
   ],
   "source": [
    "# Separate features and target variable in the train set\n",
    "X = train_encoded.drop(columns=['target'])\n",
    "y = train_encoded['target'].astype(int)"
   ]
  },
  {
   "cell_type": "code",
   "execution_count": 38,
   "metadata": {
    "execution": {
     "iopub.execute_input": "2025-02-05T19:58:09.366079Z",
     "iopub.status.busy": "2025-02-05T19:58:09.365595Z",
     "iopub.status.idle": "2025-02-05T19:58:09.416475Z",
     "shell.execute_reply": "2025-02-05T19:58:09.415185Z",
     "shell.execute_reply.started": "2025-02-05T19:58:09.366035Z"
    },
    "id": "qSqjFoyCnkB9",
    "outputId": "17551cf1-f374-435b-83ca-3ca9628bf013"
   },
   "outputs": [
    {
     "data": {
      "text/html": [
       "\n",
       "            <style>\n",
       "                .geemap-dark {\n",
       "                    --jp-widgets-color: white;\n",
       "                    --jp-widgets-label-color: white;\n",
       "                    --jp-ui-font-color1: white;\n",
       "                    --jp-layout-color2: #454545;\n",
       "                    background-color: #383838;\n",
       "                }\n",
       "\n",
       "                .geemap-dark .jupyter-button {\n",
       "                    --jp-layout-color3: #383838;\n",
       "                }\n",
       "\n",
       "                .geemap-colab {\n",
       "                    background-color: var(--colab-primary-surface-color, white);\n",
       "                }\n",
       "\n",
       "                .geemap-colab .jupyter-button {\n",
       "                    --jp-layout-color3: var(--colab-primary-surface-color, white);\n",
       "                }\n",
       "            </style>\n",
       "            "
      ],
      "text/plain": [
       "<IPython.core.display.HTML object>"
      ]
     },
     "metadata": {},
     "output_type": "display_data"
    }
   ],
   "source": [
    "# Stratified split based on 'target' for training and validation\n",
    "# Replace infinity values with NaN\n",
    "X.replace([np.inf, -np.inf], np.nan, inplace=True)\n",
    "# Fill NaNs with mean or median\n",
    "X.fillna(X.median(), inplace=True)\n",
    "X_train, X_valid, y_train, y_valid = train_test_split(X, y, test_size=0.2, stratify=y, random_state=42)"
   ]
  },
  {
   "cell_type": "code",
   "execution_count": 39,
   "metadata": {
    "execution": {
     "iopub.execute_input": "2025-02-05T19:58:09.417961Z",
     "iopub.status.busy": "2025-02-05T19:58:09.417628Z",
     "iopub.status.idle": "2025-02-05T19:58:09.429218Z",
     "shell.execute_reply": "2025-02-05T19:58:09.428122Z",
     "shell.execute_reply.started": "2025-02-05T19:58:09.417931Z"
    }
   },
   "outputs": [
    {
     "data": {
      "text/html": [
       "\n",
       "            <style>\n",
       "                .geemap-dark {\n",
       "                    --jp-widgets-color: white;\n",
       "                    --jp-widgets-label-color: white;\n",
       "                    --jp-ui-font-color1: white;\n",
       "                    --jp-layout-color2: #454545;\n",
       "                    background-color: #383838;\n",
       "                }\n",
       "\n",
       "                .geemap-dark .jupyter-button {\n",
       "                    --jp-layout-color3: #383838;\n",
       "                }\n",
       "\n",
       "                .geemap-colab {\n",
       "                    background-color: var(--colab-primary-surface-color, white);\n",
       "                }\n",
       "\n",
       "                .geemap-colab .jupyter-button {\n",
       "                    --jp-layout-color3: var(--colab-primary-surface-color, white);\n",
       "                }\n",
       "            </style>\n",
       "            "
      ],
      "text/plain": [
       "<IPython.core.display.HTML object>"
      ]
     },
     "metadata": {},
     "output_type": "display_data"
    }
   ],
   "source": [
    "\n",
    "# Define the neural network model for binary classification (healthy vs. non-healthy)\n",
    "def create_nn_model(input_dim):\n",
    "    model = Sequential([\n",
    "        Dense(64, activation='relu', kernel_regularizer=l2(0.001), input_shape=(input_dim,)),\n",
    "        BatchNormalization(),\n",
    "        Dropout(0.3),\n",
    "        Dense(128, activation='relu', kernel_regularizer=l2(0.001)),\n",
    "        BatchNormalization(),\n",
    "        Dropout(0.3),\n",
    "        Dense(64, activation='relu', kernel_regularizer=l2(0.001)),\n",
    "        BatchNormalization(),\n",
    "        Dropout(0.3),\n",
    "        Dense(1, activation='sigmoid')  # Binary classification\n",
    "    ])\n",
    "\n",
    "    model.compile(optimizer='adam',\n",
    "                  loss='binary_crossentropy',\n",
    "                  metrics=['accuracy'])\n",
    "    return model\n",
    "\n",
    "# Function to preprocess dataset and train the model\n",
    "def train_nn(X_train, y_train, X_valid, y_valid):\n",
    "    # Normalize input features\n",
    "    scaler = StandardScaler()\n",
    "    X_train = scaler.fit_transform(X_train)\n",
    "    X_valid = scaler.transform(X_valid)\n",
    "    \n",
    "    # Convert labels to binary: Healthy (0), Non-healthy (1)\n",
    "    y_train = (y_train != 0).astype(int)\n",
    "    y_valid = (y_valid != 0).astype(int)\n",
    "    \n",
    "    # Compute class weights for handling imbalance\n",
    "    class_weights = compute_class_weight(class_weight='balanced', classes=np.unique(y_train), y=y_train)\n",
    "    class_weight_dict = {i: class_weights[i] for i in range(len(class_weights))}\n",
    "    \n",
    "    # Create and train model\n",
    "    model = create_nn_model(X_train.shape[1])\n",
    "    model.fit(X_train, y_train, epochs=50, batch_size=32, validation_data=(X_valid, y_valid), class_weight=class_weight_dict)\n",
    "    \n",
    "    return model, scaler\n",
    "\n",
    "# Function to predict if a sample is non-healthy\n",
    "def predict_non_healthy(model, scaler, X_test):\n",
    "    X_test = scaler.transform(X_test)\n",
    "    predictions = model.predict(X_test)\n",
    "    return (predictions > 0.9).astype(int)  # Mark as non-healthy if confidence > 0.9\n",
    "\n",
    "model = train_nn"
   ]
  },
  {
   "cell_type": "code",
   "execution_count": 123,
   "metadata": {
    "execution": {
     "iopub.execute_input": "2025-02-05T21:30:38.307395Z",
     "iopub.status.busy": "2025-02-05T21:30:38.306955Z",
     "iopub.status.idle": "2025-02-05T21:30:53.502640Z",
     "shell.execute_reply": "2025-02-05T21:30:53.501455Z",
     "shell.execute_reply.started": "2025-02-05T21:30:38.307362Z"
    }
   },
   "outputs": [
    {
     "data": {
      "text/html": [
       "\n",
       "            <style>\n",
       "                .geemap-dark {\n",
       "                    --jp-widgets-color: white;\n",
       "                    --jp-widgets-label-color: white;\n",
       "                    --jp-ui-font-color1: white;\n",
       "                    --jp-layout-color2: #454545;\n",
       "                    background-color: #383838;\n",
       "                }\n",
       "\n",
       "                .geemap-dark .jupyter-button {\n",
       "                    --jp-layout-color3: #383838;\n",
       "                }\n",
       "\n",
       "                .geemap-colab {\n",
       "                    background-color: var(--colab-primary-surface-color, white);\n",
       "                }\n",
       "\n",
       "                .geemap-colab .jupyter-button {\n",
       "                    --jp-layout-color3: var(--colab-primary-surface-color, white);\n",
       "                }\n",
       "            </style>\n",
       "            "
      ],
      "text/plain": [
       "<IPython.core.display.HTML object>"
      ]
     },
     "metadata": {},
     "output_type": "display_data"
    },
    {
     "name": "stdout",
     "output_type": "stream",
     "text": [
      "[LightGBM] [Info] Number of positive: 1249, number of negative: 5771\n",
      "[LightGBM] [Info] Total Bins 5875\n",
      "[LightGBM] [Info] Number of data points in the train set: 7020, number of used features: 35\n",
      "[LightGBM] [Info] [binary:BoostFromScore]: pavg=0.177920 -> initscore=-1.530502\n",
      "[LightGBM] [Info] Start training from score -1.530502\n",
      "Fold 1 Classification Report:\n",
      "               precision    recall  f1-score   support\n",
      "\n",
      "     Healthy       0.82      1.00      0.90      1443\n",
      " Non-Healthy       0.17      0.00      0.01       312\n",
      "\n",
      "    accuracy                           0.82      1755\n",
      "   macro avg       0.49      0.50      0.45      1755\n",
      "weighted avg       0.71      0.82      0.74      1755\n",
      "\n",
      "[LightGBM] [Info] Number of positive: 1249, number of negative: 5771\n",
      "[LightGBM] [Info] Total Bins 5881\n",
      "[LightGBM] [Info] Number of data points in the train set: 7020, number of used features: 35\n",
      "[LightGBM] [Info] [binary:BoostFromScore]: pavg=0.177920 -> initscore=-1.530502\n",
      "[LightGBM] [Info] Start training from score -1.530502\n",
      "Fold 2 Classification Report:\n",
      "               precision    recall  f1-score   support\n",
      "\n",
      "     Healthy       0.82      1.00      0.90      1443\n",
      " Non-Healthy       0.00      0.00      0.00       312\n",
      "\n",
      "    accuracy                           0.82      1755\n",
      "   macro avg       0.41      0.50      0.45      1755\n",
      "weighted avg       0.68      0.82      0.74      1755\n",
      "\n",
      "[LightGBM] [Info] Number of positive: 1249, number of negative: 5771\n",
      "[LightGBM] [Info] Total Bins 5881\n",
      "[LightGBM] [Info] Number of data points in the train set: 7020, number of used features: 35\n",
      "[LightGBM] [Info] [binary:BoostFromScore]: pavg=0.177920 -> initscore=-1.530502\n",
      "[LightGBM] [Info] Start training from score -1.530502\n",
      "Fold 3 Classification Report:\n",
      "               precision    recall  f1-score   support\n",
      "\n",
      "     Healthy       0.82      1.00      0.90      1443\n",
      " Non-Healthy       0.00      0.00      0.00       312\n",
      "\n",
      "    accuracy                           0.82      1755\n",
      "   macro avg       0.41      0.50      0.45      1755\n",
      "weighted avg       0.68      0.82      0.74      1755\n",
      "\n",
      "[LightGBM] [Info] Number of positive: 1249, number of negative: 5771\n",
      "[LightGBM] [Info] Total Bins 5886\n",
      "[LightGBM] [Info] Number of data points in the train set: 7020, number of used features: 35\n",
      "[LightGBM] [Info] [binary:BoostFromScore]: pavg=0.177920 -> initscore=-1.530502\n",
      "[LightGBM] [Info] Start training from score -1.530502\n",
      "Fold 4 Classification Report:\n",
      "               precision    recall  f1-score   support\n",
      "\n",
      "     Healthy       0.82      1.00      0.90      1443\n",
      " Non-Healthy       0.00      0.00      0.00       312\n",
      "\n",
      "    accuracy                           0.82      1755\n",
      "   macro avg       0.41      0.50      0.45      1755\n",
      "weighted avg       0.68      0.82      0.74      1755\n",
      "\n",
      "[LightGBM] [Info] Number of positive: 1248, number of negative: 5772\n",
      "[LightGBM] [Info] Total Bins 5879\n",
      "[LightGBM] [Info] Number of data points in the train set: 7020, number of used features: 35\n",
      "[LightGBM] [Info] [binary:BoostFromScore]: pavg=0.177778 -> initscore=-1.531476\n",
      "[LightGBM] [Info] Start training from score -1.531476\n",
      "Fold 5 Classification Report:\n",
      "               precision    recall  f1-score   support\n",
      "\n",
      "     Healthy       0.82      1.00      0.90      1442\n",
      " Non-Healthy       0.00      0.00      0.00       313\n",
      "\n",
      "    accuracy                           0.82      1755\n",
      "   macro avg       0.41      0.50      0.45      1755\n",
      "weighted avg       0.67      0.82      0.74      1755\n",
      "\n",
      "\n",
      "Final Mean Weighted F1 Score: 0.7412 ± 0.0006\n"
     ]
    }
   ],
   "source": [
    "from lightgbm import LGBMClassifier\n",
    "from sklearn.model_selection import StratifiedKFold\n",
    "from sklearn.metrics import f1_score, classification_report\n",
    "import numpy as np\n",
    "import pandas as pd\n",
    "\n",
    "# Assuming 'category_mapper' is defined and has your target classes (e.g., {'Healthy': 0, 'Non-Healthy': 1})\n",
    "category_mapper = {0: 'Healthy', 1: 'Non-Healthy'}\n",
    "\n",
    "# Configuration dictionary for LightGBM parameters\n",
    "config_dict = {\n",
    "    'boosting_type': 'gbdt',\n",
    "    'objective': 'binary',  # Using binary classification for Healthy vs Non-Healthy\n",
    "    'metric': 'binary_logloss',  # Binary loss function\n",
    "    'num_leaves': 81,\n",
    "    'learning_rate': 0.01,\n",
    "    'n_estimators': 500,\n",
    "    'random_state': 42,\n",
    "    'force_row_wise': True\n",
    "}\n",
    "\n",
    "# Initialize cross-validation strategy\n",
    "n_splits = 5\n",
    "skf = StratifiedKFold(n_splits=n_splits, shuffle=True, random_state=42)\n",
    "\n",
    "# Store F1 scores\n",
    "f1_scores = []\n",
    "\n",
    "# Perform cross-validation\n",
    "for fold, (train_idx, valid_idx) in enumerate(skf.split(X, y_binary)):\n",
    "    # Use .iloc for indexing when X is a DataFrame\n",
    "    X_train, X_valid = X.iloc[train_idx], X.iloc[valid_idx]\n",
    "    y_train, y_valid = y_binary[train_idx], y_binary[valid_idx]\n",
    "\n",
    "    # Initialize and train the model\n",
    "    model = LGBMClassifier(**config_dict)\n",
    "    model.fit(X_train, y_train, eval_set=[(X_valid, y_valid)])\n",
    "\n",
    "    # Predict on the validation set\n",
    "    y_pred = model.predict(X_valid)\n",
    "\n",
    "    # Compute F1 score\n",
    "    f1 = f1_score(y_valid, y_pred, average='weighted')\n",
    "    f1_scores.append(f1)\n",
    "\n",
    "    # Optional: Print classification report for each fold\n",
    "    print(f\"Fold {fold + 1} Classification Report:\\n\", classification_report(y_valid, y_pred, target_names=list(category_mapper.values())))\n",
    "\n",
    "# Compute and print the final average F1 score\n",
    "mean_f1 = np.mean(f1_scores)\n",
    "print(f\"\\nFinal Mean Weighted F1 Score: {mean_f1:.4f} ± {np.std(f1_scores):.4f}\")\n",
    "\n",
    "\n",
    "\n"
   ]
  },
  {
   "cell_type": "code",
   "execution_count": 113,
   "metadata": {
    "execution": {
     "iopub.execute_input": "2025-02-05T21:06:56.246347Z",
     "iopub.status.busy": "2025-02-05T21:06:56.245862Z",
     "iopub.status.idle": "2025-02-05T21:07:00.706856Z",
     "shell.execute_reply": "2025-02-05T21:07:00.704880Z",
     "shell.execute_reply.started": "2025-02-05T21:06:56.246310Z"
    }
   },
   "outputs": [
    {
     "data": {
      "text/html": [
       "\n",
       "            <style>\n",
       "                .geemap-dark {\n",
       "                    --jp-widgets-color: white;\n",
       "                    --jp-widgets-label-color: white;\n",
       "                    --jp-ui-font-color1: white;\n",
       "                    --jp-layout-color2: #454545;\n",
       "                    background-color: #383838;\n",
       "                }\n",
       "\n",
       "                .geemap-dark .jupyter-button {\n",
       "                    --jp-layout-color3: #383838;\n",
       "                }\n",
       "\n",
       "                .geemap-colab {\n",
       "                    background-color: var(--colab-primary-surface-color, white);\n",
       "                }\n",
       "\n",
       "                .geemap-colab .jupyter-button {\n",
       "                    --jp-layout-color3: var(--colab-primary-surface-color, white);\n",
       "                }\n",
       "            </style>\n",
       "            "
      ],
      "text/plain": [
       "<IPython.core.display.HTML object>"
      ]
     },
     "metadata": {},
     "output_type": "display_data"
    },
    {
     "name": "stdout",
     "output_type": "stream",
     "text": [
      "Classification Report (Healthy vs. Non-Healthy):\n",
      "               precision    recall  f1-score   support\n",
      "\n",
      "           0       0.82      0.87      0.85      1443\n",
      "           1       0.17      0.12      0.14       312\n",
      "\n",
      "    accuracy                           0.74      1755\n",
      "   macro avg       0.49      0.49      0.49      1755\n",
      "weighted avg       0.70      0.74      0.72      1755\n",
      "\n"
     ]
    }
   ],
   "source": [
    "from sklearn.svm import SVC\n",
    "from sklearn.metrics import classification_report\n",
    "from sklearn.model_selection import train_test_split\n",
    "from sklearn.utils.class_weight import compute_class_weight\n",
    "\n",
    "# Convert labels: 1 for non-healthy (Diseased, Pests, Stressed), 0 for healthy\n",
    "y_binary = np.where(y == 0, 0, 1)  \n",
    "\n",
    "# Train-test split\n",
    "X_train, X_valid, y_train, y_valid = train_test_split(X, y_binary, test_size=0.2, stratify=y_binary, random_state=42)\n",
    "\n",
    "# Compute class weights to handle imbalance\n",
    "class_weights = compute_class_weight('balanced', classes=np.unique(y_binary), y=y_binary)\n",
    "class_weights_dict = {i: class_weights[i] for i in range(len(class_weights))}\n",
    "\n",
    "# Train an SVM classifier\n",
    "svm_model = SVC(kernel='rbf', class_weight='balanced', C=0.9, random_state=42)\n",
    "svm_model.fit(X_train, y_train)\n",
    "\n",
    "# Predict\n",
    "y_pred = svm_model.predict(X_valid)\n",
    "\n",
    "# Evaluate performance\n",
    "print(\"Classification Report (Healthy vs. Non-Healthy):\\n\", classification_report(y_valid, y_pred))\n"
   ]
  },
  {
   "cell_type": "code",
   "execution_count": 111,
   "metadata": {
    "execution": {
     "iopub.execute_input": "2025-02-05T20:51:54.451074Z",
     "iopub.status.busy": "2025-02-05T20:51:54.450626Z",
     "iopub.status.idle": "2025-02-05T20:51:54.923702Z",
     "shell.execute_reply": "2025-02-05T20:51:54.922424Z",
     "shell.execute_reply.started": "2025-02-05T20:51:54.451036Z"
    }
   },
   "outputs": [
    {
     "data": {
      "text/html": [
       "\n",
       "            <style>\n",
       "                .geemap-dark {\n",
       "                    --jp-widgets-color: white;\n",
       "                    --jp-widgets-label-color: white;\n",
       "                    --jp-ui-font-color1: white;\n",
       "                    --jp-layout-color2: #454545;\n",
       "                    background-color: #383838;\n",
       "                }\n",
       "\n",
       "                .geemap-dark .jupyter-button {\n",
       "                    --jp-layout-color3: #383838;\n",
       "                }\n",
       "\n",
       "                .geemap-colab {\n",
       "                    background-color: var(--colab-primary-surface-color, white);\n",
       "                }\n",
       "\n",
       "                .geemap-colab .jupyter-button {\n",
       "                    --jp-layout-color3: var(--colab-primary-surface-color, white);\n",
       "                }\n",
       "            </style>\n",
       "            "
      ],
      "text/plain": [
       "<IPython.core.display.HTML object>"
      ]
     },
     "metadata": {},
     "output_type": "display_data"
    },
    {
     "data": {
      "image/png": "[encoded data removed]",
      "text/plain": [
       "<Figure size 1000x600 with 2 Axes>"
      ]
     },
     "metadata": {},
     "output_type": "display_data"
    }
   ],
   "source": [
    "import seaborn as sns\n",
    "import matplotlib.pyplot as plt\n",
    "import pandas as pd\n",
    "\n",
    "# Add the binary target column to the features dataframe\n",
    "X_with_target = pd.DataFrame(X)\n",
    "X_with_target['target'] = y_binary\n",
    "\n",
    "# Calculate correlation matrix\n",
    "corr_matrix = X_with_target.corr()\n",
    "\n",
    "# Select the column corresponding to the target variable\n",
    "target_corr = corr_matrix['target'].sort_values(ascending=False)\n",
    "\n",
    "# Plot the heatmap\n",
    "plt.figure(figsize=(10, 6))\n",
    "sns.heatmap(target_corr.to_frame(), annot=True, cmap='coolwarm', fmt='.2f', linewidths=0.5)\n",
    "plt.title('Feature Correlation with Healthy vs. Non-Healthy (Target)')\n",
    "plt.show()\n"
   ]
  },
  {
   "cell_type": "code",
   "execution_count": 75,
   "metadata": {
    "execution": {
     "iopub.execute_input": "2025-02-05T20:40:09.115100Z",
     "iopub.status.busy": "2025-02-05T20:40:09.114594Z",
     "iopub.status.idle": "2025-02-05T20:40:30.227315Z",
     "shell.execute_reply": "2025-02-05T20:40:30.226051Z",
     "shell.execute_reply.started": "2025-02-05T20:40:09.115007Z"
    }
   },
   "outputs": [
    {
     "data": {
      "text/html": [
       "\n",
       "            <style>\n",
       "                .geemap-dark {\n",
       "                    --jp-widgets-color: white;\n",
       "                    --jp-widgets-label-color: white;\n",
       "                    --jp-ui-font-color1: white;\n",
       "                    --jp-layout-color2: #454545;\n",
       "                    background-color: #383838;\n",
       "                }\n",
       "\n",
       "                .geemap-dark .jupyter-button {\n",
       "                    --jp-layout-color3: #383838;\n",
       "                }\n",
       "\n",
       "                .geemap-colab {\n",
       "                    background-color: var(--colab-primary-surface-color, white);\n",
       "                }\n",
       "\n",
       "                .geemap-colab .jupyter-button {\n",
       "                    --jp-layout-color3: var(--colab-primary-surface-color, white);\n",
       "                }\n",
       "            </style>\n",
       "            "
      ],
      "text/plain": [
       "<IPython.core.display.HTML object>"
      ]
     },
     "metadata": {},
     "output_type": "display_data"
    },
    {
     "name": "stderr",
     "output_type": "stream",
     "text": [
      "[I 2025-02-05 20:40:09,415] A new study created in memory with name: no-name-340fa7e6-ebcc-48d7-906b-1b2e0cf12951\n",
      "[I 2025-02-05 20:40:09,571] Trial 0 finished with value: 0.6315261776978714 and parameters: {'max_depth': 7, 'min_samples_leaf': 18}. Best is trial 0 with value: 0.6315261776978714.\n",
      "[I 2025-02-05 20:40:09,748] Trial 1 finished with value: 0.636983098465009 and parameters: {'max_depth': 8, 'min_samples_leaf': 11}. Best is trial 1 with value: 0.636983098465009.\n",
      "[I 2025-02-05 20:40:10,005] Trial 2 finished with value: 0.5358354217468028 and parameters: {'max_depth': 14, 'min_samples_leaf': 6}. Best is trial 1 with value: 0.636983098465009.\n",
      "[I 2025-02-05 20:40:10,203] Trial 3 finished with value: 0.4865051276549319 and parameters: {'max_depth': 10, 'min_samples_leaf': 18}. Best is trial 1 with value: 0.636983098465009.\n",
      "[I 2025-02-05 20:40:10,485] Trial 4 finished with value: 0.5936890169417275 and parameters: {'max_depth': 18, 'min_samples_leaf': 12}. Best is trial 1 with value: 0.636983098465009.\n",
      "[I 2025-02-05 20:40:10,792] Trial 5 finished with value: 0.6154727288747907 and parameters: {'max_depth': 19, 'min_samples_leaf': 9}. Best is trial 1 with value: 0.636983098465009.\n",
      "[I 2025-02-05 20:40:11,023] Trial 6 finished with value: 0.5375880520413935 and parameters: {'max_depth': 14, 'min_samples_leaf': 20}. Best is trial 1 with value: 0.636983098465009.\n",
      "[I 2025-02-05 20:40:11,270] Trial 7 finished with value: 0.5655401967186559 and parameters: {'max_depth': 13, 'min_samples_leaf': 10}. Best is trial 1 with value: 0.636983098465009.\n",
      "[I 2025-02-05 20:40:11,365] Trial 8 finished with value: 0.37860744107726463 and parameters: {'max_depth': 4, 'min_samples_leaf': 16}. Best is trial 1 with value: 0.636983098465009.\n",
      "[I 2025-02-05 20:40:11,662] Trial 9 finished with value: 0.6356089901333523 and parameters: {'max_depth': 19, 'min_samples_leaf': 5}. Best is trial 1 with value: 0.636983098465009.\n",
      "[I 2025-02-05 20:40:11,756] Trial 10 finished with value: 0.3811361692894794 and parameters: {'max_depth': 3, 'min_samples_leaf': 2}. Best is trial 1 with value: 0.636983098465009.\n",
      "[I 2025-02-05 20:40:11,979] Trial 11 finished with value: 0.40648048668435266 and parameters: {'max_depth': 10, 'min_samples_leaf': 4}. Best is trial 1 with value: 0.636983098465009.\n",
      "[I 2025-02-05 20:40:12,160] Trial 12 finished with value: 0.633131671964493 and parameters: {'max_depth': 8, 'min_samples_leaf': 13}. Best is trial 1 with value: 0.636983098465009.\n",
      "[I 2025-02-05 20:40:12,451] Trial 13 finished with value: 0.5885231151554274 and parameters: {'max_depth': 17, 'min_samples_leaf': 7}. Best is trial 1 with value: 0.636983098465009.\n",
      "[I 2025-02-05 20:40:12,618] Trial 14 finished with value: 0.350559768869628 and parameters: {'max_depth': 7, 'min_samples_leaf': 1}. Best is trial 1 with value: 0.636983098465009.\n",
      "[I 2025-02-05 20:40:12,903] Trial 15 finished with value: 0.5866994716762272 and parameters: {'max_depth': 16, 'min_samples_leaf': 7}. Best is trial 1 with value: 0.636983098465009.\n",
      "[I 2025-02-05 20:40:13,130] Trial 16 finished with value: 0.49063044235458037 and parameters: {'max_depth': 11, 'min_samples_leaf': 14}. Best is trial 1 with value: 0.636983098465009.\n",
      "[I 2025-02-05 20:40:13,281] Trial 17 finished with value: 0.3854398203407514 and parameters: {'max_depth': 6, 'min_samples_leaf': 5}. Best is trial 1 with value: 0.636983098465009.\n",
      "[I 2025-02-05 20:40:13,481] Trial 18 finished with value: 0.6552043895747598 and parameters: {'max_depth': 9, 'min_samples_leaf': 10}. Best is trial 18 with value: 0.6552043895747598.\n",
      "[I 2025-02-05 20:40:13,683] Trial 19 finished with value: 0.6549887497061492 and parameters: {'max_depth': 9, 'min_samples_leaf': 9}. Best is trial 18 with value: 0.6552043895747598.\n",
      "[I 2025-02-05 20:40:13,812] Trial 20 finished with value: 0.3775248756436015 and parameters: {'max_depth': 5, 'min_samples_leaf': 9}. Best is trial 18 with value: 0.6552043895747598.\n",
      "[I 2025-02-05 20:40:14,013] Trial 21 finished with value: 0.6471547425736541 and parameters: {'max_depth': 9, 'min_samples_leaf': 11}. Best is trial 18 with value: 0.6552043895747598.\n",
      "[I 2025-02-05 20:40:14,225] Trial 22 finished with value: 0.4037702158465696 and parameters: {'max_depth': 10, 'min_samples_leaf': 14}. Best is trial 18 with value: 0.6552043895747598.\n",
      "[I 2025-02-05 20:40:14,473] Trial 23 finished with value: 0.5072743652683462 and parameters: {'max_depth': 12, 'min_samples_leaf': 8}. Best is trial 18 with value: 0.6552043895747598.\n",
      "[I 2025-02-05 20:40:14,671] Trial 24 finished with value: 0.6471547425736541 and parameters: {'max_depth': 9, 'min_samples_leaf': 11}. Best is trial 18 with value: 0.6552043895747598.\n",
      "[I 2025-02-05 20:40:14,916] Trial 25 finished with value: 0.4981811283110513 and parameters: {'max_depth': 12, 'min_samples_leaf': 9}. Best is trial 18 with value: 0.6552043895747598.\n",
      "[I 2025-02-05 20:40:15,100] Trial 26 finished with value: 0.6337243776252257 and parameters: {'max_depth': 8, 'min_samples_leaf': 12}. Best is trial 18 with value: 0.6552043895747598.\n",
      "[I 2025-02-05 20:40:15,251] Trial 27 finished with value: 0.37643515324534166 and parameters: {'max_depth': 6, 'min_samples_leaf': 15}. Best is trial 18 with value: 0.6552043895747598.\n",
      "[I 2025-02-05 20:40:15,451] Trial 28 finished with value: 0.6552043895747598 and parameters: {'max_depth': 9, 'min_samples_leaf': 10}. Best is trial 18 with value: 0.6552043895747598.\n",
      "[I 2025-02-05 20:40:15,605] Trial 29 finished with value: 0.3854398203407514 and parameters: {'max_depth': 6, 'min_samples_leaf': 3}. Best is trial 18 with value: 0.6552043895747598.\n",
      "[I 2025-02-05 20:40:15,845] Trial 30 finished with value: 0.4953818511488539 and parameters: {'max_depth': 11, 'min_samples_leaf': 7}. Best is trial 18 with value: 0.6552043895747598.\n",
      "[I 2025-02-05 20:40:16,045] Trial 31 finished with value: 0.6552043895747598 and parameters: {'max_depth': 9, 'min_samples_leaf': 10}. Best is trial 18 with value: 0.6552043895747598.\n",
      "[I 2025-02-05 20:40:16,212] Trial 32 finished with value: 0.35661971243791984 and parameters: {'max_depth': 7, 'min_samples_leaf': 10}. Best is trial 18 with value: 0.6552043895747598.\n",
      "[I 2025-02-05 20:40:16,412] Trial 33 finished with value: 0.6522408324643726 and parameters: {'max_depth': 9, 'min_samples_leaf': 8}. Best is trial 18 with value: 0.6552043895747598.\n",
      "[I 2025-02-05 20:40:16,593] Trial 34 finished with value: 0.6337243776252257 and parameters: {'max_depth': 8, 'min_samples_leaf': 12}. Best is trial 18 with value: 0.6552043895747598.\n",
      "[I 2025-02-05 20:40:16,806] Trial 35 finished with value: 0.40439886039886036 and parameters: {'max_depth': 10, 'min_samples_leaf': 10}. Best is trial 18 with value: 0.6552043895747598.\n",
      "[I 2025-02-05 20:40:17,054] Trial 36 finished with value: 0.5765448226986689 and parameters: {'max_depth': 13, 'min_samples_leaf': 13}. Best is trial 18 with value: 0.6552043895747598.\n",
      "[I 2025-02-05 20:40:17,223] Trial 37 finished with value: 0.34972360873516173 and parameters: {'max_depth': 7, 'min_samples_leaf': 8}. Best is trial 18 with value: 0.6552043895747598.\n",
      "[I 2025-02-05 20:40:17,489] Trial 38 finished with value: 0.5358354217468028 and parameters: {'max_depth': 14, 'min_samples_leaf': 6}. Best is trial 18 with value: 0.6552043895747598.\n",
      "[I 2025-02-05 20:40:17,689] Trial 39 finished with value: 0.4125022820274853 and parameters: {'max_depth': 9, 'min_samples_leaf': 16}. Best is trial 18 with value: 0.6552043895747598.\n",
      "[I 2025-02-05 20:40:17,921] Trial 40 finished with value: 0.4972242572242573 and parameters: {'max_depth': 11, 'min_samples_leaf': 9}. Best is trial 18 with value: 0.6552043895747598.\n",
      "[I 2025-02-05 20:40:18,125] Trial 41 finished with value: 0.6522408324643726 and parameters: {'max_depth': 9, 'min_samples_leaf': 8}. Best is trial 18 with value: 0.6552043895747598.\n",
      "[I 2025-02-05 20:40:18,311] Trial 42 finished with value: 0.6342217220106781 and parameters: {'max_depth': 8, 'min_samples_leaf': 10}. Best is trial 18 with value: 0.6552043895747598.\n",
      "[I 2025-02-05 20:40:18,541] Trial 43 finished with value: 0.39245770048877354 and parameters: {'max_depth': 10, 'min_samples_leaf': 11}. Best is trial 18 with value: 0.6552043895747598.\n",
      "[I 2025-02-05 20:40:18,742] Trial 44 finished with value: 0.6469189438524365 and parameters: {'max_depth': 9, 'min_samples_leaf': 6}. Best is trial 18 with value: 0.6552043895747598.\n",
      "[I 2025-02-05 20:40:18,874] Trial 45 finished with value: 0.36843410388125364 and parameters: {'max_depth': 5, 'min_samples_leaf': 12}. Best is trial 18 with value: 0.6552043895747598.\n",
      "[I 2025-02-05 20:40:19,121] Trial 46 finished with value: 0.4981811283110513 and parameters: {'max_depth': 12, 'min_samples_leaf': 9}. Best is trial 18 with value: 0.6552043895747598.\n",
      "[I 2025-02-05 20:40:19,338] Trial 47 finished with value: 0.4101017235431817 and parameters: {'max_depth': 10, 'min_samples_leaf': 8}. Best is trial 18 with value: 0.6552043895747598.\n",
      "[I 2025-02-05 20:40:19,528] Trial 48 finished with value: 0.644032218171651 and parameters: {'max_depth': 8, 'min_samples_leaf': 5}. Best is trial 18 with value: 0.6552043895747598.\n",
      "[I 2025-02-05 20:40:19,746] Trial 49 finished with value: 0.5556699203449244 and parameters: {'max_depth': 11, 'min_samples_leaf': 19}. Best is trial 18 with value: 0.6552043895747598.\n",
      "[I 2025-02-05 20:40:20,055] Trial 50 finished with value: 0.6268054418173155 and parameters: {'max_depth': 20, 'min_samples_leaf': 7}. Best is trial 18 with value: 0.6552043895747598.\n",
      "[I 2025-02-05 20:40:20,257] Trial 51 finished with value: 0.6522408324643726 and parameters: {'max_depth': 9, 'min_samples_leaf': 8}. Best is trial 18 with value: 0.6552043895747598.\n",
      "[I 2025-02-05 20:40:20,459] Trial 52 finished with value: 0.6549887497061492 and parameters: {'max_depth': 9, 'min_samples_leaf': 9}. Best is trial 18 with value: 0.6552043895747598.\n",
      "[I 2025-02-05 20:40:20,633] Trial 53 finished with value: 0.35777928284957655 and parameters: {'max_depth': 7, 'min_samples_leaf': 11}. Best is trial 18 with value: 0.6552043895747598.\n",
      "[I 2025-02-05 20:40:20,882] Trial 54 finished with value: 0.40439886039886036 and parameters: {'max_depth': 10, 'min_samples_leaf': 10}. Best is trial 18 with value: 0.6552043895747598.\n",
      "[I 2025-02-05 20:40:21,069] Trial 55 finished with value: 0.633131671964493 and parameters: {'max_depth': 8, 'min_samples_leaf': 13}. Best is trial 18 with value: 0.6552043895747598.\n",
      "[I 2025-02-05 20:40:21,324] Trial 56 finished with value: 0.5739089407879217 and parameters: {'max_depth': 13, 'min_samples_leaf': 9}. Best is trial 18 with value: 0.6552043895747598.\n",
      "[I 2025-02-05 20:40:21,548] Trial 57 finished with value: 0.6483849636784329 and parameters: {'max_depth': 9, 'min_samples_leaf': 7}. Best is trial 18 with value: 0.6552043895747598.\n",
      "[I 2025-02-05 20:40:21,683] Trial 58 finished with value: 0.37680466391267786 and parameters: {'max_depth': 5, 'min_samples_leaf': 10}. Best is trial 18 with value: 0.6552043895747598.\n",
      "[I 2025-02-05 20:40:21,944] Trial 59 finished with value: 0.4984904618915313 and parameters: {'max_depth': 11, 'min_samples_leaf': 6}. Best is trial 18 with value: 0.6552043895747598.\n",
      "[I 2025-02-05 20:40:22,118] Trial 60 finished with value: 0.3686951860827564 and parameters: {'max_depth': 7, 'min_samples_leaf': 12}. Best is trial 18 with value: 0.6552043895747598.\n",
      "[I 2025-02-05 20:40:22,322] Trial 61 finished with value: 0.6522408324643726 and parameters: {'max_depth': 9, 'min_samples_leaf': 8}. Best is trial 18 with value: 0.6552043895747598.\n",
      "[I 2025-02-05 20:40:22,513] Trial 62 finished with value: 0.6358639182168594 and parameters: {'max_depth': 8, 'min_samples_leaf': 9}. Best is trial 18 with value: 0.6552043895747598.\n",
      "[I 2025-02-05 20:40:22,730] Trial 63 finished with value: 0.39245770048877354 and parameters: {'max_depth': 10, 'min_samples_leaf': 11}. Best is trial 18 with value: 0.6552043895747598.\n",
      "[I 2025-02-05 20:40:22,934] Trial 64 finished with value: 0.6522408324643726 and parameters: {'max_depth': 9, 'min_samples_leaf': 8}. Best is trial 18 with value: 0.6552043895747598.\n",
      "[I 2025-02-05 20:40:23,091] Trial 65 finished with value: 0.3865208408854465 and parameters: {'max_depth': 6, 'min_samples_leaf': 7}. Best is trial 18 with value: 0.6552043895747598.\n",
      "[I 2025-02-05 20:40:23,312] Trial 66 finished with value: 0.4061030084400509 and parameters: {'max_depth': 10, 'min_samples_leaf': 9}. Best is trial 18 with value: 0.6552043895747598.\n",
      "[I 2025-02-05 20:40:23,484] Trial 67 finished with value: 0.35661971243791984 and parameters: {'max_depth': 7, 'min_samples_leaf': 10}. Best is trial 18 with value: 0.6552043895747598.\n",
      "[I 2025-02-05 20:40:23,730] Trial 68 finished with value: 0.486009373409404 and parameters: {'max_depth': 12, 'min_samples_leaf': 11}. Best is trial 18 with value: 0.6552043895747598.\n",
      "[I 2025-02-05 20:40:23,965] Trial 69 finished with value: 0.4943562045048475 and parameters: {'max_depth': 11, 'min_samples_leaf': 4}. Best is trial 18 with value: 0.6552043895747598.\n",
      "[I 2025-02-05 20:40:24,154] Trial 70 finished with value: 0.6497481343697789 and parameters: {'max_depth': 8, 'min_samples_leaf': 8}. Best is trial 18 with value: 0.6552043895747598.\n",
      "[I 2025-02-05 20:40:24,361] Trial 71 finished with value: 0.6522408324643726 and parameters: {'max_depth': 9, 'min_samples_leaf': 8}. Best is trial 18 with value: 0.6552043895747598.\n",
      "[I 2025-02-05 20:40:24,574] Trial 72 finished with value: 0.6483849636784329 and parameters: {'max_depth': 9, 'min_samples_leaf': 7}. Best is trial 18 with value: 0.6552043895747598.\n",
      "[I 2025-02-05 20:40:24,850] Trial 73 finished with value: 0.5716182693302682 and parameters: {'max_depth': 15, 'min_samples_leaf': 9}. Best is trial 18 with value: 0.6552043895747598.\n",
      "[I 2025-02-05 20:40:25,039] Trial 74 finished with value: 0.6342217220106781 and parameters: {'max_depth': 8, 'min_samples_leaf': 10}. Best is trial 18 with value: 0.6552043895747598.\n",
      "[I 2025-02-05 20:40:25,262] Trial 75 finished with value: 0.4101017235431817 and parameters: {'max_depth': 10, 'min_samples_leaf': 8}. Best is trial 18 with value: 0.6552043895747598.\n",
      "[I 2025-02-05 20:40:25,467] Trial 76 finished with value: 0.6549887497061492 and parameters: {'max_depth': 9, 'min_samples_leaf': 9}. Best is trial 18 with value: 0.6552043895747598.\n",
      "[I 2025-02-05 20:40:25,636] Trial 77 finished with value: 0.35777928284957655 and parameters: {'max_depth': 7, 'min_samples_leaf': 11}. Best is trial 18 with value: 0.6552043895747598.\n",
      "[I 2025-02-05 20:40:25,823] Trial 78 finished with value: 0.6358639182168594 and parameters: {'max_depth': 8, 'min_samples_leaf': 9}. Best is trial 18 with value: 0.6552043895747598.\n",
      "[I 2025-02-05 20:40:26,050] Trial 79 finished with value: 0.49861570517827103 and parameters: {'max_depth': 11, 'min_samples_leaf': 13}. Best is trial 18 with value: 0.6552043895747598.\n",
      "[I 2025-02-05 20:40:26,266] Trial 80 finished with value: 0.41322330428366927 and parameters: {'max_depth': 10, 'min_samples_leaf': 12}. Best is trial 18 with value: 0.6552043895747598.\n",
      "[I 2025-02-05 20:40:26,469] Trial 81 finished with value: 0.6549887497061492 and parameters: {'max_depth': 9, 'min_samples_leaf': 9}. Best is trial 18 with value: 0.6552043895747598.\n",
      "[I 2025-02-05 20:40:26,672] Trial 82 finished with value: 0.6552043895747598 and parameters: {'max_depth': 9, 'min_samples_leaf': 10}. Best is trial 18 with value: 0.6552043895747598.\n",
      "[I 2025-02-05 20:40:26,877] Trial 83 finished with value: 0.6552043895747598 and parameters: {'max_depth': 9, 'min_samples_leaf': 10}. Best is trial 18 with value: 0.6552043895747598.\n",
      "[I 2025-02-05 20:40:27,070] Trial 84 finished with value: 0.636983098465009 and parameters: {'max_depth': 8, 'min_samples_leaf': 11}. Best is trial 18 with value: 0.6552043895747598.\n",
      "[I 2025-02-05 20:40:27,284] Trial 85 finished with value: 0.6552043895747598 and parameters: {'max_depth': 9, 'min_samples_leaf': 10}. Best is trial 18 with value: 0.6552043895747598.\n",
      "[I 2025-02-05 20:40:27,507] Trial 86 finished with value: 0.40439886039886036 and parameters: {'max_depth': 10, 'min_samples_leaf': 10}. Best is trial 18 with value: 0.6552043895747598.\n",
      "[I 2025-02-05 20:40:27,715] Trial 87 finished with value: 0.6552043895747598 and parameters: {'max_depth': 9, 'min_samples_leaf': 10}. Best is trial 18 with value: 0.6552043895747598.\n",
      "[I 2025-02-05 20:40:27,892] Trial 88 finished with value: 0.3686951860827564 and parameters: {'max_depth': 7, 'min_samples_leaf': 12}. Best is trial 18 with value: 0.6552043895747598.\n",
      "[I 2025-02-05 20:40:28,047] Trial 89 finished with value: 0.38580556232240654 and parameters: {'max_depth': 6, 'min_samples_leaf': 10}. Best is trial 18 with value: 0.6552043895747598.\n",
      "[I 2025-02-05 20:40:28,282] Trial 90 finished with value: 0.40439886039886036 and parameters: {'max_depth': 10, 'min_samples_leaf': 10}. Best is trial 18 with value: 0.6552043895747598.\n",
      "[I 2025-02-05 20:40:28,488] Trial 91 finished with value: 0.6471547425736541 and parameters: {'max_depth': 9, 'min_samples_leaf': 11}. Best is trial 18 with value: 0.6552043895747598.\n",
      "[I 2025-02-05 20:40:28,675] Trial 92 finished with value: 0.6342217220106781 and parameters: {'max_depth': 8, 'min_samples_leaf': 10}. Best is trial 18 with value: 0.6552043895747598.\n",
      "[I 2025-02-05 20:40:28,882] Trial 93 finished with value: 0.6549887497061492 and parameters: {'max_depth': 9, 'min_samples_leaf': 9}. Best is trial 18 with value: 0.6552043895747598.\n",
      "[I 2025-02-05 20:40:29,074] Trial 94 finished with value: 0.6342217220106781 and parameters: {'max_depth': 8, 'min_samples_leaf': 10}. Best is trial 18 with value: 0.6552043895747598.\n",
      "[I 2025-02-05 20:40:29,297] Trial 95 finished with value: 0.4061030084400509 and parameters: {'max_depth': 10, 'min_samples_leaf': 9}. Best is trial 18 with value: 0.6552043895747598.\n",
      "[I 2025-02-05 20:40:29,529] Trial 96 finished with value: 0.4845034945969472 and parameters: {'max_depth': 11, 'min_samples_leaf': 11}. Best is trial 18 with value: 0.6552043895747598.\n",
      "[I 2025-02-05 20:40:29,620] Trial 97 finished with value: 0.3811361692894794 and parameters: {'max_depth': 3, 'min_samples_leaf': 10}. Best is trial 18 with value: 0.6552043895747598.\n",
      "[I 2025-02-05 20:40:29,822] Trial 98 finished with value: 0.6471547425736541 and parameters: {'max_depth': 9, 'min_samples_leaf': 11}. Best is trial 18 with value: 0.6552043895747598.\n",
      "[I 2025-02-05 20:40:30,024] Trial 99 finished with value: 0.648810789635682 and parameters: {'max_depth': 9, 'min_samples_leaf': 12}. Best is trial 18 with value: 0.6552043895747598.\n"
     ]
    },
    {
     "name": "stdout",
     "output_type": "stream",
     "text": [
      "Best hyperparameters: {'max_depth': 9, 'min_samples_leaf': 10}\n",
      "Best weighted F1 score: 0.6552043895747598\n",
      "Classification Report (Healthy vs. Non-Healthy) after optimization:\n",
      "               precision    recall  f1-score   support\n",
      "\n",
      "           0       0.81      0.71      0.76      1443\n",
      "           1       0.15      0.24      0.19       312\n",
      "\n",
      "    accuracy                           0.63      1755\n",
      "   macro avg       0.48      0.48      0.47      1755\n",
      "weighted avg       0.69      0.63      0.66      1755\n",
      "\n"
     ]
    }
   ],
   "source": [
    "import optuna\n",
    "import numpy as np\n",
    "from sklearn.tree import DecisionTreeClassifier\n",
    "from sklearn.model_selection import train_test_split\n",
    "from sklearn.metrics import f1_score\n",
    "from sklearn.utils.class_weight import compute_class_weight\n",
    "from sklearn.metrics import classification_report\n",
    "\n",
    "# Convert labels: 1 for non-healthy (Diseased, Pests, Stressed), 0 for healthy\n",
    "y_binary = np.where(y == 0, 0, 1)  \n",
    "\n",
    "# Train-test split\n",
    "X_train, X_valid, y_train, y_valid = train_test_split(X, y_binary, test_size=0.2, stratify=y_binary, random_state=42)\n",
    "\n",
    "# Compute class weights to handle imbalance\n",
    "class_weights = compute_class_weight('balanced', classes=np.unique(y_binary), y=y_binary)\n",
    "class_weights_dict = {i: class_weights[i] for i in range(len(class_weights))}\n",
    "\n",
    "# Define the objective function for Optuna to maximize the weighted F1 score\n",
    "def objective(trial):\n",
    "    max_depth = trial.suggest_int('max_depth', 3, 20)\n",
    "    min_samples_leaf = trial.suggest_int('min_samples_leaf', 1, 20)\n",
    "    \n",
    "    # Train the DecisionTreeClassifier with suggested hyperparameters\n",
    "    tree_model = DecisionTreeClassifier(\n",
    "        max_depth=max_depth,\n",
    "        min_samples_leaf=min_samples_leaf,\n",
    "        class_weight=class_weights_dict,\n",
    "        random_state=42\n",
    "    )\n",
    "    \n",
    "    tree_model.fit(X_train, y_train)\n",
    "    \n",
    "    # Predict\n",
    "    y_pred = tree_model.predict(X_valid)\n",
    "    \n",
    "    # Calculate the weighted F1 score\n",
    "    f1 = f1_score(y_valid, y_pred, average='weighted')\n",
    "    return f1\n",
    "\n",
    "# Create the Optuna study to maximize the objective (weighted F1 score)\n",
    "study = optuna.create_study(direction='maximize')\n",
    "study.optimize(objective, n_trials=100)  # You can adjust n_trials based on your needs\n",
    "\n",
    "# Print the best hyperparameters and the corresponding weighted F1 score\n",
    "print(\"Best hyperparameters:\", study.best_params)\n",
    "print(\"Best weighted F1 score:\", study.best_value)\n",
    "\n",
    "# After optimization, train the best model and evaluate performance\n",
    "best_tree_model = DecisionTreeClassifier(\n",
    "    max_depth=study.best_params['max_depth'],\n",
    "    min_samples_leaf=study.best_params['min_samples_leaf'],\n",
    "    class_weight=class_weights_dict,\n",
    "    random_state=42\n",
    ")\n",
    "best_tree_model.fit(X_train, y_train)\n",
    "\n",
    "# Predict and evaluate\n",
    "y_pred_best = best_tree_model.predict(X_valid)\n",
    "print(\"Classification Report (Healthy vs. Non-Healthy) after optimization:\\n\", classification_report(y_valid, y_pred_best))\n"
   ]
  },
  {
   "cell_type": "code",
   "execution_count": 114,
   "metadata": {
    "execution": {
     "iopub.execute_input": "2025-02-05T21:14:34.813359Z",
     "iopub.status.busy": "2025-02-05T21:14:34.812852Z",
     "iopub.status.idle": "2025-02-05T21:14:35.766690Z",
     "shell.execute_reply": "2025-02-05T21:14:35.765561Z",
     "shell.execute_reply.started": "2025-02-05T21:14:34.813322Z"
    }
   },
   "outputs": [
    {
     "data": {
      "text/html": [
       "\n",
       "            <style>\n",
       "                .geemap-dark {\n",
       "                    --jp-widgets-color: white;\n",
       "                    --jp-widgets-label-color: white;\n",
       "                    --jp-ui-font-color1: white;\n",
       "                    --jp-layout-color2: #454545;\n",
       "                    background-color: #383838;\n",
       "                }\n",
       "\n",
       "                .geemap-dark .jupyter-button {\n",
       "                    --jp-layout-color3: #383838;\n",
       "                }\n",
       "\n",
       "                .geemap-colab {\n",
       "                    background-color: var(--colab-primary-surface-color, white);\n",
       "                }\n",
       "\n",
       "                .geemap-colab .jupyter-button {\n",
       "                    --jp-layout-color3: var(--colab-primary-surface-color, white);\n",
       "                }\n",
       "            </style>\n",
       "            "
      ],
      "text/plain": [
       "<IPython.core.display.HTML object>"
      ]
     },
     "metadata": {},
     "output_type": "display_data"
    },
    {
     "name": "stdout",
     "output_type": "stream",
     "text": [
      "[LightGBM] [Info] Auto-choosing col-wise multi-threading, the overhead of testing was 0.000435 seconds.\n",
      "You can set `force_col_wise=true` to remove the overhead.\n",
      "[LightGBM] [Info] Total Bins 5772\n",
      "[LightGBM] [Info] Number of data points in the train set: 1248, number of used features: 35\n",
      "[LightGBM] [Info] Start training from score -1.067841\n",
      "[LightGBM] [Info] Start training from score -1.067841\n",
      "[LightGBM] [Info] Start training from score -1.163151\n",
      "Classification Report (Non-Healthy Type):\n",
      "               precision    recall  f1-score   support\n",
      "\n",
      "           1       0.46      0.41      0.43       108\n",
      "           2       0.39      0.43      0.41       107\n",
      "           3       0.36      0.37      0.36        98\n",
      "\n",
      "    accuracy                           0.40       313\n",
      "   macro avg       0.40      0.40      0.40       313\n",
      "weighted avg       0.41      0.40      0.40       313\n",
      "\n"
     ]
    }
   ],
   "source": [
    "# Select only non-healthy samples for second model\n",
    "X_non_healthy = X[y_binary == 1]\n",
    "y_non_healthy = y[y_binary == 1]  # Keep original classes (Diseased, Pests, Stressed)\n",
    "\n",
    "# Split data\n",
    "X_train_nh, X_valid_nh, y_train_nh, y_valid_nh = train_test_split(X_non_healthy, y_non_healthy, test_size=0.2, stratify=y_non_healthy, random_state=42)\n",
    "\n",
    "# LightGBM Configuration for Multiclass Classification\n",
    "config_dict = {\n",
    "    'boosting_type': 'gbdt',\n",
    "    'objective': 'multiclass',\n",
    "    'metric': 'multi_logloss',\n",
    "    'num_class': len(np.unique(y_train_nh)),  # Number of non-healthy categories\n",
    "    'num_leaves': 10,\n",
    "    'learning_rate': 0.1,\n",
    "    'n_estimators': 500,\n",
    "    'random_state': 42\n",
    "}\n",
    "\n",
    "# Train LightGBM model for predicting non-healthy types\n",
    "model_nh = LGBMClassifier(**config_dict)\n",
    "model_nh.fit(\n",
    "    X_train_nh, y_train_nh,\n",
    "    eval_set=[(X_valid_nh, y_valid_nh)],\n",
    "\n",
    ")\n",
    "\n",
    "# Predict on non-healthy validation set\n",
    "y_pred_nh = model_nh.predict(X_valid_nh)\n",
    "\n",
    "# Evaluate performance\n",
    "print(\"Classification Report (Non-Healthy Type):\\n\", classification_report(y_valid_nh, y_pred_nh))\n"
   ]
  },
  {
   "cell_type": "code",
   "execution_count": 40,
   "metadata": {
    "execution": {
     "iopub.execute_input": "2025-02-05T19:58:09.430738Z",
     "iopub.status.busy": "2025-02-05T19:58:09.430342Z",
     "iopub.status.idle": "2025-02-05T19:58:10.196512Z",
     "shell.execute_reply": "2025-02-05T19:58:10.195484Z",
     "shell.execute_reply.started": "2025-02-05T19:58:09.430707Z"
    },
    "id": "i9gQWi-tmqdM",
    "outputId": "d917f37a-511c-4469-bfc3-7f715a72b57a"
   },
   "outputs": [
    {
     "data": {
      "text/html": [
       "\n",
       "            <style>\n",
       "                .geemap-dark {\n",
       "                    --jp-widgets-color: white;\n",
       "                    --jp-widgets-label-color: white;\n",
       "                    --jp-ui-font-color1: white;\n",
       "                    --jp-layout-color2: #454545;\n",
       "                    background-color: #383838;\n",
       "                }\n",
       "\n",
       "                .geemap-dark .jupyter-button {\n",
       "                    --jp-layout-color3: #383838;\n",
       "                }\n",
       "\n",
       "                .geemap-colab {\n",
       "                    background-color: var(--colab-primary-surface-color, white);\n",
       "                }\n",
       "\n",
       "                .geemap-colab .jupyter-button {\n",
       "                    --jp-layout-color3: var(--colab-primary-surface-color, white);\n",
       "                }\n",
       "            </style>\n",
       "            "
      ],
      "text/plain": [
       "<IPython.core.display.HTML object>"
      ]
     },
     "metadata": {},
     "output_type": "display_data"
    },
    {
     "name": "stdout",
     "output_type": "stream",
     "text": [
      "[LightGBM] [Info] Total Bins 5877\n",
      "[LightGBM] [Info] Number of data points in the train set: 7020, number of used features: 35\n",
      "[LightGBM] [Info] Start training from score -0.195918\n",
      "[LightGBM] [Info] Start training from score -2.792733\n",
      "[LightGBM] [Info] Start training from score -2.795062\n",
      "[LightGBM] [Info] Start training from score -2.890372\n"
     ]
    },
    {
     "data": {
      "text/html": [
       "<style>#sk-container-id-1 {color: black;background-color: white;}#sk-container-id-1 pre{padding: 0;}#sk-container-id-1 div.sk-toggleable {background-color: white;}#sk-container-id-1 label.sk-toggleable__label {cursor: pointer;display: block;width: 100%;margin-bottom: 0;padding: 0.3em;box-sizing: border-box;text-align: center;}#sk-container-id-1 label.sk-toggleable__label-arrow:before {content: \"▸\";float: left;margin-right: 0.25em;color: #696969;}#sk-container-id-1 label.sk-toggleable__label-arrow:hover:before {color: black;}#sk-container-id-1 div.sk-estimator:hover label.sk-toggleable__label-arrow:before {color: black;}#sk-container-id-1 div.sk-toggleable__content {max-height: 0;max-width: 0;overflow: hidden;text-align: left;background-color: #f0f8ff;}#sk-container-id-1 div.sk-toggleable__content pre {margin: 0.2em;color: black;border-radius: 0.25em;background-color: #f0f8ff;}#sk-container-id-1 input.sk-toggleable__control:checked~div.sk-toggleable__content {max-height: 200px;max-width: 100%;overflow: auto;}#sk-container-id-1 input.sk-toggleable__control:checked~label.sk-toggleable__label-arrow:before {content: \"▾\";}#sk-container-id-1 div.sk-estimator input.sk-toggleable__control:checked~label.sk-toggleable__label {background-color: #d4ebff;}#sk-container-id-1 div.sk-label input.sk-toggleable__control:checked~label.sk-toggleable__label {background-color: #d4ebff;}#sk-container-id-1 input.sk-hidden--visually {border: 0;clip: rect(1px 1px 1px 1px);clip: rect(1px, 1px, 1px, 1px);height: 1px;margin: -1px;overflow: hidden;padding: 0;position: absolute;width: 1px;}#sk-container-id-1 div.sk-estimator {font-family: monospace;background-color: #f0f8ff;border: 1px dotted black;border-radius: 0.25em;box-sizing: border-box;margin-bottom: 0.5em;}#sk-container-id-1 div.sk-estimator:hover {background-color: #d4ebff;}#sk-container-id-1 div.sk-parallel-item::after {content: \"\";width: 100%;border-bottom: 1px solid gray;flex-grow: 1;}#sk-container-id-1 div.sk-label:hover label.sk-toggleable__label {background-color: #d4ebff;}#sk-container-id-1 div.sk-serial::before {content: \"\";position: absolute;border-left: 1px solid gray;box-sizing: border-box;top: 0;bottom: 0;left: 50%;z-index: 0;}#sk-container-id-1 div.sk-serial {display: flex;flex-direction: column;align-items: center;background-color: white;padding-right: 0.2em;padding-left: 0.2em;position: relative;}#sk-container-id-1 div.sk-item {position: relative;z-index: 1;}#sk-container-id-1 div.sk-parallel {display: flex;align-items: stretch;justify-content: center;background-color: white;position: relative;}#sk-container-id-1 div.sk-item::before, #sk-container-id-1 div.sk-parallel-item::before {content: \"\";position: absolute;border-left: 1px solid gray;box-sizing: border-box;top: 0;bottom: 0;left: 50%;z-index: -1;}#sk-container-id-1 div.sk-parallel-item {display: flex;flex-direction: column;z-index: 1;position: relative;background-color: white;}#sk-container-id-1 div.sk-parallel-item:first-child::after {align-self: flex-end;width: 50%;}#sk-container-id-1 div.sk-parallel-item:last-child::after {align-self: flex-start;width: 50%;}#sk-container-id-1 div.sk-parallel-item:only-child::after {width: 0;}#sk-container-id-1 div.sk-dashed-wrapped {border: 1px dashed gray;margin: 0 0.4em 0.5em 0.4em;box-sizing: border-box;padding-bottom: 0.4em;background-color: white;}#sk-container-id-1 div.sk-label label {font-family: monospace;font-weight: bold;display: inline-block;line-height: 1.2em;}#sk-container-id-1 div.sk-label-container {text-align: center;}#sk-container-id-1 div.sk-container {/* jupyter's `normalize.less` sets `[hidden] { display: none; }` but bootstrap.min.css set `[hidden] { display: none !important; }` so we also need the `!important` here to be able to override the default hidden behavior on the sphinx rendered scikit-learn.org. See: https://github.com/scikit-learn/scikit-learn/issues/21755 */display: inline-block !important;position: relative;}#sk-container-id-1 div.sk-text-repr-fallback {display: none;}</style><div id=\"sk-container-id-1\" class=\"sk-top-container\"><div class=\"sk-text-repr-fallback\"><pre>LGBMClassifier(force_row_wise=&#x27;true&#x27;, learning_rate=1e-07,\n",
       "               metric=&#x27;multi_logloss&#x27;, n_estimators=300, num_class=4,\n",
       "               num_leaves=2, objective=&#x27;multiclass&#x27;, random_state=42)</pre><b>In a Jupyter environment, please rerun this cell to show the HTML representation or trust the notebook. <br />On GitHub, the HTML representation is unable to render, please try loading this page with nbviewer.org.</b></div><div class=\"sk-container\" hidden><div class=\"sk-item\"><div class=\"sk-estimator sk-toggleable\"><input class=\"sk-toggleable__control sk-hidden--visually\" id=\"sk-estimator-id-1\" type=\"checkbox\" checked><label for=\"sk-estimator-id-1\" class=\"sk-toggleable__label sk-toggleable__label-arrow\">LGBMClassifier</label><div class=\"sk-toggleable__content\"><pre>LGBMClassifier(force_row_wise=&#x27;true&#x27;, learning_rate=1e-07,\n",
       "               metric=&#x27;multi_logloss&#x27;, n_estimators=300, num_class=4,\n",
       "               num_leaves=2, objective=&#x27;multiclass&#x27;, random_state=42)</pre></div></div></div></div></div>"
      ],
      "text/plain": [
       "LGBMClassifier(force_row_wise='true', learning_rate=1e-07,\n",
       "               metric='multi_logloss', n_estimators=300, num_class=4,\n",
       "               num_leaves=2, objective='multiclass', random_state=42)"
      ]
     },
     "execution_count": 40,
     "metadata": {},
     "output_type": "execute_result"
    }
   ],
   "source": [
    "# Configuration dictionary for LightGBM parameters\n",
    "config_dict = {\n",
    "    'boosting_type': 'gbdt',\n",
    "    'objective': 'multiclass',\n",
    "    'metric': 'multi_logloss',\n",
    "    'num_class': len(category_mapper),  # Number of classes in the target\n",
    "    'num_leaves': 2,\n",
    "    'learning_rate': 0.0000001,\n",
    "    'n_estimators': 300,\n",
    "    'random_state': 42,\n",
    "    'force_row_wise': 'true'\n",
    "}\n",
    "\n",
    "# Initialize LightGBM classifier with config_dict parameters\n",
    "model = LGBMClassifier(**config_dict)\n",
    "\n",
    "# Fit the model with an evaluation set for early stopping and progress tracking\n",
    "model.fit(\n",
    "    X_train, y_train,\n",
    "    eval_set=[(X_train, y_train), (X_valid, y_valid)],\n",
    ")"
   ]
  },
  {
   "cell_type": "code",
   "execution_count": 41,
   "metadata": {
    "execution": {
     "iopub.execute_input": "2025-02-05T19:58:10.197888Z",
     "iopub.status.busy": "2025-02-05T19:58:10.197508Z",
     "iopub.status.idle": "2025-02-05T19:58:10.441596Z",
     "shell.execute_reply": "2025-02-05T19:58:10.440075Z",
     "shell.execute_reply.started": "2025-02-05T19:58:10.197858Z"
    },
    "id": "FHBx31JfmeGc",
    "outputId": "0132e4f0-dcb4-4858-8108-4c2bc1b5f434"
   },
   "outputs": [
    {
     "data": {
      "text/html": [
       "\n",
       "            <style>\n",
       "                .geemap-dark {\n",
       "                    --jp-widgets-color: white;\n",
       "                    --jp-widgets-label-color: white;\n",
       "                    --jp-ui-font-color1: white;\n",
       "                    --jp-layout-color2: #454545;\n",
       "                    background-color: #383838;\n",
       "                }\n",
       "\n",
       "                .geemap-dark .jupyter-button {\n",
       "                    --jp-layout-color3: #383838;\n",
       "                }\n",
       "\n",
       "                .geemap-colab {\n",
       "                    background-color: var(--colab-primary-surface-color, white);\n",
       "                }\n",
       "\n",
       "                .geemap-colab .jupyter-button {\n",
       "                    --jp-layout-color3: var(--colab-primary-surface-color, white);\n",
       "                }\n",
       "            </style>\n",
       "            "
      ],
      "text/plain": [
       "<IPython.core.display.HTML object>"
      ]
     },
     "metadata": {},
     "output_type": "display_data"
    },
    {
     "ename": "NameError",
     "evalue": "name 'X_valid_scaled' is not defined",
     "output_type": "error",
     "traceback": [
      "\u001b[0;31m---------------------------------------------------------------------------\u001b[0m",
      "\u001b[0;31mNameError\u001b[0m                                 Traceback (most recent call last)",
      "\u001b[0;32m<ipython-input-41-52c1bb66d4d2>\u001b[0m in \u001b[0;36m<cell line: 5>\u001b[0;34m()\u001b[0m\n\u001b[1;32m      3\u001b[0m \u001b[0;34m\u001b[0m\u001b[0m\n\u001b[1;32m      4\u001b[0m \u001b[0;31m# Predict on the validation set\u001b[0m\u001b[0;34m\u001b[0m\u001b[0;34m\u001b[0m\u001b[0m\n\u001b[0;32m----> 5\u001b[0;31m \u001b[0my_pred_probs\u001b[0m \u001b[0;34m=\u001b[0m \u001b[0mmodel\u001b[0m\u001b[0;34m.\u001b[0m\u001b[0mpredict\u001b[0m\u001b[0;34m(\u001b[0m\u001b[0mX_valid_scaled\u001b[0m\u001b[0;34m)\u001b[0m  \u001b[0;31m# Ensure X_valid is scaled\u001b[0m\u001b[0;34m\u001b[0m\u001b[0;34m\u001b[0m\u001b[0m\n\u001b[0m\u001b[1;32m      6\u001b[0m \u001b[0my_pred\u001b[0m \u001b[0;34m=\u001b[0m \u001b[0mnp\u001b[0m\u001b[0;34m.\u001b[0m\u001b[0margmax\u001b[0m\u001b[0;34m(\u001b[0m\u001b[0my_pred_probs\u001b[0m\u001b[0;34m,\u001b[0m \u001b[0maxis\u001b[0m\u001b[0;34m=\u001b[0m\u001b[0;36m1\u001b[0m\u001b[0;34m)\u001b[0m  \u001b[0;31m# Convert probabilities to class indices\u001b[0m\u001b[0;34m\u001b[0m\u001b[0;34m\u001b[0m\u001b[0m\n\u001b[1;32m      7\u001b[0m \u001b[0;34m\u001b[0m\u001b[0m\n",
      "\u001b[0;31mNameError\u001b[0m: name 'X_valid_scaled' is not defined"
     ]
    }
   ],
   "source": [
    "from sklearn.metrics import classification_report, f1_score\n",
    "import numpy as np\n",
    "\n",
    "# Predict on the validation set\n",
    "y_pred_probs = model.predict(X_valid_scaled)  # Ensure X_valid is scaled\n",
    "y_pred = np.argmax(y_pred_probs, axis=1)  # Convert probabilities to class indices\n",
    "\n",
    "# Generate classification report and weighted F1 score\n",
    "classification_rep = classification_report(y_valid, y_pred, target_names=list(category_mapper.keys()))\n",
    "f1 = f1_score(y_valid, y_pred, average='weighted')\n",
    "\n",
    "# Print model evaluation metrics\n",
    "print(\"Classification Report:\\n\", classification_rep)\n",
    "print(\"\\nWeighted F1 Score:\", f1)\n"
   ]
  },
  {
   "cell_type": "markdown",
   "metadata": {},
   "source": [
    "# CV evalaution"
   ]
  },
  {
   "cell_type": "code",
   "execution_count": 116,
   "metadata": {
    "execution": {
     "iopub.execute_input": "2025-02-05T21:15:11.331192Z",
     "iopub.status.busy": "2025-02-05T21:15:11.330760Z",
     "iopub.status.idle": "2025-02-05T21:15:12.164476Z",
     "shell.execute_reply": "2025-02-05T21:15:12.163309Z",
     "shell.execute_reply.started": "2025-02-05T21:15:11.331158Z"
    }
   },
   "outputs": [
    {
     "data": {
      "text/html": [
       "\n",
       "            <style>\n",
       "                .geemap-dark {\n",
       "                    --jp-widgets-color: white;\n",
       "                    --jp-widgets-label-color: white;\n",
       "                    --jp-ui-font-color1: white;\n",
       "                    --jp-layout-color2: #454545;\n",
       "                    background-color: #383838;\n",
       "                }\n",
       "\n",
       "                .geemap-dark .jupyter-button {\n",
       "                    --jp-layout-color3: #383838;\n",
       "                }\n",
       "\n",
       "                .geemap-colab {\n",
       "                    background-color: var(--colab-primary-surface-color, white);\n",
       "                }\n",
       "\n",
       "                .geemap-colab .jupyter-button {\n",
       "                    --jp-layout-color3: var(--colab-primary-surface-color, white);\n",
       "                }\n",
       "            </style>\n",
       "            "
      ],
      "text/plain": [
       "<IPython.core.display.HTML object>"
      ]
     },
     "metadata": {},
     "output_type": "display_data"
    },
    {
     "name": "stdout",
     "output_type": "stream",
     "text": [
      "\n",
      "Final Weighted F1 Score: 0.7049391759172885\n"
     ]
    }
   ],
   "source": [
    "from sklearn.metrics import f1_score\n",
    "\n",
    "# Step 1: Predict Healthy vs. Non-Healthy\n",
    "y_pred_binary = svm_model.predict(X_valid)\n",
    "\n",
    "# Step 2: Predict Non-Healthy Types (for non-healthy samples)\n",
    "y_pred_final = np.full_like(y_valid, fill_value=0)  # Default to \"Healthy\" (0)\n",
    "\n",
    "# Apply second model only to non-healthy predictions\n",
    "non_healthy_indices = np.where(y_pred_binary == 1)[0]\n",
    "if len(non_healthy_indices) > 0:\n",
    "    y_pred_final[non_healthy_indices] = model_nh.predict(X_valid.iloc[non_healthy_indices])\n",
    "\n",
    "# Step 3: Compute the F1-score\n",
    "final_f1 = f1_score(y_valid, y_pred_final, average='weighted')\n",
    "\n",
    "print(\"\\nFinal Weighted F1 Score:\", final_f1)\n"
   ]
  },
  {
   "cell_type": "code",
   "execution_count": null,
   "metadata": {
    "execution": {
     "iopub.status.busy": "2025-02-05T19:58:10.442302Z",
     "iopub.status.idle": "2025-02-05T19:58:10.442624Z",
     "shell.execute_reply": "2025-02-05T19:58:10.442500Z"
    }
   },
   "outputs": [],
   "source": [
    "from lightgbm import LGBMClassifier\n",
    "from sklearn.model_selection import StratifiedKFold\n",
    "from sklearn.metrics import f1_score, classification_report\n",
    "import numpy as np\n",
    "\n",
    "# Configuration dictionary for LightGBM parameters\n",
    "config_dict = {\n",
    "    'boosting_type': 'gbdt',\n",
    "    'objective': 'multiclass',\n",
    "    'metric': 'multi_logloss',\n",
    "    'num_class': len(category_mapper),  # Number of classes in the target\n",
    "    'num_leaves': 81,\n",
    "    'learning_rate': 0.01,\n",
    "    'n_estimators': 500,\n",
    "    'random_state': 42,\n",
    "    'force_row_wise': 'true'\n",
    "}\n",
    "\n",
    "# Initialize cross-validation strategy\n",
    "n_splits = 5\n",
    "skf = StratifiedKFold(n_splits=n_splits, shuffle=True, random_state=42)\n",
    "\n",
    "# Store F1 scores\n",
    "f1_scores = []\n",
    "\n",
    "# Perform cross-validation\n",
    "for train_idx, valid_idx in skf.split(X, y):\n",
    "    X_train, X_valid = X.iloc[train_idx], X.iloc[valid_idx]\n",
    "    y_train, y_valid = y.iloc[train_idx], y.iloc[valid_idx]\n",
    "\n",
    "\n",
    "    # Initialize and train the model\n",
    "    model = LGBMClassifier(**config_dict)\n",
    "    model.fit(X_train, y_train, eval_set=[(X_valid, y_valid)])\n",
    "\n",
    "    # Predict on the validation set\n",
    "    y_pred = model.predict(X_valid)\n",
    "\n",
    "    # Compute F1 score\n",
    "    f1 = f1_score(y_valid, y_pred, average='weighted')\n",
    "    f1_scores.append(f1)\n",
    "\n",
    "    # Optional: Print classification report for each fold\n",
    "    print(f\"Fold {len(f1_scores)} Classification Report:\\n\", classification_report(y_valid, y_pred, target_names=list(category_mapper.keys())))\n",
    "\n",
    "# Compute and print the final average F1 score\n",
    "mean_f1 = np.mean(f1_scores)\n",
    "print(f\"\\nFinal Mean Weighted F1 Score: {mean_f1:.4f} ± {np.std(f1_scores):.4f}\")\n"
   ]
  },
  {
   "cell_type": "markdown",
   "metadata": {},
   "source": [
    "## Combine with XGB"
   ]
  },
  {
   "cell_type": "code",
   "execution_count": null,
   "metadata": {
    "execution": {
     "iopub.status.busy": "2025-02-05T19:58:10.443842Z",
     "iopub.status.idle": "2025-02-05T19:58:10.444408Z",
     "shell.execute_reply": "2025-02-05T19:58:10.444182Z"
    }
   },
   "outputs": [],
   "source": [
    "from lightgbm import LGBMClassifier\n",
    "from xgboost import XGBClassifier\n",
    "from sklearn.model_selection import StratifiedKFold\n",
    "from sklearn.metrics import f1_score, classification_report\n",
    "import numpy as np\n",
    "from scipy.special import boxcox1p\n",
    "from scipy.stats import skew\n",
    "\n",
    "# Preprocess data: Remove multicollinear features\n",
    "corr_matrix = X.corr().abs()\n",
    "threshold = 0.9\n",
    "upper = corr_matrix.where(np.triu(np.ones(corr_matrix.shape), k=1).astype(bool))\n",
    "to_drop = [column for column in upper.columns if any(upper[column] > threshold)]\n",
    "X = X.drop(columns=to_drop)\n",
    "import numpy as np\n",
    "\n",
    "# Replace infinity values with NaN\n",
    "X.replace([np.inf, -np.inf], np.nan, inplace=True)\n",
    "# Fill NaNs with mean or median\n",
    "X.fillna(X.median(), inplace=True)\n",
    "\n",
    "# Fix skewness using Box-Cox or log1p\n",
    "skewed_features = X.apply(skew).sort_values(ascending=False)\n",
    "skew_threshold = 0.75\n",
    "for feature in skewed_features[skewed_features > skew_threshold].index:\n",
    "    if (X[feature] > 0).all():\n",
    "        X[feature] = boxcox1p(X[feature], 0.15)  # Box-Cox\n",
    "    else:\n",
    "        X[feature] = np.log1p(X[feature])  # Log1p for zero/negative values\n",
    "\n",
    "# LightGBM configuration\n",
    "lgb_config = {\n",
    "    'boosting_type': 'gbdt',\n",
    "    'objective': 'multiclass',\n",
    "    'metric': 'multi_logloss',\n",
    "    'num_class': len(category_mapper),\n",
    "    'num_leaves': 81,\n",
    "    'learning_rate': 0.01,\n",
    "    'n_estimators': 500,\n",
    "    'random_state': 42,\n",
    "    'force_row_wise': 'true'\n",
    "}\n",
    "\n",
    "# XGBoost configuration\n",
    "xgb_config = {\n",
    "    'objective': 'multi:softmax',\n",
    "    'num_class': len(category_mapper),\n",
    "    'learning_rate': 0.01,\n",
    "    'n_estimators': 500,\n",
    "    'max_depth': 7,\n",
    "    'subsample': 0.8,\n",
    "    'colsample_bytree': 0.8,\n",
    "    'random_state': 42\n",
    "}\n",
    "\n",
    "# Initialize cross-validation\n",
    "n_splits = 5\n",
    "skf = StratifiedKFold(n_splits=n_splits, shuffle=True, random_state=42)\n",
    "f1_scores = []\n",
    "\n",
    "# Cross-validation loop\n",
    "for train_idx, valid_idx in skf.split(X, y):\n",
    "    X_train, X_valid = X.iloc[train_idx], X.iloc[valid_idx]\n",
    "    y_train, y_valid = y.iloc[train_idx], y.iloc[valid_idx]\n",
    "\n",
    "    # Train LightGBM\n",
    "    lgb_model = LGBMClassifier(**lgb_config)\n",
    "    lgb_model.fit(X_train, y_train, eval_set=[(X_valid, y_valid)])\n",
    "    lgb_pred = lgb_model.predict(X_valid)\n",
    "\n",
    "    # Train XGBoost\n",
    "    xgb_model = XGBClassifier(**xgb_config)\n",
    "    xgb_model.fit(X_train, y_train, eval_set=[(X_valid, y_valid)])\n",
    "    xgb_pred = xgb_model.predict(X_valid)\n",
    "\n",
    "    # Ensemble: Average predictions\n",
    "    final_pred = np.round((lgb_pred + xgb_pred) / 2).astype(int)\n",
    "\n",
    "    # Compute F1 score\n",
    "    f1 = f1_score(y_valid, final_pred, average='weighted')\n",
    "    f1_scores.append(f1)\n",
    "\n",
    "    # Print classification report\n",
    "    print(f\"Fold {len(f1_scores)} Classification Report:\\n\", classification_report(y_valid, final_pred, target_names=list(category_mapper.keys())))\n",
    "\n",
    "# Compute final F1 score\n",
    "mean_f1 = np.mean(f1_scores)\n",
    "print(f\"\\nFinal Mean Weighted F1 Score: {mean_f1:.4f} ± {np.std(f1_scores):.4f}\")\n"
   ]
  },
  {
   "cell_type": "markdown",
   "metadata": {
    "id": "0YZwddCUm42T"
   },
   "source": [
    " # Submit"
   ]
  },
  {
   "cell_type": "code",
   "execution_count": 63,
   "metadata": {
    "execution": {
     "iopub.execute_input": "2025-02-05T20:32:37.391673Z",
     "iopub.status.busy": "2025-02-05T20:32:37.391259Z",
     "iopub.status.idle": "2025-02-05T20:32:37.487366Z",
     "shell.execute_reply": "2025-02-05T20:32:37.485853Z",
     "shell.execute_reply.started": "2025-02-05T20:32:37.391638Z"
    }
   },
   "outputs": [
    {
     "data": {
      "text/html": [
       "\n",
       "            <style>\n",
       "                .geemap-dark {\n",
       "                    --jp-widgets-color: white;\n",
       "                    --jp-widgets-label-color: white;\n",
       "                    --jp-ui-font-color1: white;\n",
       "                    --jp-layout-color2: #454545;\n",
       "                    background-color: #383838;\n",
       "                }\n",
       "\n",
       "                .geemap-dark .jupyter-button {\n",
       "                    --jp-layout-color3: #383838;\n",
       "                }\n",
       "\n",
       "                .geemap-colab {\n",
       "                    background-color: var(--colab-primary-surface-color, white);\n",
       "                }\n",
       "\n",
       "                .geemap-colab .jupyter-button {\n",
       "                    --jp-layout-color3: var(--colab-primary-surface-color, white);\n",
       "                }\n",
       "            </style>\n",
       "            "
      ],
      "text/plain": [
       "<IPython.core.display.HTML object>"
      ]
     },
     "metadata": {},
     "output_type": "display_data"
    },
    {
     "name": "stdout",
     "output_type": "stream",
     "text": [
      "✅ Submission file 'submission.csv' created successfully!\n"
     ]
    }
   ],
   "source": [
    "# Load sample submission file\n",
    "sample_submission = pd.read_csv(root_path / \"SampleSubmission.csv\")\n",
    "# Replace infinity values with NaN\n",
    "test_encoded.replace([np.inf, -np.inf], np.nan, inplace=True)\n",
    "# Fill NaNs with mean or median\n",
    "test_encoded.fillna(X.median(), inplace=True)\n",
    "\n",
    "# Step 1: Predict Healthy vs. Non-Healthy\n",
    "binary_predictions = tree_model.predict(test_encoded.drop(columns=['target']))\n",
    "\n",
    "# Step 2: Initialize final predictions (default to \"Healthy\")\n",
    "final_predictions = np.full_like(binary_predictions, fill_value=0)\n",
    "\n",
    "# Step 3: Identify Non-Healthy samples\n",
    "non_healthy_indices = np.where(binary_predictions == 1)[0]\n",
    "\n",
    "# Step 4: Use model_nh to classify Non-Healthy samples\n",
    "if len(non_healthy_indices) > 0:\n",
    "    final_predictions[non_healthy_indices] = model_nh.predict(test_encoded.iloc[non_healthy_indices].drop(columns=['target']))\n",
    "\n",
    "# Step 5: Convert predictions to a Pandas Series & map category names\n",
    "sample_submission['Target'] = pd.Series(final_predictions).map(idx_to_category_mapper)\n",
    "\n",
    "# Step 6: Save to submission file\n",
    "sample_submission.to_csv('submission.csv', index=False)\n",
    "\n",
    "print(\"✅ Submission file 'submission.csv' created successfully!\")\n"
   ]
  },
  {
   "cell_type": "code",
   "execution_count": null,
   "metadata": {
    "execution": {
     "iopub.status.busy": "2025-02-05T19:58:10.445213Z",
     "iopub.status.idle": "2025-02-05T19:58:10.446009Z",
     "shell.execute_reply": "2025-02-05T19:58:10.445447Z"
    },
    "id": "uz-a90EvqbcR",
    "outputId": "1df03297-2b70-424c-8396-9639700b0af6"
   },
   "outputs": [],
   "source": [
    "# Load submission file\n",
    "sample_submission = pd.read_csv(root_path / \"SampleSubmission.csv\")\n",
    "\n",
    "# Predict on the test set\n",
    "test_predictions = model.predict(test_encoded.drop(columns=['target']))  # Drop 'FarmID' if it exists in test_encoded\n",
    "\n",
    "# Fill sample_submission.csv & Save\n",
    "sample_submission['Target'] = test_predictions\n",
    "sample_submission['Target'] = sample_submission['Target'].astype(int).map(idx_to_category_mapper)\n",
    "sample_submission.to_csv('submission10+.csv', index=False)"
   ]
  },
  {
   "cell_type": "code",
   "execution_count": null,
   "metadata": {
    "execution": {
     "iopub.status.busy": "2025-02-05T19:58:10.446710Z",
     "iopub.status.idle": "2025-02-05T19:58:10.447207Z",
     "shell.execute_reply": "2025-02-05T19:58:10.447064Z"
    },
    "id": "zO5nbTFeK1dk",
    "outputId": "c744b19e-a439-4285-c20f-f734a2903c92"
   },
   "outputs": [],
   "source": [
    "sample_submission.head()"
   ]
  },
  {
   "cell_type": "code",
   "execution_count": null,
   "metadata": {},
   "outputs": [],
   "source": []
  }
 ],
 "metadata": {
  "colab": {
   "provenance": []
  },
  "kaggle": {
   "accelerator": "none",
   "dataSources": [
    {
     "datasetId": 6399775,
     "sourceId": 10335506,
     "sourceType": "datasetVersion"
    },
    {
     "datasetId": 6605032,
     "sourceId": 10664949,
     "sourceType": "datasetVersion"
    },
    {
     "sourceId": 208588107,
     "sourceType": "kernelVersion"
    }
   ],
   "dockerImageVersionId": 30840,
   "isGpuEnabled": false,
   "isInternetEnabled": true,
   "language": "python",
   "sourceType": "notebook"
  },
  "kernelspec": {
   "display_name": "Python 3 (ipykernel)",
   "language": "python",
   "name": "python3"
  },
  "language_info": {
   "codemirror_mode": {
    "name": "ipython",
    "version": 3
   },
   "file_extension": ".py",
   "mimetype": "text/x-python",
   "name": "python",
   "nbconvert_exporter": "python",
   "pygments_lexer": "ipython3",
   "version": "3.12.2"
  }
 },
 "nbformat": 4,
 "nbformat_minor": 4
}
